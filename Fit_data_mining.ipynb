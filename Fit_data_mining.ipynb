{
 "cells": [
  {
   "cell_type": "markdown",
   "metadata": {},
   "source": [
    "# Fouille des données Fit"
   ]
  },
  {
   "cell_type": "markdown",
   "metadata": {},
   "source": [
    "## Importation des librairies"
   ]
  },
  {
   "cell_type": "code",
   "execution_count": 1,
   "metadata": {},
   "outputs": [],
   "source": [
    "import xmltodict\n",
    "import json\n",
    "import pandas\n",
    "import matplotlib\n",
    "import numpy as np\n",
    "np.set_printoptions(threshold=10000,suppress=True)\n",
    "import warnings\n",
    "import matplotlib.pyplot as plt\n",
    "warnings.filterwarnings('ignore')\n",
    "import pandas\n",
    "import matplotlib.pyplot as plt\n",
    "import re\n",
    "import datetime\n",
    "import sklearn.cluster as cluster\n",
    "from sklearn.preprocessing import StandardScaler\n",
    "import csv"
   ]
  },
  {
   "cell_type": "markdown",
   "metadata": {},
   "source": [
    "## Activité hebdomadaire"
   ]
  },
  {
   "cell_type": "markdown",
   "metadata": {},
   "source": [
    "### Lecture du fichier\n",
    "\n",
    "Afin de faciliter le parsing des données, nous les convertissons au format \"json\"\n",
    "\n",
    "Ci-dessous, une fonction qui prend en entér un fichier csv et le convertit en fichier json"
   ]
  },
  {
   "cell_type": "code",
   "execution_count": 2,
   "metadata": {},
   "outputs": [],
   "source": [
    "def csv_to_json(csvFilePath, jsonFilePath):\n",
    "    jsonArray = []\n",
    "      \n",
    "    #read csv file\n",
    "    with open(csvFilePath, encoding='utf-8') as csvf: \n",
    "        #load csv file data using csv library's dictionary reader\n",
    "        csvReader = csv.DictReader(csvf) \n",
    "\n",
    "        #convert each csv row into python dict\n",
    "        for row in csvReader: \n",
    "            #add this python dict to json array\n",
    "            jsonArray.append(row)\n",
    "  \n",
    "    #convert python jsonArray to JSON String and write to file\n",
    "    with open(jsonFilePath, 'w', encoding='utf-8') as jsonf: \n",
    "        jsonString = json.dumps(jsonArray, indent=4)\n",
    "        jsonf.write(jsonString)"
   ]
  },
  {
   "cell_type": "code",
   "execution_count": 3,
   "metadata": {},
   "outputs": [],
   "source": [
    "fileCsv=r'Résumés_quotidiens.csv'\n",
    "fileJson=r'Res.json'\n",
    "csv_to_json(fileCsv,fileJson)"
   ]
  },
  {
   "cell_type": "markdown",
   "metadata": {},
   "source": [
    "Le fichier **Résumes quotidiens.csv** regroupe des données relatives à plusieurs jours. Il contient, entre autres, la date, les calories brulées, le nombre de minutes d'activité, la distance parcourue ..."
   ]
  },
  {
   "cell_type": "code",
   "execution_count": 4,
   "metadata": {},
   "outputs": [],
   "source": [
    "#ouvrir le fichier json\n",
    "with open('Res.json') as file:\n",
    "    jsonRes= json.load(file)"
   ]
  },
  {
   "cell_type": "markdown",
   "metadata": {},
   "source": [
    "### Formatage des données"
   ]
  },
  {
   "cell_type": "markdown",
   "metadata": {},
   "source": [
    "Nous données ne nous informent pas du jour de semaine correspondant à chaque date, \n",
    "\n",
    "pour ce faire, nous exécutons le code ci-dessous:"
   ]
  },
  {
   "cell_type": "code",
   "execution_count": 5,
   "metadata": {},
   "outputs": [],
   "source": [
    "#parcourir les lignes et attribuer à chaque date son jour de semaine\n",
    "days = [\"Monday\", \"Tuesday\", \"Wednesday\", \"Thursday\", \"Friday\", \"Saturday\", \"Sunday\"]\n",
    "l=[]\n",
    "for i in jsonRes:\n",
    "    a=i['Date']\n",
    "    l=a.split('-')\n",
    "    intDay = datetime.date(year=int(l[0]), month=int(l[1]), day=int(l[2])).weekday()\n",
    "    i['Jour']=days[intDay]"
   ]
  },
  {
   "cell_type": "markdown",
   "metadata": {},
   "source": [
    "Nous récupérons uniquement les données qui nous intéressent, \n",
    "\n",
    "Ici, nous allons nous intéresser aux distances parcourues par jour (et aussi le nombre de pas)"
   ]
  },
  {
   "cell_type": "code",
   "execution_count": 6,
   "metadata": {},
   "outputs": [],
   "source": [
    "list_jours=[]\n",
    "n=0\n",
    "for i in jsonRes:\n",
    "    Dico_jours={}\n",
    "    n=n+1\n",
    "    Dico_jours['Jour']=i['Jour']\n",
    "    Dico_jours['Date']=i['Date']\n",
    "    try:\n",
    "        Dico_jours['Distance (m)']=float(i['Distance (m)'])\n",
    "    except:\n",
    "        Dico_jours['Distance (m)']=0\n",
    "    Dico_jours['Nombre de pas']=int(i['Nombre de pas'])\n",
    "    list_jours.append(Dico_jours)\n",
    "    n=n+1\n",
    "#print(list_jours)"
   ]
  },
  {
   "cell_type": "markdown",
   "metadata": {},
   "source": [
    "Nous transformons les données qui nous intéressent en dataframe afin que ce soit plus simple à manipuler par la suite"
   ]
  },
  {
   "cell_type": "code",
   "execution_count": 7,
   "metadata": {},
   "outputs": [
    {
     "data": {
      "text/html": [
       "<div>\n",
       "<style scoped>\n",
       "    .dataframe tbody tr th:only-of-type {\n",
       "        vertical-align: middle;\n",
       "    }\n",
       "\n",
       "    .dataframe tbody tr th {\n",
       "        vertical-align: top;\n",
       "    }\n",
       "\n",
       "    .dataframe thead th {\n",
       "        text-align: right;\n",
       "    }\n",
       "</style>\n",
       "<table border=\"1\" class=\"dataframe\">\n",
       "  <thead>\n",
       "    <tr style=\"text-align: right;\">\n",
       "      <th></th>\n",
       "      <th>Jours</th>\n",
       "      <th>Dates</th>\n",
       "      <th>Distances</th>\n",
       "    </tr>\n",
       "  </thead>\n",
       "  <tbody>\n",
       "    <tr>\n",
       "      <th>0</th>\n",
       "      <td>Friday</td>\n",
       "      <td>2020-10-09</td>\n",
       "      <td>2860.575053</td>\n",
       "    </tr>\n",
       "    <tr>\n",
       "      <th>1</th>\n",
       "      <td>Saturday</td>\n",
       "      <td>2020-10-10</td>\n",
       "      <td>3373.796407</td>\n",
       "    </tr>\n",
       "    <tr>\n",
       "      <th>2</th>\n",
       "      <td>Sunday</td>\n",
       "      <td>2020-10-11</td>\n",
       "      <td>524.743626</td>\n",
       "    </tr>\n",
       "    <tr>\n",
       "      <th>3</th>\n",
       "      <td>Monday</td>\n",
       "      <td>2020-10-12</td>\n",
       "      <td>2339.617304</td>\n",
       "    </tr>\n",
       "    <tr>\n",
       "      <th>4</th>\n",
       "      <td>Tuesday</td>\n",
       "      <td>2020-10-13</td>\n",
       "      <td>1940.035948</td>\n",
       "    </tr>\n",
       "    <tr>\n",
       "      <th>...</th>\n",
       "      <td>...</td>\n",
       "      <td>...</td>\n",
       "      <td>...</td>\n",
       "    </tr>\n",
       "    <tr>\n",
       "      <th>97</th>\n",
       "      <td>Thursday</td>\n",
       "      <td>2021-01-14</td>\n",
       "      <td>3476.782690</td>\n",
       "    </tr>\n",
       "    <tr>\n",
       "      <th>98</th>\n",
       "      <td>Friday</td>\n",
       "      <td>2021-01-15</td>\n",
       "      <td>3332.903255</td>\n",
       "    </tr>\n",
       "    <tr>\n",
       "      <th>99</th>\n",
       "      <td>Saturday</td>\n",
       "      <td>2021-01-16</td>\n",
       "      <td>2729.618742</td>\n",
       "    </tr>\n",
       "    <tr>\n",
       "      <th>100</th>\n",
       "      <td>Sunday</td>\n",
       "      <td>2021-01-17</td>\n",
       "      <td>115.356933</td>\n",
       "    </tr>\n",
       "    <tr>\n",
       "      <th>101</th>\n",
       "      <td>Monday</td>\n",
       "      <td>2021-01-18</td>\n",
       "      <td>23.471999</td>\n",
       "    </tr>\n",
       "  </tbody>\n",
       "</table>\n",
       "<p>102 rows × 3 columns</p>\n",
       "</div>"
      ],
      "text/plain": [
       "        Jours       Dates    Distances\n",
       "0      Friday  2020-10-09  2860.575053\n",
       "1    Saturday  2020-10-10  3373.796407\n",
       "2      Sunday  2020-10-11   524.743626\n",
       "3      Monday  2020-10-12  2339.617304\n",
       "4     Tuesday  2020-10-13  1940.035948\n",
       "..        ...         ...          ...\n",
       "97   Thursday  2021-01-14  3476.782690\n",
       "98     Friday  2021-01-15  3332.903255\n",
       "99   Saturday  2021-01-16  2729.618742\n",
       "100    Sunday  2021-01-17   115.356933\n",
       "101    Monday  2021-01-18    23.471999\n",
       "\n",
       "[102 rows x 3 columns]"
      ]
     },
     "execution_count": 7,
     "metadata": {},
     "output_type": "execute_result"
    }
   ],
   "source": [
    "Dates = [i['Date'] for i in list_jours]\n",
    "Jours = [i['Jour'] for i in list_jours]\n",
    "Distances = [i['Distance (m)'] for i in list_jours]\n",
    "\n",
    "df = pandas.DataFrame({'Jours':Jours, 'Dates':Dates, 'Distances':Distances})\n",
    "#df['Heures']  = [pandas.to_datetime(i) for i in df['Heures']]\n",
    "\n",
    "\n",
    "df.sort_values(by='Dates')"
   ]
  },
  {
   "cell_type": "code",
   "execution_count": 8,
   "metadata": {},
   "outputs": [
    {
     "data": {
      "text/plain": [
       "<function matplotlib.pyplot.show(close=None, block=None)>"
      ]
     },
     "execution_count": 8,
     "metadata": {},
     "output_type": "execute_result"
    },
    {
     "data": {
      "image/png": "[encoded data removed]",
      "text/plain": [
       "<Figure size 432x288 with 1 Axes>"
      ]
     },
     "metadata": {
      "needs_background": "light"
     },
     "output_type": "display_data"
    }
   ],
   "source": [
    "plt.barh(Dates[15:29], Distances[15:29])\n",
    "plt.show"
   ]
  },
  {
   "cell_type": "markdown",
   "metadata": {},
   "source": [
    "L'histogramme ci-dessus représente la distance parcours en fonction des jours de la semaine, sur une semaine donnée (ici sur la première semaine du fichier)"
   ]
  },
  {
   "cell_type": "markdown",
   "metadata": {},
   "source": [
    "Nous pouvons remarquer que la distance parcourue change d'un jour à l'autre, ce qui est logique et représentatif de l'activité qu'un individu puisse avoir au cours d'une semaine."
   ]
  },
  {
   "cell_type": "markdown",
   "metadata": {},
   "source": [
    "### Clustering avec kmeans"
   ]
  },
  {
   "cell_type": "markdown",
   "metadata": {},
   "source": [
    "Nous définissons les variables dont nous aurons besoin pour la générations des clusters"
   ]
  },
  {
   "cell_type": "code",
   "execution_count": 9,
   "metadata": {},
   "outputs": [],
   "source": [
    "X=df.iloc[:,2]\n",
    "labels=df.iloc[:,0]\n",
    "X=np.array(X)\n",
    "X = X.reshape(1,-1)"
   ]
  },
  {
   "cell_type": "markdown",
   "metadata": {},
   "source": [
    "Nous appliquons ensuite l'algorithme kmeans pour générer les clusters\n",
    "\n",
    "Nous commençons par utiliser metrics.silouette_score() afin de savoir le nombre de clusters que l'on devrait garder"
   ]
  },
  {
   "cell_type": "code",
   "execution_count": 10,
   "metadata": {},
   "outputs": [
    {
     "name": "stdout",
     "output_type": "stream",
     "text": [
      "0.656006356891866\n",
      "0.6598847778687352\n",
      "\n"
     ]
    }
   ],
   "source": [
    "###tester nb clusters\n",
    "from sklearn import metrics\n",
    "for i in np.arange(2, 4):\n",
    "    clustering = cluster.KMeans(n_clusters=i).fit_predict(X.reshape(-1,1))\n",
    "    print(metrics.silhouette_score(X.reshape(-1,1), clustering,metric='euclidean'))\n",
    "print()"
   ]
  },
  {
   "cell_type": "markdown",
   "metadata": {},
   "source": [
    "Nous remarquons que le différence est très petite entre les deux valeurs (0.003), ça ne fait pas vraiment de différence. \n",
    "\n",
    "Nous décidons de garder deux clusters uniquement:\n",
    "\n",
    "- C0: Activité importante: l'individu marche beaucoup\n",
    "\n",
    "- C1: Activité faible: l'individu marche peu"
   ]
  },
  {
   "cell_type": "code",
   "execution_count": 10,
   "metadata": {},
   "outputs": [
    {
     "name": "stdout",
     "output_type": "stream",
     "text": [
      "[0 0 1 0 1 1 0 1 1 1 1 1 1 1 1 0 1 0 0 1 0 0 1 1 1 1 1 0 0 1 1 1 0 1 1 0 1\n",
      " 1 1 0 0 0 0 1 1 1 0 0 0 0 1 1 1 0 1 0 1 0 1 1 0 1 0 1 1 1 1 1 1 0 0 1 0 0\n",
      " 0 1 0 0 1 1 1 1 1 1 1 1 1 0 1 1 0 1 1 1 1 0 1 0 0 0 1 1]\n"
     ]
    },
    {
     "data": {
      "text/plain": [
       "array([[3886.80052418],\n",
       "       [ 718.3269001 ]])"
      ]
     },
     "execution_count": 10,
     "metadata": {},
     "output_type": "execute_result"
    }
   ],
   "source": [
    "kmeans = cluster.KMeans(n_clusters=2, random_state=0).fit(X.reshape(-1,1))\n",
    "\n",
    "clustering = kmeans.labels_\n",
    "\n",
    "print(clustering)\n",
    "\n",
    "kmeans.cluster_centers_"
   ]
  },
  {
   "cell_type": "markdown",
   "metadata": {},
   "source": [
    "Nous faisons une petite présentation graphique des deux clusters sur deux semaines (que l'on choisit)\n",
    "\n",
    "Nous choisissons de mettre en avant **les jours de semaine**, car nous voudrions voir **quels sont les jours de la semaine l'individu marche le plus (est plus actif)**"
   ]
  },
  {
   "cell_type": "code",
   "execution_count": 11,
   "metadata": {},
   "outputs": [
    {
     "data": {
      "image/png": "[encoded data removed]",
      "text/plain": [
       "<Figure size 432x288 with 1 Axes>"
      ]
     },
     "metadata": {
      "needs_background": "light"
     },
     "output_type": "display_data"
    }
   ],
   "source": [
    "colors = ['green','pink']\n",
    "\n",
    "plt.scatter(X[0,0:15], clustering[0:15], c= clustering[0:15], cmap=matplotlib.colors.ListedColormap(colors))\n",
    "for label, x, y in zip(labels[0:15], X[0,0:15], clustering[0:15]):\n",
    "    plt.annotate(label, xy=(x, y), xytext=(5, 5), textcoords='offset points',rotation=90)\n",
    "plt.xlabel('Distances en mètres')\n",
    "plt.ylabel('Clusters')\n",
    "plt.show()"
   ]
  },
  {
   "cell_type": "markdown",
   "metadata": {},
   "source": [
    "=> En rose, nous avons les jours où l'individu aurait le moins marché\n",
    "\n",
    "=> En vert, nous aurons les jours où l'individu aurait le plus marché"
   ]
  },
  {
   "cell_type": "markdown",
   "metadata": {},
   "source": [
    "Nous pouvons remarquer que certains jours de semaine sont présents dans les deux clusters, ce qui est normal, car en fonction des semaines, une personne pourrait avoir une activité importante ou moins importante les mêmes jours de la semaine\n",
    "\n",
    "Exemple: Une personne *lambda* marche dans un parc chaque lundi en fin de journée\n",
    "    \n",
    "- Un lundi de la semaine x, la personne va marcher en fin de journée\n",
    "\n",
    "- Un lundi de la semaine y, il pleut fort, la personne ne pourra pas aller faire son tour au parc"
   ]
  },
  {
   "cell_type": "markdown",
   "metadata": {},
   "source": [
    "Afin d'avoir l'activité **hebdomadaire type** d'une personne, nous généralisons tout cela,\n",
    "\n",
    "C'est pourquoi nous allons compter le nombre d'occurences de chaque jour de la semaine dans le cluster_0(*marche_importante*) et dans le cluster_1(*marche_faible*)\n"
   ]
  },
  {
   "cell_type": "code",
   "execution_count": 12,
   "metadata": {},
   "outputs": [
    {
     "data": {
      "text/html": [
       "<div>\n",
       "<style scoped>\n",
       "    .dataframe tbody tr th:only-of-type {\n",
       "        vertical-align: middle;\n",
       "    }\n",
       "\n",
       "    .dataframe tbody tr th {\n",
       "        vertical-align: top;\n",
       "    }\n",
       "\n",
       "    .dataframe thead th {\n",
       "        text-align: right;\n",
       "    }\n",
       "</style>\n",
       "<table border=\"1\" class=\"dataframe\">\n",
       "  <thead>\n",
       "    <tr style=\"text-align: right;\">\n",
       "      <th></th>\n",
       "      <th>Jours</th>\n",
       "      <th>Dates</th>\n",
       "      <th>Distances</th>\n",
       "      <th>clusters</th>\n",
       "    </tr>\n",
       "  </thead>\n",
       "  <tbody>\n",
       "    <tr>\n",
       "      <th>0</th>\n",
       "      <td>Friday</td>\n",
       "      <td>2020-10-09</td>\n",
       "      <td>2860.575053</td>\n",
       "      <td>0</td>\n",
       "    </tr>\n",
       "    <tr>\n",
       "      <th>1</th>\n",
       "      <td>Saturday</td>\n",
       "      <td>2020-10-10</td>\n",
       "      <td>3373.796407</td>\n",
       "      <td>0</td>\n",
       "    </tr>\n",
       "    <tr>\n",
       "      <th>2</th>\n",
       "      <td>Sunday</td>\n",
       "      <td>2020-10-11</td>\n",
       "      <td>524.743626</td>\n",
       "      <td>1</td>\n",
       "    </tr>\n",
       "    <tr>\n",
       "      <th>3</th>\n",
       "      <td>Monday</td>\n",
       "      <td>2020-10-12</td>\n",
       "      <td>2339.617304</td>\n",
       "      <td>0</td>\n",
       "    </tr>\n",
       "    <tr>\n",
       "      <th>4</th>\n",
       "      <td>Tuesday</td>\n",
       "      <td>2020-10-13</td>\n",
       "      <td>1940.035948</td>\n",
       "      <td>1</td>\n",
       "    </tr>\n",
       "    <tr>\n",
       "      <th>...</th>\n",
       "      <td>...</td>\n",
       "      <td>...</td>\n",
       "      <td>...</td>\n",
       "      <td>...</td>\n",
       "    </tr>\n",
       "    <tr>\n",
       "      <th>97</th>\n",
       "      <td>Thursday</td>\n",
       "      <td>2021-01-14</td>\n",
       "      <td>3476.782690</td>\n",
       "      <td>0</td>\n",
       "    </tr>\n",
       "    <tr>\n",
       "      <th>98</th>\n",
       "      <td>Friday</td>\n",
       "      <td>2021-01-15</td>\n",
       "      <td>3332.903255</td>\n",
       "      <td>0</td>\n",
       "    </tr>\n",
       "    <tr>\n",
       "      <th>99</th>\n",
       "      <td>Saturday</td>\n",
       "      <td>2021-01-16</td>\n",
       "      <td>2729.618742</td>\n",
       "      <td>0</td>\n",
       "    </tr>\n",
       "    <tr>\n",
       "      <th>100</th>\n",
       "      <td>Sunday</td>\n",
       "      <td>2021-01-17</td>\n",
       "      <td>115.356933</td>\n",
       "      <td>1</td>\n",
       "    </tr>\n",
       "    <tr>\n",
       "      <th>101</th>\n",
       "      <td>Monday</td>\n",
       "      <td>2021-01-18</td>\n",
       "      <td>23.471999</td>\n",
       "      <td>1</td>\n",
       "    </tr>\n",
       "  </tbody>\n",
       "</table>\n",
       "<p>102 rows × 4 columns</p>\n",
       "</div>"
      ],
      "text/plain": [
       "        Jours       Dates    Distances  clusters\n",
       "0      Friday  2020-10-09  2860.575053         0\n",
       "1    Saturday  2020-10-10  3373.796407         0\n",
       "2      Sunday  2020-10-11   524.743626         1\n",
       "3      Monday  2020-10-12  2339.617304         0\n",
       "4     Tuesday  2020-10-13  1940.035948         1\n",
       "..        ...         ...          ...       ...\n",
       "97   Thursday  2021-01-14  3476.782690         0\n",
       "98     Friday  2021-01-15  3332.903255         0\n",
       "99   Saturday  2021-01-16  2729.618742         0\n",
       "100    Sunday  2021-01-17   115.356933         1\n",
       "101    Monday  2021-01-18    23.471999         1\n",
       "\n",
       "[102 rows x 4 columns]"
      ]
     },
     "execution_count": 12,
     "metadata": {},
     "output_type": "execute_result"
    }
   ],
   "source": [
    "dfc=pandas.DataFrame(clustering)\n",
    "dfc.rename(columns = {0: 'clusters'}, inplace = True)\n",
    "dfc\n",
    "mydf=pandas.concat([df, dfc], axis=1)\n",
    "mydf"
   ]
  },
  {
   "cell_type": "code",
   "execution_count": 13,
   "metadata": {},
   "outputs": [],
   "source": [
    "gliste=[]\n",
    "days=['Monday', 'Tuesday','Wednesday', 'Thursday', 'Friday', 'Saturday', 'Sunday']\n",
    "clusters=[0, 1]\n",
    "\n",
    "for c in clusters:\n",
    "    pliste=[]\n",
    "    for d in days:\n",
    "        compteur=0\n",
    "        for i in mydf.values:\n",
    "            if((i[0]== d) and (i[3]==c)):\n",
    "                compteur=compteur+1\n",
    "        pliste.append(compteur)\n",
    "    gliste.append(pliste)"
   ]
  },
  {
   "cell_type": "code",
   "execution_count": 14,
   "metadata": {},
   "outputs": [
    {
     "data": {
      "image/png": "[encoded data removed]",
      "text/plain": [
       "<Figure size 432x288 with 1 Axes>"
      ]
     },
     "metadata": {
      "needs_background": "light"
     },
     "output_type": "display_data"
    }
   ],
   "source": [
    "barWidth = 0.25\n",
    " \n",
    "c0=gliste[0]\n",
    "c1=gliste[1]\n",
    "# Set position of bar on X axis\n",
    "r1 = np.arange(len(c0))\n",
    "r2 = [x + barWidth for x in r1]\n",
    " \n",
    "# Make the plot\n",
    "plt.bar(r1, c0, color='green', width=barWidth, edgecolor='white', label='C0: marche_importante')\n",
    "plt.bar(r2, c1, color='pink', width=barWidth, edgecolor='white', label='C1: marche_faible')\n",
    " \n",
    "# Add xticks on the middle of the group bars\n",
    "plt.xlabel('Jours de la semaine')\n",
    "plt.ylabel(\"Occurences dans les clusters\")\n",
    "plt.xticks([r + barWidth for r in range(len(c0))], days, rotation=90)\n",
    "plt.legend()\n",
    "plt.show()"
   ]
  },
  {
   "cell_type": "markdown",
   "metadata": {},
   "source": [
    "Ce graphique nous informe sur le jours de la semaine où l'activité est plus importante ainsi que ceux où l'activité est plutôt faible"
   ]
  },
  {
   "cell_type": "markdown",
   "metadata": {},
   "source": [
    "## Activité quotidienne"
   ]
  },
  {
   "cell_type": "markdown",
   "metadata": {},
   "source": [
    "Dans cette partie, nous allons nous intéresser à l'activité quotidienne\n",
    "\n",
    "Pour ce faire, nous allons étudier l'activité pour un jour de chacun des clusters précédants\n"
   ]
  },
  {
   "cell_type": "markdown",
   "metadata": {},
   "source": [
    "### Jour du cluster C0"
   ]
  },
  {
   "cell_type": "code",
   "execution_count": 15,
   "metadata": {},
   "outputs": [],
   "source": [
    "csvFilePath0 = r'2020-11-12.csv'\n",
    "jsonFilePath0 = r'2020-11-12.json'\n",
    "csv_to_json(csvFilePath0, jsonFilePath0)\n",
    "#ce jour correspond à un jeudi"
   ]
  },
  {
   "cell_type": "code",
   "execution_count": 16,
   "metadata": {},
   "outputs": [],
   "source": [
    "with open('2020-11-12.json') as file:\n",
    "    jsonData= json.load(file)\n",
    "#print(jsonData)"
   ]
  },
  {
   "cell_type": "markdown",
   "metadata": {},
   "source": [
    "### Formatage des données"
   ]
  },
  {
   "cell_type": "markdown",
   "metadata": {},
   "source": [
    "Pour faciliter l'analyse, nous ne gardons que les lignes où la distance n'est pas nulle/inexistante"
   ]
  },
  {
   "cell_type": "code",
   "execution_count": 17,
   "metadata": {},
   "outputs": [],
   "source": [
    "lis=[]\n",
    "for i in jsonData:\n",
    "    Dico={}\n",
    "    if (i['Distance (m)']!=''):\n",
    "        Dico['Heure_debut']=i['Heure de début']\n",
    "        Dico['Heure_fin']=i['Heure de fin']\n",
    "        Dico['Distance (m)']=float(i['Distance (m)'])\n",
    "        Dico['Nombre de pas']=i['Nombre de pas']\n",
    "        lis.append(Dico)\n",
    "#print(lis)"
   ]
  },
  {
   "cell_type": "code",
   "execution_count": 18,
   "metadata": {},
   "outputs": [
    {
     "data": {
      "text/html": [
       "<div>\n",
       "<style scoped>\n",
       "    .dataframe tbody tr th:only-of-type {\n",
       "        vertical-align: middle;\n",
       "    }\n",
       "\n",
       "    .dataframe tbody tr th {\n",
       "        vertical-align: top;\n",
       "    }\n",
       "\n",
       "    .dataframe thead th {\n",
       "        text-align: right;\n",
       "    }\n",
       "</style>\n",
       "<table border=\"1\" class=\"dataframe\">\n",
       "  <thead>\n",
       "    <tr style=\"text-align: right;\">\n",
       "      <th></th>\n",
       "      <th>Heures</th>\n",
       "      <th>Distances</th>\n",
       "    </tr>\n",
       "  </thead>\n",
       "  <tbody>\n",
       "    <tr>\n",
       "      <th>0</th>\n",
       "      <td>16:30:00.000+01:00</td>\n",
       "      <td>273.045769</td>\n",
       "    </tr>\n",
       "    <tr>\n",
       "      <th>1</th>\n",
       "      <td>16:45:00.000+01:00</td>\n",
       "      <td>47.684713</td>\n",
       "    </tr>\n",
       "    <tr>\n",
       "      <th>2</th>\n",
       "      <td>17:00:00.000+01:00</td>\n",
       "      <td>113.140490</td>\n",
       "    </tr>\n",
       "    <tr>\n",
       "      <th>3</th>\n",
       "      <td>17:15:00.000+01:00</td>\n",
       "      <td>452.974030</td>\n",
       "    </tr>\n",
       "    <tr>\n",
       "      <th>4</th>\n",
       "      <td>17:30:00.000+01:00</td>\n",
       "      <td>389.078837</td>\n",
       "    </tr>\n",
       "    <tr>\n",
       "      <th>5</th>\n",
       "      <td>18:15:00.000+01:00</td>\n",
       "      <td>165.971411</td>\n",
       "    </tr>\n",
       "    <tr>\n",
       "      <th>6</th>\n",
       "      <td>18:30:00.000+01:00</td>\n",
       "      <td>275.641584</td>\n",
       "    </tr>\n",
       "    <tr>\n",
       "      <th>7</th>\n",
       "      <td>18:45:00.000+01:00</td>\n",
       "      <td>22.120937</td>\n",
       "    </tr>\n",
       "    <tr>\n",
       "      <th>8</th>\n",
       "      <td>19:00:00.000+01:00</td>\n",
       "      <td>53.209824</td>\n",
       "    </tr>\n",
       "    <tr>\n",
       "      <th>9</th>\n",
       "      <td>19:15:00.000+01:00</td>\n",
       "      <td>267.008545</td>\n",
       "    </tr>\n",
       "    <tr>\n",
       "      <th>10</th>\n",
       "      <td>19:30:00.000+01:00</td>\n",
       "      <td>20.327349</td>\n",
       "    </tr>\n",
       "    <tr>\n",
       "      <th>11</th>\n",
       "      <td>19:45:00.000+01:00</td>\n",
       "      <td>15.747818</td>\n",
       "    </tr>\n",
       "    <tr>\n",
       "      <th>12</th>\n",
       "      <td>21:30:00.000+01:00</td>\n",
       "      <td>17.935896</td>\n",
       "    </tr>\n",
       "  </tbody>\n",
       "</table>\n",
       "</div>"
      ],
      "text/plain": [
       "                Heures   Distances\n",
       "0   16:30:00.000+01:00  273.045769\n",
       "1   16:45:00.000+01:00   47.684713\n",
       "2   17:00:00.000+01:00  113.140490\n",
       "3   17:15:00.000+01:00  452.974030\n",
       "4   17:30:00.000+01:00  389.078837\n",
       "5   18:15:00.000+01:00  165.971411\n",
       "6   18:30:00.000+01:00  275.641584\n",
       "7   18:45:00.000+01:00   22.120937\n",
       "8   19:00:00.000+01:00   53.209824\n",
       "9   19:15:00.000+01:00  267.008545\n",
       "10  19:30:00.000+01:00   20.327349\n",
       "11  19:45:00.000+01:00   15.747818\n",
       "12  21:30:00.000+01:00   17.935896"
      ]
     },
     "execution_count": 18,
     "metadata": {},
     "output_type": "execute_result"
    }
   ],
   "source": [
    "Heures = [i['Heure_debut'] for i in lis]\n",
    "Distances = [i['Distance (m)'] for i in lis]\n",
    "\n",
    "df = pandas.DataFrame({'Heures':Heures, 'Distances':Distances})\n",
    "#df['Heures']  = [pandas.to_datetime(i) for i in df['Heures']]\n",
    "\n",
    "\n",
    "df.sort_values(by='Heures')"
   ]
  },
  {
   "cell_type": "markdown",
   "metadata": {},
   "source": [
    "Nous représentons cela avec un histogramme afin de voir à quelles heures l'activité est plus importantes, et de l'ordre de combien est-elle"
   ]
  },
  {
   "cell_type": "code",
   "execution_count": 19,
   "metadata": {},
   "outputs": [
    {
     "data": {
      "image/png": "[encoded data removed]",
      "text/plain": [
       "<Figure size 432x288 with 1 Axes>"
      ]
     },
     "metadata": {
      "needs_background": "light"
     },
     "output_type": "display_data"
    }
   ],
   "source": [
    "plt.barh(Heures, Distances)\n",
    "plt.ylabel('Heures')\n",
    "plt.xlabel('Distances en mètres')\n",
    "plt.title('Distances parcourues en fonction du temps')\n",
    "plt.show()"
   ]
  },
  {
   "cell_type": "markdown",
   "metadata": {},
   "source": [
    "### Jour du cluster C1"
   ]
  },
  {
   "cell_type": "code",
   "execution_count": 20,
   "metadata": {},
   "outputs": [],
   "source": [
    "csvFilePath1 = r'2020-10-11.csv'\n",
    "jsonFilePath1 = r'2020-10-11.json'\n",
    "csv_to_json(csvFilePath1, jsonFilePath1)\n",
    "#ce jour correspond à un dimanche"
   ]
  },
  {
   "cell_type": "code",
   "execution_count": 21,
   "metadata": {},
   "outputs": [],
   "source": [
    "with open('2020-10-11.json') as file:\n",
    "    jsonData1= json.load(file)\n",
    "#print(jsonData1)\n",
    "lis1=[]\n",
    "for i in jsonData1:\n",
    "    Dico={}\n",
    "    if (i['Distance (m)']!=''):\n",
    "        Dico['Heure_debut']=i['Heure de début']\n",
    "        Dico['Heure_fin']=i['Heure de fin']\n",
    "        Dico['Distance (m)']=float(i['Distance (m)'])\n",
    "        Dico['Nombre de pas']=i['Nombre de pas']\n",
    "        lis1.append(Dico)\n",
    "#print(lis1)"
   ]
  },
  {
   "cell_type": "code",
   "execution_count": 22,
   "metadata": {},
   "outputs": [
    {
     "data": {
      "text/html": [
       "<div>\n",
       "<style scoped>\n",
       "    .dataframe tbody tr th:only-of-type {\n",
       "        vertical-align: middle;\n",
       "    }\n",
       "\n",
       "    .dataframe tbody tr th {\n",
       "        vertical-align: top;\n",
       "    }\n",
       "\n",
       "    .dataframe thead th {\n",
       "        text-align: right;\n",
       "    }\n",
       "</style>\n",
       "<table border=\"1\" class=\"dataframe\">\n",
       "  <thead>\n",
       "    <tr style=\"text-align: right;\">\n",
       "      <th></th>\n",
       "      <th>Heures</th>\n",
       "      <th>Distances</th>\n",
       "    </tr>\n",
       "  </thead>\n",
       "  <tbody>\n",
       "    <tr>\n",
       "      <th>0</th>\n",
       "      <td>02:45:00.000+02:00</td>\n",
       "      <td>18.201735</td>\n",
       "    </tr>\n",
       "    <tr>\n",
       "      <th>1</th>\n",
       "      <td>12:45:00.000+02:00</td>\n",
       "      <td>23.222902</td>\n",
       "    </tr>\n",
       "    <tr>\n",
       "      <th>2</th>\n",
       "      <td>14:00:00.000+02:00</td>\n",
       "      <td>15.063505</td>\n",
       "    </tr>\n",
       "    <tr>\n",
       "      <th>3</th>\n",
       "      <td>15:45:00.000+02:00</td>\n",
       "      <td>15.605419</td>\n",
       "    </tr>\n",
       "    <tr>\n",
       "      <th>4</th>\n",
       "      <td>16:00:00.000+02:00</td>\n",
       "      <td>12.011007</td>\n",
       "    </tr>\n",
       "    <tr>\n",
       "      <th>5</th>\n",
       "      <td>17:15:00.000+02:00</td>\n",
       "      <td>22.595257</td>\n",
       "    </tr>\n",
       "    <tr>\n",
       "      <th>6</th>\n",
       "      <td>19:15:00.000+02:00</td>\n",
       "      <td>28.244071</td>\n",
       "    </tr>\n",
       "    <tr>\n",
       "      <th>7</th>\n",
       "      <td>20:30:00.000+02:00</td>\n",
       "      <td>16.946444</td>\n",
       "    </tr>\n",
       "    <tr>\n",
       "      <th>8</th>\n",
       "      <td>22:00:00.000+02:00</td>\n",
       "      <td>81.842722</td>\n",
       "    </tr>\n",
       "    <tr>\n",
       "      <th>9</th>\n",
       "      <td>22:15:00.000+02:00</td>\n",
       "      <td>236.923694</td>\n",
       "    </tr>\n",
       "    <tr>\n",
       "      <th>10</th>\n",
       "      <td>22:30:00.000+02:00</td>\n",
       "      <td>54.086870</td>\n",
       "    </tr>\n",
       "  </tbody>\n",
       "</table>\n",
       "</div>"
      ],
      "text/plain": [
       "                Heures   Distances\n",
       "0   02:45:00.000+02:00   18.201735\n",
       "1   12:45:00.000+02:00   23.222902\n",
       "2   14:00:00.000+02:00   15.063505\n",
       "3   15:45:00.000+02:00   15.605419\n",
       "4   16:00:00.000+02:00   12.011007\n",
       "5   17:15:00.000+02:00   22.595257\n",
       "6   19:15:00.000+02:00   28.244071\n",
       "7   20:30:00.000+02:00   16.946444\n",
       "8   22:00:00.000+02:00   81.842722\n",
       "9   22:15:00.000+02:00  236.923694\n",
       "10  22:30:00.000+02:00   54.086870"
      ]
     },
     "execution_count": 22,
     "metadata": {},
     "output_type": "execute_result"
    }
   ],
   "source": [
    "Heures = [i['Heure_debut'] for i in lis1]\n",
    "Distances = [i['Distance (m)'] for i in lis1]\n",
    "\n",
    "df1 = pandas.DataFrame({'Heures':Heures, 'Distances':Distances})\n",
    "\n",
    "\n",
    "df1.sort_values(by='Heures')"
   ]
  },
  {
   "cell_type": "code",
   "execution_count": 23,
   "metadata": {},
   "outputs": [
    {
     "data": {
      "image/png": "[encoded data removed]",
      "text/plain": [
       "<Figure size 432x288 with 1 Axes>"
      ]
     },
     "metadata": {
      "needs_background": "light"
     },
     "output_type": "display_data"
    }
   ],
   "source": [
    "plt.barh(Heures, Distances)\n",
    "plt.ylabel('Heures')\n",
    "plt.xlabel('Distances en mètres')\n",
    "plt.title('Distances parcourues en fonction du temps')\n",
    "plt.show()"
   ]
  },
  {
   "cell_type": "markdown",
   "metadata": {},
   "source": [
    "Nous remarquons qu'en effet, les heures et la distance différent entre les deux jours sélectionnés\n",
    "\n",
    "Ceci pourrait nous informer sur l'activité de l'individu"
   ]
  },
  {
   "cell_type": "markdown",
   "metadata": {},
   "source": [
    "Il serait logique que les heures d'activité un jour de semaine soient celles où l'individu part au travail, s'il y va à pied par exemple)\n",
    "Quant aux jours correspondant au weekend, les horaires seraient différents et la distance aussi. L'activité pourrait être moins importante si l'on est chez soi et qu'on ne sorte que pour prendre l'air ou faire des courses à côté."
   ]
  },
  {
   "cell_type": "markdown",
   "metadata": {},
   "source": [
    "## Activité et localisation"
   ]
  },
  {
   "cell_type": "code",
   "execution_count": 24,
   "metadata": {},
   "outputs": [
    {
     "name": "stdout",
     "output_type": "stream",
     "text": [
      "time: 576 ms (started: 2021-01-31 16:23:12 +01:00)\n"
     ]
    }
   ],
   "source": [
    "%load_ext autotime\n",
    "import pandas as pd\n",
    "\n",
    "import geopandas as gpd\n",
    "import geopy\n",
    "from geopy.geocoders import Nominatim\n",
    "from geopy.extra.rate_limiter import RateLimiter\n",
    "\n",
    "import matplotlib.pyplot as plt\n",
    "import plotly_express as px\n",
    "import tqdm\n",
    "from tqdm import tqdm\n",
    "from tqdm._tqdm_notebook import tqdm_notebook\n",
    "import csv"
   ]
  },
  {
   "cell_type": "markdown",
   "metadata": {},
   "source": [
    "### Lecture du fichier et formatage des données"
   ]
  },
  {
   "cell_type": "code",
   "execution_count": 25,
   "metadata": {},
   "outputs": [
    {
     "name": "stdout",
     "output_type": "stream",
     "text": [
      "time: 10.8 ms (started: 2021-01-31 16:23:13 +01:00)\n"
     ]
    }
   ],
   "source": [
    "fileCsv=r'Résumés_quotidiens.csv'\n",
    "fileJson=r'Res_gps.json'\n",
    "csv_to_json(fileCsv,fileJson)"
   ]
  },
  {
   "cell_type": "code",
   "execution_count": 26,
   "metadata": {},
   "outputs": [
    {
     "name": "stdout",
     "output_type": "stream",
     "text": [
      "time: 4.02 ms (started: 2021-01-31 16:23:14 +01:00)\n"
     ]
    }
   ],
   "source": [
    "#ouvrir le fichier json\n",
    "with open('Res_gps.json') as file:\n",
    "    datagps= json.load(file)"
   ]
  },
  {
   "cell_type": "code",
   "execution_count": 27,
   "metadata": {},
   "outputs": [
    {
     "name": "stdout",
     "output_type": "stream",
     "text": [
      "time: 543 µs (started: 2021-01-31 16:23:14 +01:00)\n"
     ]
    }
   ],
   "source": [
    "#datagps"
   ]
  },
  {
   "cell_type": "code",
   "execution_count": 28,
   "metadata": {},
   "outputs": [
    {
     "name": "stdout",
     "output_type": "stream",
     "text": [
      "time: 1.04 ms (started: 2021-01-31 16:23:15 +01:00)\n"
     ]
    }
   ],
   "source": [
    "listgps=[]\n",
    "for i in datagps:\n",
    "    xy=[]\n",
    "    if (i['Basse latitude (°)']!=''):\n",
    "        xy=[i['Basse latitude (°)'],i['Basse longitude (°)'],'']\n",
    "        listgps.append(xy)\n",
    "#listgps"
   ]
  },
  {
   "cell_type": "markdown",
   "metadata": {},
   "source": [
    "### Génération des adresses "
   ]
  },
  {
   "cell_type": "code",
   "execution_count": 29,
   "metadata": {},
   "outputs": [
    {
     "name": "stdout",
     "output_type": "stream",
     "text": [
      "time: 27.9 s (started: 2021-01-31 16:23:16 +01:00)\n"
     ]
    }
   ],
   "source": [
    "for i in listgps:\n",
    "    locator = Nominatim(user_agent=\"myGeocoder\")\n",
    "    coordinates = i[0],i[1]\n",
    "    location = locator.reverse(coordinates)\n",
    "    i[2]=location.address"
   ]
  },
  {
   "cell_type": "code",
   "execution_count": 30,
   "metadata": {},
   "outputs": [
    {
     "name": "stdout",
     "output_type": "stream",
     "text": [
      "time: 595 µs (started: 2021-01-31 16:23:44 +01:00)\n"
     ]
    }
   ],
   "source": [
    "#listgps"
   ]
  },
  {
   "cell_type": "code",
   "execution_count": 31,
   "metadata": {},
   "outputs": [
    {
     "name": "stdout",
     "output_type": "stream",
     "text": [
      "time: 501 ms (started: 2021-01-31 16:23:44 +01:00)\n"
     ]
    }
   ],
   "source": [
    "import os \n",
    "import folium\n",
    "from folium import plugins\n",
    "import rasterio as rio\n",
    "from rasterio.warp import calculate_default_transform, reproject, Resampling\n",
    "import earthpy as et\n",
    "\n",
    "# Import data from EarthPy\n",
    "data = et.data.get_data('colorado-flood')\n",
    "\n",
    "# Set working directory to earth-analytics\n",
    "os.chdir(os.path.join(et.io.HOME, 'earth-analytics'))"
   ]
  },
  {
   "cell_type": "markdown",
   "metadata": {},
   "source": [
    "### Créaction d'un map"
   ]
  },
  {
   "cell_type": "code",
   "execution_count": 33,
   "metadata": {
    "scrolled": false
   },
   "outputs": [
    {
     "data": {
      "text/html": [
       "<div style=\"width:100%;\"><div style=\"position:relative;width:100%;height:0;padding-bottom:60%;\"><span style=\"color:#565656\">Make this Notebook Trusted to load map: File -> Trust Notebook</span><iframe src=\"about:blank\" style=\"position:absolute;width:100%;height:100%;left:0;top:0;border:none !important;\" data-html=%3C%21DOCTYPE%20html%3E%0A%3Chead%3E%20%20%20%20%0A%20%20%20%20%3Cmeta%20http-equiv%3D%22content-type%22%20content%3D%22text/html%3B%20charset%3DUTF-8%22%20/%3E%0A%20%20%20%20%0A%20%20%20%20%20%20%20%20%3Cscript%3E%0A%20%20%20%20%20%20%20%20%20%20%20%20L_NO_TOUCH%20%3D%20false%3B%0A%20%20%20%20%20%20%20%20%20%20%20%20L_DISABLE_3D%20%3D%20false%3B%0A%20%20%20%20%20%20%20%20%3C/script%3E%0A%20%20%20%20%0A%20%20%20%20%3Cstyle%3Ehtml%2C%20body%20%7Bwidth%3A%20100%25%3Bheight%3A%20100%25%3Bmargin%3A%200%3Bpadding%3A%200%3B%7D%3C/style%3E%0A%20%20%20%20%3Cstyle%3E%23map%20%7Bposition%3Aabsolute%3Btop%3A0%3Bbottom%3A0%3Bright%3A0%3Bleft%3A0%3B%7D%3C/style%3E%0A%20%20%20%20%3Cscript%20src%3D%22https%3A//cdn.jsdelivr.net/npm/leaflet%401.6.0/dist/leaflet.js%22%3E%3C/script%3E%0A%20%20%20%20%3Cscript%20src%3D%22https%3A//code.jquery.com/jquery-1.12.4.min.js%22%3E%3C/script%3E%0A%20%20%20%20%3Cscript%20src%3D%22https%3A//maxcdn.bootstrapcdn.com/bootstrap/3.2.0/js/bootstrap.min.js%22%3E%3C/script%3E%0A%20%20%20%20%3Cscript%20src%3D%22https%3A//cdnjs.cloudflare.com/ajax/libs/Leaflet.awesome-markers/2.0.2/leaflet.awesome-markers.js%22%3E%3C/script%3E%0A%20%20%20%20%3Clink%20rel%3D%22stylesheet%22%20href%3D%22https%3A//cdn.jsdelivr.net/npm/leaflet%401.6.0/dist/leaflet.css%22/%3E%0A%20%20%20%20%3Clink%20rel%3D%22stylesheet%22%20href%3D%22https%3A//maxcdn.bootstrapcdn.com/bootstrap/3.2.0/css/bootstrap.min.css%22/%3E%0A%20%20%20%20%3Clink%20rel%3D%22stylesheet%22%20href%3D%22https%3A//maxcdn.bootstrapcdn.com/bootstrap/3.2.0/css/bootstrap-theme.min.css%22/%3E%0A%20%20%20%20%3Clink%20rel%3D%22stylesheet%22%20href%3D%22https%3A//maxcdn.bootstrapcdn.com/font-awesome/4.6.3/css/font-awesome.min.css%22/%3E%0A%20%20%20%20%3Clink%20rel%3D%22stylesheet%22%20href%3D%22https%3A//cdnjs.cloudflare.com/ajax/libs/Leaflet.awesome-markers/2.0.2/leaflet.awesome-markers.css%22/%3E%0A%20%20%20%20%3Clink%20rel%3D%22stylesheet%22%20href%3D%22https%3A//cdn.jsdelivr.net/gh/python-visualization/folium/folium/templates/leaflet.awesome.rotate.min.css%22/%3E%0A%20%20%20%20%0A%20%20%20%20%20%20%20%20%20%20%20%20%3Cmeta%20name%3D%22viewport%22%20content%3D%22width%3Ddevice-width%2C%0A%20%20%20%20%20%20%20%20%20%20%20%20%20%20%20%20initial-scale%3D1.0%2C%20maximum-scale%3D1.0%2C%20user-scalable%3Dno%22%20/%3E%0A%20%20%20%20%20%20%20%20%20%20%20%20%3Cstyle%3E%0A%20%20%20%20%20%20%20%20%20%20%20%20%20%20%20%20%23map_2fafacce87ab4c5fbbbc1a27c8873015%20%7B%0A%20%20%20%20%20%20%20%20%20%20%20%20%20%20%20%20%20%20%20%20position%3A%20relative%3B%0A%20%20%20%20%20%20%20%20%20%20%20%20%20%20%20%20%20%20%20%20width%3A%20100.0%25%3B%0A%20%20%20%20%20%20%20%20%20%20%20%20%20%20%20%20%20%20%20%20height%3A%20100.0%25%3B%0A%20%20%20%20%20%20%20%20%20%20%20%20%20%20%20%20%20%20%20%20left%3A%200.0%25%3B%0A%20%20%20%20%20%20%20%20%20%20%20%20%20%20%20%20%20%20%20%20top%3A%200.0%25%3B%0A%20%20%20%20%20%20%20%20%20%20%20%20%20%20%20%20%7D%0A%20%20%20%20%20%20%20%20%20%20%20%20%3C/style%3E%0A%20%20%20%20%20%20%20%20%0A%3C/head%3E%0A%3Cbody%3E%20%20%20%20%0A%20%20%20%20%0A%20%20%20%20%20%20%20%20%20%20%20%20%3Cdiv%20class%3D%22folium-map%22%20id%3D%22map_2fafacce87ab4c5fbbbc1a27c8873015%22%20%3E%3C/div%3E%0A%20%20%20%20%20%20%20%20%0A%3C/body%3E%0A%3Cscript%3E%20%20%20%20%0A%20%20%20%20%0A%20%20%20%20%20%20%20%20%20%20%20%20var%20map_2fafacce87ab4c5fbbbc1a27c8873015%20%3D%20L.map%28%0A%20%20%20%20%20%20%20%20%20%20%20%20%20%20%20%20%22map_2fafacce87ab4c5fbbbc1a27c8873015%22%2C%0A%20%20%20%20%20%20%20%20%20%20%20%20%20%20%20%20%7B%0A%20%20%20%20%20%20%20%20%20%20%20%20%20%20%20%20%20%20%20%20center%3A%20%5B45.7417273%2C%204.8688492%5D%2C%0A%20%20%20%20%20%20%20%20%20%20%20%20%20%20%20%20%20%20%20%20crs%3A%20L.CRS.EPSG3857%2C%0A%20%20%20%20%20%20%20%20%20%20%20%20%20%20%20%20%20%20%20%20zoom%3A%2010%2C%0A%20%20%20%20%20%20%20%20%20%20%20%20%20%20%20%20%20%20%20%20zoomControl%3A%20true%2C%0A%20%20%20%20%20%20%20%20%20%20%20%20%20%20%20%20%20%20%20%20preferCanvas%3A%20false%2C%0A%20%20%20%20%20%20%20%20%20%20%20%20%20%20%20%20%7D%0A%20%20%20%20%20%20%20%20%20%20%20%20%29%3B%0A%0A%20%20%20%20%20%20%20%20%20%20%20%20%0A%0A%20%20%20%20%20%20%20%20%0A%20%20%20%20%0A%20%20%20%20%20%20%20%20%20%20%20%20var%20tile_layer_83fc0153e702452ebab2a9572bea6151%20%3D%20L.tileLayer%28%0A%20%20%20%20%20%20%20%20%20%20%20%20%20%20%20%20%22https%3A//%7Bs%7D.tile.openstreetmap.org/%7Bz%7D/%7Bx%7D/%7By%7D.png%22%2C%0A%20%20%20%20%20%20%20%20%20%20%20%20%20%20%20%20%7B%22attribution%22%3A%20%22Data%20by%20%5Cu0026copy%3B%20%5Cu003ca%20href%3D%5C%22http%3A//openstreetmap.org%5C%22%5Cu003eOpenStreetMap%5Cu003c/a%5Cu003e%2C%20under%20%5Cu003ca%20href%3D%5C%22http%3A//www.openstreetmap.org/copyright%5C%22%5Cu003eODbL%5Cu003c/a%5Cu003e.%22%2C%20%22detectRetina%22%3A%20false%2C%20%22maxNativeZoom%22%3A%2018%2C%20%22maxZoom%22%3A%2018%2C%20%22minZoom%22%3A%200%2C%20%22noWrap%22%3A%20false%2C%20%22opacity%22%3A%201%2C%20%22subdomains%22%3A%20%22abc%22%2C%20%22tms%22%3A%20false%7D%0A%20%20%20%20%20%20%20%20%20%20%20%20%29.addTo%28map_2fafacce87ab4c5fbbbc1a27c8873015%29%3B%0A%20%20%20%20%20%20%20%20%0A%3C/script%3E onload=\"this.contentDocument.open();this.contentDocument.write(    decodeURIComponent(this.getAttribute('data-html')));this.contentDocument.close();\" allowfullscreen webkitallowfullscreen mozallowfullscreen></iframe></div></div>"
      ],
      "text/plain": [
       "<folium.folium.Map at 0x7f6dccbef4f0>"
      ]
     },
     "execution_count": 33,
     "metadata": {},
     "output_type": "execute_result"
    },
    {
     "name": "stdout",
     "output_type": "stream",
     "text": [
      "time: 14.1 ms (started: 2021-01-31 16:25:40 +01:00)\n"
     ]
    }
   ],
   "source": [
    "# Create a map using the Map() and the first coordinates of the list\n",
    "m = folium.Map(location=[listgps[0][0],listgps[0][1]])\n",
    "\n",
    "# Display the map\n",
    "m"
   ]
  },
  {
   "cell_type": "markdown",
   "metadata": {},
   "source": [
    "### Positionnement des marqueurs d'adresses"
   ]
  },
  {
   "cell_type": "code",
   "execution_count": 34,
   "metadata": {
    "scrolled": true
   },
   "outputs": [
    {
     "data": {
      "text/html": [
       "<div style=\"width:100%;\"><div style=\"position:relative;width:100%;height:0;padding-bottom:60%;\"><span style=\"color:#565656\">Make this Notebook Trusted to load map: File -> Trust Notebook</span><iframe src=\"about:blank\" style=\"position:absolute;width:100%;height:100%;left:0;top:0;border:none !important;\" data-html=%3C%21DOCTYPE%20html%3E%0A%3Chead%3E%20%20%20%20%0A%20%20%20%20%3Cmeta%20http-equiv%3D%22content-type%22%20content%3D%22text/html%3B%20charset%3DUTF-8%22%20/%3E%0A%20%20%20%20%0A%20%20%20%20%20%20%20%20%3Cscript%3E%0A%20%20%20%20%20%20%20%20%20%20%20%20L_NO_TOUCH%20%3D%20false%3B%0A%20%20%20%20%20%20%20%20%20%20%20%20L_DISABLE_3D%20%3D%20false%3B%0A%20%20%20%20%20%20%20%20%3C/script%3E%0A%20%20%20%20%0A%20%20%20%20%3Cstyle%3Ehtml%2C%20body%20%7Bwidth%3A%20100%25%3Bheight%3A%20100%25%3Bmargin%3A%200%3Bpadding%3A%200%3B%7D%3C/style%3E%0A%20%20%20%20%3Cstyle%3E%23map%20%7Bposition%3Aabsolute%3Btop%3A0%3Bbottom%3A0%3Bright%3A0%3Bleft%3A0%3B%7D%3C/style%3E%0A%20%20%20%20%3Cscript%20src%3D%22https%3A//cdn.jsdelivr.net/npm/leaflet%401.6.0/dist/leaflet.js%22%3E%3C/script%3E%0A%20%20%20%20%3Cscript%20src%3D%22https%3A//code.jquery.com/jquery-1.12.4.min.js%22%3E%3C/script%3E%0A%20%20%20%20%3Cscript%20src%3D%22https%3A//maxcdn.bootstrapcdn.com/bootstrap/3.2.0/js/bootstrap.min.js%22%3E%3C/script%3E%0A%20%20%20%20%3Cscript%20src%3D%22https%3A//cdnjs.cloudflare.com/ajax/libs/Leaflet.awesome-markers/2.0.2/leaflet.awesome-markers.js%22%3E%3C/script%3E%0A%20%20%20%20%3Clink%20rel%3D%22stylesheet%22%20href%3D%22https%3A//cdn.jsdelivr.net/npm/leaflet%401.6.0/dist/leaflet.css%22/%3E%0A%20%20%20%20%3Clink%20rel%3D%22stylesheet%22%20href%3D%22https%3A//maxcdn.bootstrapcdn.com/bootstrap/3.2.0/css/bootstrap.min.css%22/%3E%0A%20%20%20%20%3Clink%20rel%3D%22stylesheet%22%20href%3D%22https%3A//maxcdn.bootstrapcdn.com/bootstrap/3.2.0/css/bootstrap-theme.min.css%22/%3E%0A%20%20%20%20%3Clink%20rel%3D%22stylesheet%22%20href%3D%22https%3A//maxcdn.bootstrapcdn.com/font-awesome/4.6.3/css/font-awesome.min.css%22/%3E%0A%20%20%20%20%3Clink%20rel%3D%22stylesheet%22%20href%3D%22https%3A//cdnjs.cloudflare.com/ajax/libs/Leaflet.awesome-markers/2.0.2/leaflet.awesome-markers.css%22/%3E%0A%20%20%20%20%3Clink%20rel%3D%22stylesheet%22%20href%3D%22https%3A//cdn.jsdelivr.net/gh/python-visualization/folium/folium/templates/leaflet.awesome.rotate.min.css%22/%3E%0A%20%20%20%20%0A%20%20%20%20%20%20%20%20%20%20%20%20%3Cmeta%20name%3D%22viewport%22%20content%3D%22width%3Ddevice-width%2C%0A%20%20%20%20%20%20%20%20%20%20%20%20%20%20%20%20initial-scale%3D1.0%2C%20maximum-scale%3D1.0%2C%20user-scalable%3Dno%22%20/%3E%0A%20%20%20%20%20%20%20%20%20%20%20%20%3Cstyle%3E%0A%20%20%20%20%20%20%20%20%20%20%20%20%20%20%20%20%23map_2fafacce87ab4c5fbbbc1a27c8873015%20%7B%0A%20%20%20%20%20%20%20%20%20%20%20%20%20%20%20%20%20%20%20%20position%3A%20relative%3B%0A%20%20%20%20%20%20%20%20%20%20%20%20%20%20%20%20%20%20%20%20width%3A%20100.0%25%3B%0A%20%20%20%20%20%20%20%20%20%20%20%20%20%20%20%20%20%20%20%20height%3A%20100.0%25%3B%0A%20%20%20%20%20%20%20%20%20%20%20%20%20%20%20%20%20%20%20%20left%3A%200.0%25%3B%0A%20%20%20%20%20%20%20%20%20%20%20%20%20%20%20%20%20%20%20%20top%3A%200.0%25%3B%0A%20%20%20%20%20%20%20%20%20%20%20%20%20%20%20%20%7D%0A%20%20%20%20%20%20%20%20%20%20%20%20%3C/style%3E%0A%20%20%20%20%20%20%20%20%0A%3C/head%3E%0A%3Cbody%3E%20%20%20%20%0A%20%20%20%20%0A%20%20%20%20%20%20%20%20%20%20%20%20%3Cdiv%20class%3D%22folium-map%22%20id%3D%22map_2fafacce87ab4c5fbbbc1a27c8873015%22%20%3E%3C/div%3E%0A%20%20%20%20%20%20%20%20%0A%3C/body%3E%0A%3Cscript%3E%20%20%20%20%0A%20%20%20%20%0A%20%20%20%20%20%20%20%20%20%20%20%20var%20map_2fafacce87ab4c5fbbbc1a27c8873015%20%3D%20L.map%28%0A%20%20%20%20%20%20%20%20%20%20%20%20%20%20%20%20%22map_2fafacce87ab4c5fbbbc1a27c8873015%22%2C%0A%20%20%20%20%20%20%20%20%20%20%20%20%20%20%20%20%7B%0A%20%20%20%20%20%20%20%20%20%20%20%20%20%20%20%20%20%20%20%20center%3A%20%5B45.7417273%2C%204.8688492%5D%2C%0A%20%20%20%20%20%20%20%20%20%20%20%20%20%20%20%20%20%20%20%20crs%3A%20L.CRS.EPSG3857%2C%0A%20%20%20%20%20%20%20%20%20%20%20%20%20%20%20%20%20%20%20%20zoom%3A%2010%2C%0A%20%20%20%20%20%20%20%20%20%20%20%20%20%20%20%20%20%20%20%20zoomControl%3A%20true%2C%0A%20%20%20%20%20%20%20%20%20%20%20%20%20%20%20%20%20%20%20%20preferCanvas%3A%20false%2C%0A%20%20%20%20%20%20%20%20%20%20%20%20%20%20%20%20%7D%0A%20%20%20%20%20%20%20%20%20%20%20%20%29%3B%0A%0A%20%20%20%20%20%20%20%20%20%20%20%20%0A%0A%20%20%20%20%20%20%20%20%0A%20%20%20%20%0A%20%20%20%20%20%20%20%20%20%20%20%20var%20tile_layer_83fc0153e702452ebab2a9572bea6151%20%3D%20L.tileLayer%28%0A%20%20%20%20%20%20%20%20%20%20%20%20%20%20%20%20%22https%3A//%7Bs%7D.tile.openstreetmap.org/%7Bz%7D/%7Bx%7D/%7By%7D.png%22%2C%0A%20%20%20%20%20%20%20%20%20%20%20%20%20%20%20%20%7B%22attribution%22%3A%20%22Data%20by%20%5Cu0026copy%3B%20%5Cu003ca%20href%3D%5C%22http%3A//openstreetmap.org%5C%22%5Cu003eOpenStreetMap%5Cu003c/a%5Cu003e%2C%20under%20%5Cu003ca%20href%3D%5C%22http%3A//www.openstreetmap.org/copyright%5C%22%5Cu003eODbL%5Cu003c/a%5Cu003e.%22%2C%20%22detectRetina%22%3A%20false%2C%20%22maxNativeZoom%22%3A%2018%2C%20%22maxZoom%22%3A%2018%2C%20%22minZoom%22%3A%200%2C%20%22noWrap%22%3A%20false%2C%20%22opacity%22%3A%201%2C%20%22subdomains%22%3A%20%22abc%22%2C%20%22tms%22%3A%20false%7D%0A%20%20%20%20%20%20%20%20%20%20%20%20%29.addTo%28map_2fafacce87ab4c5fbbbc1a27c8873015%29%3B%0A%20%20%20%20%20%20%20%20%0A%20%20%20%20%0A%20%20%20%20%20%20%20%20%20%20%20%20var%20marker_8e57522807804ca98853ec85f2724b20%20%3D%20L.marker%28%0A%20%20%20%20%20%20%20%20%20%20%20%20%20%20%20%20%5B45.7417273%2C%204.8688492%5D%2C%0A%20%20%20%20%20%20%20%20%20%20%20%20%20%20%20%20%7B%7D%0A%20%20%20%20%20%20%20%20%20%20%20%20%29.addTo%28map_2fafacce87ab4c5fbbbc1a27c8873015%29%3B%0A%20%20%20%20%20%20%20%20%0A%20%20%20%20%0A%20%20%20%20%20%20%20%20%20%20%20%20var%20icon_2063f8130c88412eb37e31e7629a8a81%20%3D%20L.AwesomeMarkers.icon%28%0A%20%20%20%20%20%20%20%20%20%20%20%20%20%20%20%20%7B%22extraClasses%22%3A%20%22fa-rotate-0%22%2C%20%22icon%22%3A%20%22info-sign%22%2C%20%22iconColor%22%3A%20%22white%22%2C%20%22markerColor%22%3A%20%22blue%22%2C%20%22prefix%22%3A%20%22glyphicon%22%7D%0A%20%20%20%20%20%20%20%20%20%20%20%20%29%3B%0A%20%20%20%20%20%20%20%20%20%20%20%20marker_8e57522807804ca98853ec85f2724b20.setIcon%28icon_2063f8130c88412eb37e31e7629a8a81%29%3B%0A%20%20%20%20%20%20%20%20%0A%20%20%20%20%0A%20%20%20%20%20%20%20%20var%20popup_6d5b7947612845a186115b4993e7f9b6%20%3D%20L.popup%28%7B%22maxWidth%22%3A%20%22100%25%22%7D%29%3B%0A%0A%20%20%20%20%20%20%20%20%0A%20%20%20%20%20%20%20%20%20%20%20%20var%20html_1cba4351b47547f28e9be4d889e77587%20%3D%20%24%28%60%3Cdiv%20id%3D%22html_1cba4351b47547f28e9be4d889e77587%22%20style%3D%22width%3A%20100.0%25%3B%20height%3A%20100.0%25%3B%22%3EA2G5Y6%2C%20Rue%20Antoine%20Lumi%C3%A8re%2C%20Monplaisir%2C%20Lyon%208e%20Arrondissement%2C%20Lyon%2C%20M%C3%A9tropole%20de%20Lyon%2C%20Circonscription%20d%C3%A9partementale%20du%20Rh%C3%B4ne%2C%20Auvergne-Rh%C3%B4ne-Alpes%2C%20France%20m%C3%A9tropolitaine%2C%2069008%2C%20France%3C/div%3E%60%29%5B0%5D%3B%0A%20%20%20%20%20%20%20%20%20%20%20%20popup_6d5b7947612845a186115b4993e7f9b6.setContent%28html_1cba4351b47547f28e9be4d889e77587%29%3B%0A%20%20%20%20%20%20%20%20%0A%0A%20%20%20%20%20%20%20%20marker_8e57522807804ca98853ec85f2724b20.bindPopup%28popup_6d5b7947612845a186115b4993e7f9b6%29%0A%20%20%20%20%20%20%20%20%3B%0A%0A%20%20%20%20%20%20%20%20%0A%20%20%20%20%0A%20%20%20%20%0A%20%20%20%20%20%20%20%20%20%20%20%20var%20marker_b75cdad05a864867bb02b60ab2373b2e%20%3D%20L.marker%28%0A%20%20%20%20%20%20%20%20%20%20%20%20%20%20%20%20%5B45.7530619%2C%204.8859329%5D%2C%0A%20%20%20%20%20%20%20%20%20%20%20%20%20%20%20%20%7B%7D%0A%20%20%20%20%20%20%20%20%20%20%20%20%29.addTo%28map_2fafacce87ab4c5fbbbc1a27c8873015%29%3B%0A%20%20%20%20%20%20%20%20%0A%20%20%20%20%0A%20%20%20%20%20%20%20%20%20%20%20%20var%20icon_6192f95dc5eb410ab83ca963c34e2969%20%3D%20L.AwesomeMarkers.icon%28%0A%20%20%20%20%20%20%20%20%20%20%20%20%20%20%20%20%7B%22extraClasses%22%3A%20%22fa-rotate-0%22%2C%20%22icon%22%3A%20%22info-sign%22%2C%20%22iconColor%22%3A%20%22white%22%2C%20%22markerColor%22%3A%20%22blue%22%2C%20%22prefix%22%3A%20%22glyphicon%22%7D%0A%20%20%20%20%20%20%20%20%20%20%20%20%29%3B%0A%20%20%20%20%20%20%20%20%20%20%20%20marker_b75cdad05a864867bb02b60ab2373b2e.setIcon%28icon_6192f95dc5eb410ab83ca963c34e2969%29%3B%0A%20%20%20%20%20%20%20%20%0A%20%20%20%20%0A%20%20%20%20%20%20%20%20var%20popup_3a3dab75af4d434e88fffe2c5d00320e%20%3D%20L.popup%28%7B%22maxWidth%22%3A%20%22100%25%22%7D%29%3B%0A%0A%20%20%20%20%20%20%20%20%0A%20%20%20%20%20%20%20%20%20%20%20%20var%20html_5c1052972d7c4339a70451866b1e1234%20%3D%20%24%28%60%3Cdiv%20id%3D%22html_5c1052972d7c4339a70451866b1e1234%22%20style%3D%22width%3A%20100.0%25%3B%20height%3A%20100.0%25%3B%22%3E6%2C%20Rue%20Charles%20Richard%2C%20Montchat%2C%20Lyon%203e%20Arrondissement%2C%20Lyon%2C%20M%C3%A9tropole%20de%20Lyon%2C%20Circonscription%20d%C3%A9partementale%20du%20Rh%C3%B4ne%2C%20Auvergne-Rh%C3%B4ne-Alpes%2C%20France%20m%C3%A9tropolitaine%2C%2069003%2C%20France%3C/div%3E%60%29%5B0%5D%3B%0A%20%20%20%20%20%20%20%20%20%20%20%20popup_3a3dab75af4d434e88fffe2c5d00320e.setContent%28html_5c1052972d7c4339a70451866b1e1234%29%3B%0A%20%20%20%20%20%20%20%20%0A%0A%20%20%20%20%20%20%20%20marker_b75cdad05a864867bb02b60ab2373b2e.bindPopup%28popup_3a3dab75af4d434e88fffe2c5d00320e%29%0A%20%20%20%20%20%20%20%20%3B%0A%0A%20%20%20%20%20%20%20%20%0A%20%20%20%20%0A%20%20%20%20%0A%20%20%20%20%20%20%20%20%20%20%20%20var%20marker_f1791ee1c1da450bb7e1e79adc055004%20%3D%20L.marker%28%0A%20%20%20%20%20%20%20%20%20%20%20%20%20%20%20%20%5B45.7809002%2C%204.8707135%5D%2C%0A%20%20%20%20%20%20%20%20%20%20%20%20%20%20%20%20%7B%7D%0A%20%20%20%20%20%20%20%20%20%20%20%20%29.addTo%28map_2fafacce87ab4c5fbbbc1a27c8873015%29%3B%0A%20%20%20%20%20%20%20%20%0A%20%20%20%20%0A%20%20%20%20%20%20%20%20%20%20%20%20var%20icon_e386c03753e44eddbe7b509a8a7a396a%20%3D%20L.AwesomeMarkers.icon%28%0A%20%20%20%20%20%20%20%20%20%20%20%20%20%20%20%20%7B%22extraClasses%22%3A%20%22fa-rotate-0%22%2C%20%22icon%22%3A%20%22info-sign%22%2C%20%22iconColor%22%3A%20%22white%22%2C%20%22markerColor%22%3A%20%22blue%22%2C%20%22prefix%22%3A%20%22glyphicon%22%7D%0A%20%20%20%20%20%20%20%20%20%20%20%20%29%3B%0A%20%20%20%20%20%20%20%20%20%20%20%20marker_f1791ee1c1da450bb7e1e79adc055004.setIcon%28icon_e386c03753e44eddbe7b509a8a7a396a%29%3B%0A%20%20%20%20%20%20%20%20%0A%20%20%20%20%0A%20%20%20%20%20%20%20%20var%20popup_fbd9a29859a242b68c705ce698345de1%20%3D%20L.popup%28%7B%22maxWidth%22%3A%20%22100%25%22%7D%29%3B%0A%0A%20%20%20%20%20%20%20%20%0A%20%20%20%20%20%20%20%20%20%20%20%20var%20html_3de4abe32f544f52be374cb5a349d501%20%3D%20%24%28%60%3Cdiv%20id%3D%22html_3de4abe32f544f52be374cb5a349d501%22%20style%3D%22width%3A%20100.0%25%3B%20height%3A%20100.0%25%3B%22%3ELyon-Tech%20La%20Doua%2C%20Boulevard%20Laurent%20Bonnevay%2C%20Tonkin%2C%20Villeurbanne%2C%20Lyon%2C%20M%C3%A9tropole%20de%20Lyon%2C%20Circonscription%20d%C3%A9partementale%20du%20Rh%C3%B4ne%2C%20Auvergne-Rh%C3%B4ne-Alpes%2C%20France%20m%C3%A9tropolitaine%2C%2069100%2C%20France%3C/div%3E%60%29%5B0%5D%3B%0A%20%20%20%20%20%20%20%20%20%20%20%20popup_fbd9a29859a242b68c705ce698345de1.setContent%28html_3de4abe32f544f52be374cb5a349d501%29%3B%0A%20%20%20%20%20%20%20%20%0A%0A%20%20%20%20%20%20%20%20marker_f1791ee1c1da450bb7e1e79adc055004.bindPopup%28popup_fbd9a29859a242b68c705ce698345de1%29%0A%20%20%20%20%20%20%20%20%3B%0A%0A%20%20%20%20%20%20%20%20%0A%20%20%20%20%0A%20%20%20%20%0A%20%20%20%20%20%20%20%20%20%20%20%20var%20marker_92d1701ab5a54e7bad6e8e1df42e8e88%20%3D%20L.marker%28%0A%20%20%20%20%20%20%20%20%20%20%20%20%20%20%20%20%5B45.7347924%2C%204.8616971%5D%2C%0A%20%20%20%20%20%20%20%20%20%20%20%20%20%20%20%20%7B%7D%0A%20%20%20%20%20%20%20%20%20%20%20%20%29.addTo%28map_2fafacce87ab4c5fbbbc1a27c8873015%29%3B%0A%20%20%20%20%20%20%20%20%0A%20%20%20%20%0A%20%20%20%20%20%20%20%20%20%20%20%20var%20icon_8e664fc6693d408fbd666b2ecf93202b%20%3D%20L.AwesomeMarkers.icon%28%0A%20%20%20%20%20%20%20%20%20%20%20%20%20%20%20%20%7B%22extraClasses%22%3A%20%22fa-rotate-0%22%2C%20%22icon%22%3A%20%22info-sign%22%2C%20%22iconColor%22%3A%20%22white%22%2C%20%22markerColor%22%3A%20%22blue%22%2C%20%22prefix%22%3A%20%22glyphicon%22%7D%0A%20%20%20%20%20%20%20%20%20%20%20%20%29%3B%0A%20%20%20%20%20%20%20%20%20%20%20%20marker_92d1701ab5a54e7bad6e8e1df42e8e88.setIcon%28icon_8e664fc6693d408fbd666b2ecf93202b%29%3B%0A%20%20%20%20%20%20%20%20%0A%20%20%20%20%0A%20%20%20%20%20%20%20%20var%20popup_79901138e5c0431e81ba6a66086b1c62%20%3D%20L.popup%28%7B%22maxWidth%22%3A%20%22100%25%22%7D%29%3B%0A%0A%20%20%20%20%20%20%20%20%0A%20%20%20%20%20%20%20%20%20%20%20%20var%20html_19ad1cc18bc9446b9690ccf5508763e7%20%3D%20%24%28%60%3Cdiv%20id%3D%22html_19ad1cc18bc9446b9690ccf5508763e7%22%20style%3D%22width%3A%20100.0%25%3B%20height%3A%20100.0%25%3B%22%3ELyc%C3%A9e%20Auguste%20et%20Louis%20Lumi%C3%A8re%2C%20Boulevard%20des%20%C3%89tats-Unis%2C%20Les%20%C3%89tats-Unis%2C%20Lyon%208e%20Arrondissement%2C%20Lyon%2C%20M%C3%A9tropole%20de%20Lyon%2C%20Circonscription%20d%C3%A9partementale%20du%20Rh%C3%B4ne%2C%20Auvergne-Rh%C3%B4ne-Alpes%2C%20France%20m%C3%A9tropolitaine%2C%2069008%2C%20France%3C/div%3E%60%29%5B0%5D%3B%0A%20%20%20%20%20%20%20%20%20%20%20%20popup_79901138e5c0431e81ba6a66086b1c62.setContent%28html_19ad1cc18bc9446b9690ccf5508763e7%29%3B%0A%20%20%20%20%20%20%20%20%0A%0A%20%20%20%20%20%20%20%20marker_92d1701ab5a54e7bad6e8e1df42e8e88.bindPopup%28popup_79901138e5c0431e81ba6a66086b1c62%29%0A%20%20%20%20%20%20%20%20%3B%0A%0A%20%20%20%20%20%20%20%20%0A%20%20%20%20%0A%20%20%20%20%0A%20%20%20%20%20%20%20%20%20%20%20%20var%20marker_88d98c207a4e4763bf1e2141f18004ff%20%3D%20L.marker%28%0A%20%20%20%20%20%20%20%20%20%20%20%20%20%20%20%20%5B45.756745%2C%204.8797721%5D%2C%0A%20%20%20%20%20%20%20%20%20%20%20%20%20%20%20%20%7B%7D%0A%20%20%20%20%20%20%20%20%20%20%20%20%29.addTo%28map_2fafacce87ab4c5fbbbc1a27c8873015%29%3B%0A%20%20%20%20%20%20%20%20%0A%20%20%20%20%0A%20%20%20%20%20%20%20%20%20%20%20%20var%20icon_180737df71934a8b8310c30e5f527b6e%20%3D%20L.AwesomeMarkers.icon%28%0A%20%20%20%20%20%20%20%20%20%20%20%20%20%20%20%20%7B%22extraClasses%22%3A%20%22fa-rotate-0%22%2C%20%22icon%22%3A%20%22info-sign%22%2C%20%22iconColor%22%3A%20%22white%22%2C%20%22markerColor%22%3A%20%22blue%22%2C%20%22prefix%22%3A%20%22glyphicon%22%7D%0A%20%20%20%20%20%20%20%20%20%20%20%20%29%3B%0A%20%20%20%20%20%20%20%20%20%20%20%20marker_88d98c207a4e4763bf1e2141f18004ff.setIcon%28icon_180737df71934a8b8310c30e5f527b6e%29%3B%0A%20%20%20%20%20%20%20%20%0A%20%20%20%20%0A%20%20%20%20%20%20%20%20var%20popup_762cef30624748e5b37c9c6d4deefebc%20%3D%20L.popup%28%7B%22maxWidth%22%3A%20%22100%25%22%7D%29%3B%0A%0A%20%20%20%20%20%20%20%20%0A%20%20%20%20%20%20%20%20%20%20%20%20var%20html_ff19812cce944394924218650729a6b7%20%3D%20%24%28%60%3Cdiv%20id%3D%22html_ff19812cce944394924218650729a6b7%22%20style%3D%22width%3A%20100.0%25%3B%20height%3A%20100.0%25%3B%22%3E22b%2C%20Rue%20Jean%20Jaur%C3%A8s%2C%20Maisons-Neuves%2C%20Villeurbanne%2C%20Lyon%2C%20M%C3%A9tropole%20de%20Lyon%2C%20Circonscription%20d%C3%A9partementale%20du%20Rh%C3%B4ne%2C%20Auvergne-Rh%C3%B4ne-Alpes%2C%20France%20m%C3%A9tropolitaine%2C%2069100%2C%20France%3C/div%3E%60%29%5B0%5D%3B%0A%20%20%20%20%20%20%20%20%20%20%20%20popup_762cef30624748e5b37c9c6d4deefebc.setContent%28html_ff19812cce944394924218650729a6b7%29%3B%0A%20%20%20%20%20%20%20%20%0A%0A%20%20%20%20%20%20%20%20marker_88d98c207a4e4763bf1e2141f18004ff.bindPopup%28popup_762cef30624748e5b37c9c6d4deefebc%29%0A%20%20%20%20%20%20%20%20%3B%0A%0A%20%20%20%20%20%20%20%20%0A%20%20%20%20%0A%20%20%20%20%0A%20%20%20%20%20%20%20%20%20%20%20%20var%20marker_9afcba931d374d278252ef04742fea76%20%3D%20L.marker%28%0A%20%20%20%20%20%20%20%20%20%20%20%20%20%20%20%20%5B45.7526158%2C%204.8687745%5D%2C%0A%20%20%20%20%20%20%20%20%20%20%20%20%20%20%20%20%7B%7D%0A%20%20%20%20%20%20%20%20%20%20%20%20%29.addTo%28map_2fafacce87ab4c5fbbbc1a27c8873015%29%3B%0A%20%20%20%20%20%20%20%20%0A%20%20%20%20%0A%20%20%20%20%20%20%20%20%20%20%20%20var%20icon_3d60beb7f98640f28bc475e8a2e32a2e%20%3D%20L.AwesomeMarkers.icon%28%0A%20%20%20%20%20%20%20%20%20%20%20%20%20%20%20%20%7B%22extraClasses%22%3A%20%22fa-rotate-0%22%2C%20%22icon%22%3A%20%22info-sign%22%2C%20%22iconColor%22%3A%20%22white%22%2C%20%22markerColor%22%3A%20%22blue%22%2C%20%22prefix%22%3A%20%22glyphicon%22%7D%0A%20%20%20%20%20%20%20%20%20%20%20%20%29%3B%0A%20%20%20%20%20%20%20%20%20%20%20%20marker_9afcba931d374d278252ef04742fea76.setIcon%28icon_3d60beb7f98640f28bc475e8a2e32a2e%29%3B%0A%20%20%20%20%20%20%20%20%0A%20%20%20%20%0A%20%20%20%20%20%20%20%20var%20popup_2e0feaf820bb449aabc3c760ccf4a7ac%20%3D%20L.popup%28%7B%22maxWidth%22%3A%20%22100%25%22%7D%29%3B%0A%0A%20%20%20%20%20%20%20%20%0A%20%20%20%20%20%20%20%20%20%20%20%20var%20html_f370c5fc8882467ba492d774327f4112%20%3D%20%24%28%60%3Cdiv%20id%3D%22html_f370c5fc8882467ba492d774327f4112%22%20style%3D%22width%3A%20100.0%25%3B%20height%3A%20100.0%25%3B%22%3ESisley%20/%20Dauphin%C3%A9%2C%20Rue%20du%20Dauphin%C3%A9%2C%20Sans%20Souci%2C%20Lyon%203e%20Arrondissement%2C%20Lyon%2C%20M%C3%A9tropole%20de%20Lyon%2C%20Circonscription%20d%C3%A9partementale%20du%20Rh%C3%B4ne%2C%20Auvergne-Rh%C3%B4ne-Alpes%2C%20France%20m%C3%A9tropolitaine%2C%2069003%2C%20France%3C/div%3E%60%29%5B0%5D%3B%0A%20%20%20%20%20%20%20%20%20%20%20%20popup_2e0feaf820bb449aabc3c760ccf4a7ac.setContent%28html_f370c5fc8882467ba492d774327f4112%29%3B%0A%20%20%20%20%20%20%20%20%0A%0A%20%20%20%20%20%20%20%20marker_9afcba931d374d278252ef04742fea76.bindPopup%28popup_2e0feaf820bb449aabc3c760ccf4a7ac%29%0A%20%20%20%20%20%20%20%20%3B%0A%0A%20%20%20%20%20%20%20%20%0A%20%20%20%20%0A%20%20%20%20%0A%20%20%20%20%20%20%20%20%20%20%20%20var%20marker_57026f502f0044cfa4644b1763cb936c%20%3D%20L.marker%28%0A%20%20%20%20%20%20%20%20%20%20%20%20%20%20%20%20%5B45.7525045%2C%204.8801766%5D%2C%0A%20%20%20%20%20%20%20%20%20%20%20%20%20%20%20%20%7B%7D%0A%20%20%20%20%20%20%20%20%20%20%20%20%29.addTo%28map_2fafacce87ab4c5fbbbc1a27c8873015%29%3B%0A%20%20%20%20%20%20%20%20%0A%20%20%20%20%0A%20%20%20%20%20%20%20%20%20%20%20%20var%20icon_66299d337865433986de784c9ac1d3a1%20%3D%20L.AwesomeMarkers.icon%28%0A%20%20%20%20%20%20%20%20%20%20%20%20%20%20%20%20%7B%22extraClasses%22%3A%20%22fa-rotate-0%22%2C%20%22icon%22%3A%20%22info-sign%22%2C%20%22iconColor%22%3A%20%22white%22%2C%20%22markerColor%22%3A%20%22blue%22%2C%20%22prefix%22%3A%20%22glyphicon%22%7D%0A%20%20%20%20%20%20%20%20%20%20%20%20%29%3B%0A%20%20%20%20%20%20%20%20%20%20%20%20marker_57026f502f0044cfa4644b1763cb936c.setIcon%28icon_66299d337865433986de784c9ac1d3a1%29%3B%0A%20%20%20%20%20%20%20%20%0A%20%20%20%20%0A%20%20%20%20%20%20%20%20var%20popup_3ab98acc85fd4d72948bdad04106a590%20%3D%20L.popup%28%7B%22maxWidth%22%3A%20%22100%25%22%7D%29%3B%0A%0A%20%20%20%20%20%20%20%20%0A%20%20%20%20%20%20%20%20%20%20%20%20var%20html_6aa75137da5a446a8480cb2bf9e2ec31%20%3D%20%24%28%60%3Cdiv%20id%3D%22html_6aa75137da5a446a8480cb2bf9e2ec31%22%20style%3D%22width%3A%20100.0%25%3B%20height%3A%20100.0%25%3B%22%3ERue%20de%20l%27Est%2C%20Grange%20Blanche%2C%20Lyon%203e%20Arrondissement%2C%20Lyon%2C%20M%C3%A9tropole%20de%20Lyon%2C%20Circonscription%20d%C3%A9partementale%20du%20Rh%C3%B4ne%2C%20Auvergne-Rh%C3%B4ne-Alpes%2C%20France%20m%C3%A9tropolitaine%2C%2069003%2C%20France%3C/div%3E%60%29%5B0%5D%3B%0A%20%20%20%20%20%20%20%20%20%20%20%20popup_3ab98acc85fd4d72948bdad04106a590.setContent%28html_6aa75137da5a446a8480cb2bf9e2ec31%29%3B%0A%20%20%20%20%20%20%20%20%0A%0A%20%20%20%20%20%20%20%20marker_57026f502f0044cfa4644b1763cb936c.bindPopup%28popup_3ab98acc85fd4d72948bdad04106a590%29%0A%20%20%20%20%20%20%20%20%3B%0A%0A%20%20%20%20%20%20%20%20%0A%20%20%20%20%0A%20%20%20%20%0A%20%20%20%20%20%20%20%20%20%20%20%20var%20marker_6f9605e317834d4d92697d7cce17f671%20%3D%20L.marker%28%0A%20%20%20%20%20%20%20%20%20%20%20%20%20%20%20%20%5B45.7374921%2C%204.8652144%5D%2C%0A%20%20%20%20%20%20%20%20%20%20%20%20%20%20%20%20%7B%7D%0A%20%20%20%20%20%20%20%20%20%20%20%20%29.addTo%28map_2fafacce87ab4c5fbbbc1a27c8873015%29%3B%0A%20%20%20%20%20%20%20%20%0A%20%20%20%20%0A%20%20%20%20%20%20%20%20%20%20%20%20var%20icon_d9f2c79cbc444ce0a25137a196b24d20%20%3D%20L.AwesomeMarkers.icon%28%0A%20%20%20%20%20%20%20%20%20%20%20%20%20%20%20%20%7B%22extraClasses%22%3A%20%22fa-rotate-0%22%2C%20%22icon%22%3A%20%22info-sign%22%2C%20%22iconColor%22%3A%20%22white%22%2C%20%22markerColor%22%3A%20%22blue%22%2C%20%22prefix%22%3A%20%22glyphicon%22%7D%0A%20%20%20%20%20%20%20%20%20%20%20%20%29%3B%0A%20%20%20%20%20%20%20%20%20%20%20%20marker_6f9605e317834d4d92697d7cce17f671.setIcon%28icon_d9f2c79cbc444ce0a25137a196b24d20%29%3B%0A%20%20%20%20%20%20%20%20%0A%20%20%20%20%0A%20%20%20%20%20%20%20%20var%20popup_dcda0931ca75442593f6ae1b3d6a0fe9%20%3D%20L.popup%28%7B%22maxWidth%22%3A%20%22100%25%22%7D%29%3B%0A%0A%20%20%20%20%20%20%20%20%0A%20%20%20%20%20%20%20%20%20%20%20%20var%20html_b3849b4949c6483e8f787dc6695e2a78%20%3D%20%24%28%60%3Cdiv%20id%3D%22html_b3849b4949c6483e8f787dc6695e2a78%22%20style%3D%22width%3A%20100.0%25%3B%20height%3A%20100.0%25%3B%22%3E14%2C%20Rue%20Paul%20Cazeneuve%2C%20Les%20%C3%89tats-Unis%2C%20Lyon%208e%20Arrondissement%2C%20Lyon%2C%20M%C3%A9tropole%20de%20Lyon%2C%20Circonscription%20d%C3%A9partementale%20du%20Rh%C3%B4ne%2C%20Auvergne-Rh%C3%B4ne-Alpes%2C%20France%20m%C3%A9tropolitaine%2C%2069008%2C%20France%3C/div%3E%60%29%5B0%5D%3B%0A%20%20%20%20%20%20%20%20%20%20%20%20popup_dcda0931ca75442593f6ae1b3d6a0fe9.setContent%28html_b3849b4949c6483e8f787dc6695e2a78%29%3B%0A%20%20%20%20%20%20%20%20%0A%0A%20%20%20%20%20%20%20%20marker_6f9605e317834d4d92697d7cce17f671.bindPopup%28popup_dcda0931ca75442593f6ae1b3d6a0fe9%29%0A%20%20%20%20%20%20%20%20%3B%0A%0A%20%20%20%20%20%20%20%20%0A%20%20%20%20%0A%20%20%20%20%0A%20%20%20%20%20%20%20%20%20%20%20%20var%20marker_df56b3ff03064beebc6ca94b2aeb0713%20%3D%20L.marker%28%0A%20%20%20%20%20%20%20%20%20%20%20%20%20%20%20%20%5B45.7375289%2C%204.8654184%5D%2C%0A%20%20%20%20%20%20%20%20%20%20%20%20%20%20%20%20%7B%7D%0A%20%20%20%20%20%20%20%20%20%20%20%20%29.addTo%28map_2fafacce87ab4c5fbbbc1a27c8873015%29%3B%0A%20%20%20%20%20%20%20%20%0A%20%20%20%20%0A%20%20%20%20%20%20%20%20%20%20%20%20var%20icon_c8cfa305e5b34e2f9d076a50d016e47c%20%3D%20L.AwesomeMarkers.icon%28%0A%20%20%20%20%20%20%20%20%20%20%20%20%20%20%20%20%7B%22extraClasses%22%3A%20%22fa-rotate-0%22%2C%20%22icon%22%3A%20%22info-sign%22%2C%20%22iconColor%22%3A%20%22white%22%2C%20%22markerColor%22%3A%20%22blue%22%2C%20%22prefix%22%3A%20%22glyphicon%22%7D%0A%20%20%20%20%20%20%20%20%20%20%20%20%29%3B%0A%20%20%20%20%20%20%20%20%20%20%20%20marker_df56b3ff03064beebc6ca94b2aeb0713.setIcon%28icon_c8cfa305e5b34e2f9d076a50d016e47c%29%3B%0A%20%20%20%20%20%20%20%20%0A%20%20%20%20%0A%20%20%20%20%20%20%20%20var%20popup_faa4e16b35e2482ea9811d25e0412aaf%20%3D%20L.popup%28%7B%22maxWidth%22%3A%20%22100%25%22%7D%29%3B%0A%0A%20%20%20%20%20%20%20%20%0A%20%20%20%20%20%20%20%20%20%20%20%20var%20html_04a8bd654e454da6ad32ce057e331631%20%3D%20%24%28%60%3Cdiv%20id%3D%22html_04a8bd654e454da6ad32ce057e331631%22%20style%3D%22width%3A%20100.0%25%3B%20height%3A%20100.0%25%3B%22%3ECroix%20rouge%2C%20Rue%20Paul%20Cazeneuve%2C%20Le%20Bachut%2C%20Lyon%208e%20Arrondissement%2C%20Lyon%2C%20M%C3%A9tropole%20de%20Lyon%2C%20Circonscription%20d%C3%A9partementale%20du%20Rh%C3%B4ne%2C%20Auvergne-Rh%C3%B4ne-Alpes%2C%20France%20m%C3%A9tropolitaine%2C%2069008%2C%20France%3C/div%3E%60%29%5B0%5D%3B%0A%20%20%20%20%20%20%20%20%20%20%20%20popup_faa4e16b35e2482ea9811d25e0412aaf.setContent%28html_04a8bd654e454da6ad32ce057e331631%29%3B%0A%20%20%20%20%20%20%20%20%0A%0A%20%20%20%20%20%20%20%20marker_df56b3ff03064beebc6ca94b2aeb0713.bindPopup%28popup_faa4e16b35e2482ea9811d25e0412aaf%29%0A%20%20%20%20%20%20%20%20%3B%0A%0A%20%20%20%20%20%20%20%20%0A%20%20%20%20%0A%20%20%20%20%0A%20%20%20%20%20%20%20%20%20%20%20%20var%20marker_fe9cb357eab84428916a45e126f5de1b%20%3D%20L.marker%28%0A%20%20%20%20%20%20%20%20%20%20%20%20%20%20%20%20%5B45.715965%2C%204.8745207%5D%2C%0A%20%20%20%20%20%20%20%20%20%20%20%20%20%20%20%20%7B%7D%0A%20%20%20%20%20%20%20%20%20%20%20%20%29.addTo%28map_2fafacce87ab4c5fbbbc1a27c8873015%29%3B%0A%20%20%20%20%20%20%20%20%0A%20%20%20%20%0A%20%20%20%20%20%20%20%20%20%20%20%20var%20icon_a3969cd14c05443ba2008e5e70209b9b%20%3D%20L.AwesomeMarkers.icon%28%0A%20%20%20%20%20%20%20%20%20%20%20%20%20%20%20%20%7B%22extraClasses%22%3A%20%22fa-rotate-0%22%2C%20%22icon%22%3A%20%22info-sign%22%2C%20%22iconColor%22%3A%20%22white%22%2C%20%22markerColor%22%3A%20%22blue%22%2C%20%22prefix%22%3A%20%22glyphicon%22%7D%0A%20%20%20%20%20%20%20%20%20%20%20%20%29%3B%0A%20%20%20%20%20%20%20%20%20%20%20%20marker_fe9cb357eab84428916a45e126f5de1b.setIcon%28icon_a3969cd14c05443ba2008e5e70209b9b%29%3B%0A%20%20%20%20%20%20%20%20%0A%20%20%20%20%0A%20%20%20%20%20%20%20%20var%20popup_dbefb311518d446f9b2aaea1f0ad7b91%20%3D%20L.popup%28%7B%22maxWidth%22%3A%20%22100%25%22%7D%29%3B%0A%0A%20%20%20%20%20%20%20%20%0A%20%20%20%20%20%20%20%20%20%20%20%20var%20html_ea4657b78e4341958d8c998e47f46c17%20%3D%20%24%28%60%3Cdiv%20id%3D%22html_ea4657b78e4341958d8c998e47f46c17%22%20style%3D%22width%3A%20100.0%25%3B%20height%3A%20100.0%25%3B%22%3ECarrefour%2C%20Boulevard%20Ir%C3%A8ne%20Joliot-Curie%2C%20Moulin%20%C3%A0%20Vent%2C%20V%C3%A9nissieux%2C%20Lyon%2C%20M%C3%A9tropole%20de%20Lyon%2C%20Circonscription%20d%C3%A9partementale%20du%20Rh%C3%B4ne%2C%20Auvergne-Rh%C3%B4ne-Alpes%2C%20France%20m%C3%A9tropolitaine%2C%2069200%2C%20France%3C/div%3E%60%29%5B0%5D%3B%0A%20%20%20%20%20%20%20%20%20%20%20%20popup_dbefb311518d446f9b2aaea1f0ad7b91.setContent%28html_ea4657b78e4341958d8c998e47f46c17%29%3B%0A%20%20%20%20%20%20%20%20%0A%0A%20%20%20%20%20%20%20%20marker_fe9cb357eab84428916a45e126f5de1b.bindPopup%28popup_dbefb311518d446f9b2aaea1f0ad7b91%29%0A%20%20%20%20%20%20%20%20%3B%0A%0A%20%20%20%20%20%20%20%20%0A%20%20%20%20%0A%20%20%20%20%0A%20%20%20%20%20%20%20%20%20%20%20%20var%20marker_7527470a73a644698f2ea805cb758879%20%3D%20L.marker%28%0A%20%20%20%20%20%20%20%20%20%20%20%20%20%20%20%20%5B45.7529509%2C%204.8854637%5D%2C%0A%20%20%20%20%20%20%20%20%20%20%20%20%20%20%20%20%7B%7D%0A%20%20%20%20%20%20%20%20%20%20%20%20%29.addTo%28map_2fafacce87ab4c5fbbbc1a27c8873015%29%3B%0A%20%20%20%20%20%20%20%20%0A%20%20%20%20%0A%20%20%20%20%20%20%20%20%20%20%20%20var%20icon_92218b05f2944ace8e83cfe965021fef%20%3D%20L.AwesomeMarkers.icon%28%0A%20%20%20%20%20%20%20%20%20%20%20%20%20%20%20%20%7B%22extraClasses%22%3A%20%22fa-rotate-0%22%2C%20%22icon%22%3A%20%22info-sign%22%2C%20%22iconColor%22%3A%20%22white%22%2C%20%22markerColor%22%3A%20%22blue%22%2C%20%22prefix%22%3A%20%22glyphicon%22%7D%0A%20%20%20%20%20%20%20%20%20%20%20%20%29%3B%0A%20%20%20%20%20%20%20%20%20%20%20%20marker_7527470a73a644698f2ea805cb758879.setIcon%28icon_92218b05f2944ace8e83cfe965021fef%29%3B%0A%20%20%20%20%20%20%20%20%0A%20%20%20%20%0A%20%20%20%20%20%20%20%20var%20popup_e91e7e0467f84dc48b32acfbfd1f6e2c%20%3D%20L.popup%28%7B%22maxWidth%22%3A%20%22100%25%22%7D%29%3B%0A%0A%20%20%20%20%20%20%20%20%0A%20%20%20%20%20%20%20%20%20%20%20%20var%20html_1d36b7dbf6e84a66a53fb64a791514a9%20%3D%20%24%28%60%3Cdiv%20id%3D%22html_1d36b7dbf6e84a66a53fb64a791514a9%22%20style%3D%22width%3A%20100.0%25%3B%20height%3A%20100.0%25%3B%22%3E7b%2C%20Rue%20Bonnand%2C%20Montchat%2C%20Lyon%203e%20Arrondissement%2C%20Lyon%2C%20M%C3%A9tropole%20de%20Lyon%2C%20Circonscription%20d%C3%A9partementale%20du%20Rh%C3%B4ne%2C%20Auvergne-Rh%C3%B4ne-Alpes%2C%20France%20m%C3%A9tropolitaine%2C%2069003%2C%20France%3C/div%3E%60%29%5B0%5D%3B%0A%20%20%20%20%20%20%20%20%20%20%20%20popup_e91e7e0467f84dc48b32acfbfd1f6e2c.setContent%28html_1d36b7dbf6e84a66a53fb64a791514a9%29%3B%0A%20%20%20%20%20%20%20%20%0A%0A%20%20%20%20%20%20%20%20marker_7527470a73a644698f2ea805cb758879.bindPopup%28popup_e91e7e0467f84dc48b32acfbfd1f6e2c%29%0A%20%20%20%20%20%20%20%20%3B%0A%0A%20%20%20%20%20%20%20%20%0A%20%20%20%20%0A%20%20%20%20%0A%20%20%20%20%20%20%20%20%20%20%20%20var%20marker_7db4814a42634238b9a3ab5934cc604f%20%3D%20L.marker%28%0A%20%20%20%20%20%20%20%20%20%20%20%20%20%20%20%20%5B45.7391444%2C%204.8664813%5D%2C%0A%20%20%20%20%20%20%20%20%20%20%20%20%20%20%20%20%7B%7D%0A%20%20%20%20%20%20%20%20%20%20%20%20%29.addTo%28map_2fafacce87ab4c5fbbbc1a27c8873015%29%3B%0A%20%20%20%20%20%20%20%20%0A%20%20%20%20%0A%20%20%20%20%20%20%20%20%20%20%20%20var%20icon_fabb43ff028049189d550a4860f6fa4d%20%3D%20L.AwesomeMarkers.icon%28%0A%20%20%20%20%20%20%20%20%20%20%20%20%20%20%20%20%7B%22extraClasses%22%3A%20%22fa-rotate-0%22%2C%20%22icon%22%3A%20%22info-sign%22%2C%20%22iconColor%22%3A%20%22white%22%2C%20%22markerColor%22%3A%20%22blue%22%2C%20%22prefix%22%3A%20%22glyphicon%22%7D%0A%20%20%20%20%20%20%20%20%20%20%20%20%29%3B%0A%20%20%20%20%20%20%20%20%20%20%20%20marker_7db4814a42634238b9a3ab5934cc604f.setIcon%28icon_fabb43ff028049189d550a4860f6fa4d%29%3B%0A%20%20%20%20%20%20%20%20%0A%20%20%20%20%0A%20%20%20%20%20%20%20%20var%20popup_43dccd90588040608f1b21cfab8497e1%20%3D%20L.popup%28%7B%22maxWidth%22%3A%20%22100%25%22%7D%29%3B%0A%0A%20%20%20%20%20%20%20%20%0A%20%20%20%20%20%20%20%20%20%20%20%20var%20html_ee6e18046e8548e7872e9463867c2ce1%20%3D%20%24%28%60%3Cdiv%20id%3D%22html_ee6e18046e8548e7872e9463867c2ce1%22%20style%3D%22width%3A%20100.0%25%3B%20height%3A%20100.0%25%3B%22%3E115%2C%20Rue%20Marius%20Berliet%2C%20Le%20Bachut%2C%20Lyon%208e%20Arrondissement%2C%20Lyon%2C%20M%C3%A9tropole%20de%20Lyon%2C%20Circonscription%20d%C3%A9partementale%20du%20Rh%C3%B4ne%2C%20Auvergne-Rh%C3%B4ne-Alpes%2C%20France%20m%C3%A9tropolitaine%2C%2069008%2C%20France%3C/div%3E%60%29%5B0%5D%3B%0A%20%20%20%20%20%20%20%20%20%20%20%20popup_43dccd90588040608f1b21cfab8497e1.setContent%28html_ee6e18046e8548e7872e9463867c2ce1%29%3B%0A%20%20%20%20%20%20%20%20%0A%0A%20%20%20%20%20%20%20%20marker_7db4814a42634238b9a3ab5934cc604f.bindPopup%28popup_43dccd90588040608f1b21cfab8497e1%29%0A%20%20%20%20%20%20%20%20%3B%0A%0A%20%20%20%20%20%20%20%20%0A%20%20%20%20%0A%20%20%20%20%0A%20%20%20%20%20%20%20%20%20%20%20%20var%20marker_c61273d2ae48464f89467d7740f064e6%20%3D%20L.marker%28%0A%20%20%20%20%20%20%20%20%20%20%20%20%20%20%20%20%5B45.7375125%2C%204.8654052%5D%2C%0A%20%20%20%20%20%20%20%20%20%20%20%20%20%20%20%20%7B%7D%0A%20%20%20%20%20%20%20%20%20%20%20%20%29.addTo%28map_2fafacce87ab4c5fbbbc1a27c8873015%29%3B%0A%20%20%20%20%20%20%20%20%0A%20%20%20%20%0A%20%20%20%20%20%20%20%20%20%20%20%20var%20icon_5918089a83ba4044a7092fc3849de4d2%20%3D%20L.AwesomeMarkers.icon%28%0A%20%20%20%20%20%20%20%20%20%20%20%20%20%20%20%20%7B%22extraClasses%22%3A%20%22fa-rotate-0%22%2C%20%22icon%22%3A%20%22info-sign%22%2C%20%22iconColor%22%3A%20%22white%22%2C%20%22markerColor%22%3A%20%22blue%22%2C%20%22prefix%22%3A%20%22glyphicon%22%7D%0A%20%20%20%20%20%20%20%20%20%20%20%20%29%3B%0A%20%20%20%20%20%20%20%20%20%20%20%20marker_c61273d2ae48464f89467d7740f064e6.setIcon%28icon_5918089a83ba4044a7092fc3849de4d2%29%3B%0A%20%20%20%20%20%20%20%20%0A%20%20%20%20%0A%20%20%20%20%20%20%20%20var%20popup_222fae733f0a4d10a9a27a8fc9b7bc1a%20%3D%20L.popup%28%7B%22maxWidth%22%3A%20%22100%25%22%7D%29%3B%0A%0A%20%20%20%20%20%20%20%20%0A%20%20%20%20%20%20%20%20%20%20%20%20var%20html_4cd7074651a146fabc46706c25f3c248%20%3D%20%24%28%60%3Cdiv%20id%3D%22html_4cd7074651a146fabc46706c25f3c248%22%20style%3D%22width%3A%20100.0%25%3B%20height%3A%20100.0%25%3B%22%3ECroix%20rouge%2C%20Rue%20Paul%20Cazeneuve%2C%20Le%20Bachut%2C%20Lyon%208e%20Arrondissement%2C%20Lyon%2C%20M%C3%A9tropole%20de%20Lyon%2C%20Circonscription%20d%C3%A9partementale%20du%20Rh%C3%B4ne%2C%20Auvergne-Rh%C3%B4ne-Alpes%2C%20France%20m%C3%A9tropolitaine%2C%2069008%2C%20France%3C/div%3E%60%29%5B0%5D%3B%0A%20%20%20%20%20%20%20%20%20%20%20%20popup_222fae733f0a4d10a9a27a8fc9b7bc1a.setContent%28html_4cd7074651a146fabc46706c25f3c248%29%3B%0A%20%20%20%20%20%20%20%20%0A%0A%20%20%20%20%20%20%20%20marker_c61273d2ae48464f89467d7740f064e6.bindPopup%28popup_222fae733f0a4d10a9a27a8fc9b7bc1a%29%0A%20%20%20%20%20%20%20%20%3B%0A%0A%20%20%20%20%20%20%20%20%0A%20%20%20%20%0A%20%20%20%20%0A%20%20%20%20%20%20%20%20%20%20%20%20var%20marker_1163867c6a77486995c933c65e526bd1%20%3D%20L.marker%28%0A%20%20%20%20%20%20%20%20%20%20%20%20%20%20%20%20%5B45.7374084%2C%204.8560366%5D%2C%0A%20%20%20%20%20%20%20%20%20%20%20%20%20%20%20%20%7B%7D%0A%20%20%20%20%20%20%20%20%20%20%20%20%29.addTo%28map_2fafacce87ab4c5fbbbc1a27c8873015%29%3B%0A%20%20%20%20%20%20%20%20%0A%20%20%20%20%0A%20%20%20%20%20%20%20%20%20%20%20%20var%20icon_0a8fec472f7d4534a0820fee4fce95c0%20%3D%20L.AwesomeMarkers.icon%28%0A%20%20%20%20%20%20%20%20%20%20%20%20%20%20%20%20%7B%22extraClasses%22%3A%20%22fa-rotate-0%22%2C%20%22icon%22%3A%20%22info-sign%22%2C%20%22iconColor%22%3A%20%22white%22%2C%20%22markerColor%22%3A%20%22blue%22%2C%20%22prefix%22%3A%20%22glyphicon%22%7D%0A%20%20%20%20%20%20%20%20%20%20%20%20%29%3B%0A%20%20%20%20%20%20%20%20%20%20%20%20marker_1163867c6a77486995c933c65e526bd1.setIcon%28icon_0a8fec472f7d4534a0820fee4fce95c0%29%3B%0A%20%20%20%20%20%20%20%20%0A%20%20%20%20%0A%20%20%20%20%20%20%20%20var%20popup_9f7801b000a3404cb77c567cb0ad9658%20%3D%20L.popup%28%7B%22maxWidth%22%3A%20%22100%25%22%7D%29%3B%0A%0A%20%20%20%20%20%20%20%20%0A%20%20%20%20%20%20%20%20%20%20%20%20var%20html_6d83cc6b75a6468a943d1cd3a4c3c11c%20%3D%20%24%28%60%3Cdiv%20id%3D%22html_6d83cc6b75a6468a943d1cd3a4c3c11c%22%20style%3D%22width%3A%20100.0%25%3B%20height%3A%20100.0%25%3B%22%3EAll%C3%A9e%2023%2C%20Le%20Grand%20Trou%2C%20Lyon%208e%20Arrondissement%2C%20Lyon%2C%20M%C3%A9tropole%20de%20Lyon%2C%20Circonscription%20d%C3%A9partementale%20du%20Rh%C3%B4ne%2C%20Auvergne-Rh%C3%B4ne-Alpes%2C%20France%20m%C3%A9tropolitaine%2C%2069008%2C%20France%3C/div%3E%60%29%5B0%5D%3B%0A%20%20%20%20%20%20%20%20%20%20%20%20popup_9f7801b000a3404cb77c567cb0ad9658.setContent%28html_6d83cc6b75a6468a943d1cd3a4c3c11c%29%3B%0A%20%20%20%20%20%20%20%20%0A%0A%20%20%20%20%20%20%20%20marker_1163867c6a77486995c933c65e526bd1.bindPopup%28popup_9f7801b000a3404cb77c567cb0ad9658%29%0A%20%20%20%20%20%20%20%20%3B%0A%0A%20%20%20%20%20%20%20%20%0A%20%20%20%20%0A%20%20%20%20%0A%20%20%20%20%20%20%20%20%20%20%20%20var%20marker_998d10939f2f4ad98e49c9eff21c505e%20%3D%20L.marker%28%0A%20%20%20%20%20%20%20%20%20%20%20%20%20%20%20%20%5B45.7382246%2C%204.8661727%5D%2C%0A%20%20%20%20%20%20%20%20%20%20%20%20%20%20%20%20%7B%7D%0A%20%20%20%20%20%20%20%20%20%20%20%20%29.addTo%28map_2fafacce87ab4c5fbbbc1a27c8873015%29%3B%0A%20%20%20%20%20%20%20%20%0A%20%20%20%20%0A%20%20%20%20%20%20%20%20%20%20%20%20var%20icon_11265240d49544608d9206807b654725%20%3D%20L.AwesomeMarkers.icon%28%0A%20%20%20%20%20%20%20%20%20%20%20%20%20%20%20%20%7B%22extraClasses%22%3A%20%22fa-rotate-0%22%2C%20%22icon%22%3A%20%22info-sign%22%2C%20%22iconColor%22%3A%20%22white%22%2C%20%22markerColor%22%3A%20%22blue%22%2C%20%22prefix%22%3A%20%22glyphicon%22%7D%0A%20%20%20%20%20%20%20%20%20%20%20%20%29%3B%0A%20%20%20%20%20%20%20%20%20%20%20%20marker_998d10939f2f4ad98e49c9eff21c505e.setIcon%28icon_11265240d49544608d9206807b654725%29%3B%0A%20%20%20%20%20%20%20%20%0A%20%20%20%20%0A%20%20%20%20%20%20%20%20var%20popup_ded4663a107a4da9b57a77b54f0239a7%20%3D%20L.popup%28%7B%22maxWidth%22%3A%20%22100%25%22%7D%29%3B%0A%0A%20%20%20%20%20%20%20%20%0A%20%20%20%20%20%20%20%20%20%20%20%20var%20html_6ee3b834e9754e1e8bc0b3ab773053b1%20%3D%20%24%28%60%3Cdiv%20id%3D%22html_6ee3b834e9754e1e8bc0b3ab773053b1%22%20style%3D%22width%3A%20100.0%25%3B%20height%3A%20100.0%25%3B%22%3E5%2C%20Rue%20Paul%20Cazeneuve%2C%20Les%20%C3%89tats-Unis%2C%20Lyon%208e%20Arrondissement%2C%20Lyon%2C%20M%C3%A9tropole%20de%20Lyon%2C%20Circonscription%20d%C3%A9partementale%20du%20Rh%C3%B4ne%2C%20Auvergne-Rh%C3%B4ne-Alpes%2C%20France%20m%C3%A9tropolitaine%2C%2069008%2C%20France%3C/div%3E%60%29%5B0%5D%3B%0A%20%20%20%20%20%20%20%20%20%20%20%20popup_ded4663a107a4da9b57a77b54f0239a7.setContent%28html_6ee3b834e9754e1e8bc0b3ab773053b1%29%3B%0A%20%20%20%20%20%20%20%20%0A%0A%20%20%20%20%20%20%20%20marker_998d10939f2f4ad98e49c9eff21c505e.bindPopup%28popup_ded4663a107a4da9b57a77b54f0239a7%29%0A%20%20%20%20%20%20%20%20%3B%0A%0A%20%20%20%20%20%20%20%20%0A%20%20%20%20%0A%20%20%20%20%0A%20%20%20%20%20%20%20%20%20%20%20%20var%20marker_9e21e2d8ea164c14b1364e458d3b7165%20%3D%20L.marker%28%0A%20%20%20%20%20%20%20%20%20%20%20%20%20%20%20%20%5B45.7510734%2C%204.8762286%5D%2C%0A%20%20%20%20%20%20%20%20%20%20%20%20%20%20%20%20%7B%7D%0A%20%20%20%20%20%20%20%20%20%20%20%20%29.addTo%28map_2fafacce87ab4c5fbbbc1a27c8873015%29%3B%0A%20%20%20%20%20%20%20%20%0A%20%20%20%20%0A%20%20%20%20%20%20%20%20%20%20%20%20var%20icon_6c11a33ba7eb47f6843fafe1cd295249%20%3D%20L.AwesomeMarkers.icon%28%0A%20%20%20%20%20%20%20%20%20%20%20%20%20%20%20%20%7B%22extraClasses%22%3A%20%22fa-rotate-0%22%2C%20%22icon%22%3A%20%22info-sign%22%2C%20%22iconColor%22%3A%20%22white%22%2C%20%22markerColor%22%3A%20%22blue%22%2C%20%22prefix%22%3A%20%22glyphicon%22%7D%0A%20%20%20%20%20%20%20%20%20%20%20%20%29%3B%0A%20%20%20%20%20%20%20%20%20%20%20%20marker_9e21e2d8ea164c14b1364e458d3b7165.setIcon%28icon_6c11a33ba7eb47f6843fafe1cd295249%29%3B%0A%20%20%20%20%20%20%20%20%0A%20%20%20%20%0A%20%20%20%20%20%20%20%20var%20popup_02b43836994a49e6a65299ef0e1226fb%20%3D%20L.popup%28%7B%22maxWidth%22%3A%20%22100%25%22%7D%29%3B%0A%0A%20%20%20%20%20%20%20%20%0A%20%20%20%20%20%20%20%20%20%20%20%20var%20html_830c3a76a06a446f99a101e7fdb75c23%20%3D%20%24%28%60%3Cdiv%20id%3D%22html_830c3a76a06a446f99a101e7fdb75c23%22%20style%3D%22width%3A%20100.0%25%3B%20height%3A%20100.0%25%3B%22%3E3337%2C%20Rue%20Feuillat%2C%20Sans%20Souci%2C%20Lyon%203e%20Arrondissement%2C%20Lyon%2C%20M%C3%A9tropole%20de%20Lyon%2C%20Circonscription%20d%C3%A9partementale%20du%20Rh%C3%B4ne%2C%20Auvergne-Rh%C3%B4ne-Alpes%2C%20France%20m%C3%A9tropolitaine%2C%2069003%2C%20France%3C/div%3E%60%29%5B0%5D%3B%0A%20%20%20%20%20%20%20%20%20%20%20%20popup_02b43836994a49e6a65299ef0e1226fb.setContent%28html_830c3a76a06a446f99a101e7fdb75c23%29%3B%0A%20%20%20%20%20%20%20%20%0A%0A%20%20%20%20%20%20%20%20marker_9e21e2d8ea164c14b1364e458d3b7165.bindPopup%28popup_02b43836994a49e6a65299ef0e1226fb%29%0A%20%20%20%20%20%20%20%20%3B%0A%0A%20%20%20%20%20%20%20%20%0A%20%20%20%20%0A%20%20%20%20%0A%20%20%20%20%20%20%20%20%20%20%20%20var%20marker_2424ef32c7054527b4afc2051bb84e51%20%3D%20L.marker%28%0A%20%20%20%20%20%20%20%20%20%20%20%20%20%20%20%20%5B45.7501752%2C%204.8758791%5D%2C%0A%20%20%20%20%20%20%20%20%20%20%20%20%20%20%20%20%7B%7D%0A%20%20%20%20%20%20%20%20%20%20%20%20%29.addTo%28map_2fafacce87ab4c5fbbbc1a27c8873015%29%3B%0A%20%20%20%20%20%20%20%20%0A%20%20%20%20%0A%20%20%20%20%20%20%20%20%20%20%20%20var%20icon_33ebb87a60b74311be2bf70d751573b6%20%3D%20L.AwesomeMarkers.icon%28%0A%20%20%20%20%20%20%20%20%20%20%20%20%20%20%20%20%7B%22extraClasses%22%3A%20%22fa-rotate-0%22%2C%20%22icon%22%3A%20%22info-sign%22%2C%20%22iconColor%22%3A%20%22white%22%2C%20%22markerColor%22%3A%20%22blue%22%2C%20%22prefix%22%3A%20%22glyphicon%22%7D%0A%20%20%20%20%20%20%20%20%20%20%20%20%29%3B%0A%20%20%20%20%20%20%20%20%20%20%20%20marker_2424ef32c7054527b4afc2051bb84e51.setIcon%28icon_33ebb87a60b74311be2bf70d751573b6%29%3B%0A%20%20%20%20%20%20%20%20%0A%20%20%20%20%0A%20%20%20%20%20%20%20%20var%20popup_84f936f5839e424f97a23e80f15fe921%20%3D%20L.popup%28%7B%22maxWidth%22%3A%20%22100%25%22%7D%29%3B%0A%0A%20%20%20%20%20%20%20%20%0A%20%20%20%20%20%20%20%20%20%20%20%20var%20html_f722f6577fec4443b7b8a8258d75c6e0%20%3D%20%24%28%60%3Cdiv%20id%3D%22html_f722f6577fec4443b7b8a8258d75c6e0%22%20style%3D%22width%3A%20100.0%25%3B%20height%3A%20100.0%25%3B%22%3ERue%20Feuillat%2C%20Sans%20Souci%2C%20Lyon%203e%20Arrondissement%2C%20Lyon%2C%20M%C3%A9tropole%20de%20Lyon%2C%20Circonscription%20d%C3%A9partementale%20du%20Rh%C3%B4ne%2C%20Auvergne-Rh%C3%B4ne-Alpes%2C%20France%20m%C3%A9tropolitaine%2C%2069003%2C%20France%3C/div%3E%60%29%5B0%5D%3B%0A%20%20%20%20%20%20%20%20%20%20%20%20popup_84f936f5839e424f97a23e80f15fe921.setContent%28html_f722f6577fec4443b7b8a8258d75c6e0%29%3B%0A%20%20%20%20%20%20%20%20%0A%0A%20%20%20%20%20%20%20%20marker_2424ef32c7054527b4afc2051bb84e51.bindPopup%28popup_84f936f5839e424f97a23e80f15fe921%29%0A%20%20%20%20%20%20%20%20%3B%0A%0A%20%20%20%20%20%20%20%20%0A%20%20%20%20%0A%20%20%20%20%0A%20%20%20%20%20%20%20%20%20%20%20%20var%20marker_3b9b8ae400cb491b95d35c31fdfdfdd5%20%3D%20L.marker%28%0A%20%20%20%20%20%20%20%20%20%20%20%20%20%20%20%20%5B45.7374585%2C%204.857193%5D%2C%0A%20%20%20%20%20%20%20%20%20%20%20%20%20%20%20%20%7B%7D%0A%20%20%20%20%20%20%20%20%20%20%20%20%29.addTo%28map_2fafacce87ab4c5fbbbc1a27c8873015%29%3B%0A%20%20%20%20%20%20%20%20%0A%20%20%20%20%0A%20%20%20%20%20%20%20%20%20%20%20%20var%20icon_c127641b03b24035a4bc895f383be99a%20%3D%20L.AwesomeMarkers.icon%28%0A%20%20%20%20%20%20%20%20%20%20%20%20%20%20%20%20%7B%22extraClasses%22%3A%20%22fa-rotate-0%22%2C%20%22icon%22%3A%20%22info-sign%22%2C%20%22iconColor%22%3A%20%22white%22%2C%20%22markerColor%22%3A%20%22blue%22%2C%20%22prefix%22%3A%20%22glyphicon%22%7D%0A%20%20%20%20%20%20%20%20%20%20%20%20%29%3B%0A%20%20%20%20%20%20%20%20%20%20%20%20marker_3b9b8ae400cb491b95d35c31fdfdfdd5.setIcon%28icon_c127641b03b24035a4bc895f383be99a%29%3B%0A%20%20%20%20%20%20%20%20%0A%20%20%20%20%0A%20%20%20%20%20%20%20%20var%20popup_f0b32eee6d4b48ee9f3ad523329d1e1d%20%3D%20L.popup%28%7B%22maxWidth%22%3A%20%22100%25%22%7D%29%3B%0A%0A%20%20%20%20%20%20%20%20%0A%20%20%20%20%20%20%20%20%20%20%20%20var%20html_a70bfcc1559d4131a39457716221482a%20%3D%20%24%28%60%3Cdiv%20id%3D%22html_a70bfcc1559d4131a39457716221482a%22%20style%3D%22width%3A%20100.0%25%3B%20height%3A%20100.0%25%3B%22%3EAll%C3%A9e%2022%2C%20Le%20Grand%20Trou%2C%20Lyon%208e%20Arrondissement%2C%20Lyon%2C%20M%C3%A9tropole%20de%20Lyon%2C%20Circonscription%20d%C3%A9partementale%20du%20Rh%C3%B4ne%2C%20Auvergne-Rh%C3%B4ne-Alpes%2C%20France%20m%C3%A9tropolitaine%2C%2069008%2C%20France%3C/div%3E%60%29%5B0%5D%3B%0A%20%20%20%20%20%20%20%20%20%20%20%20popup_f0b32eee6d4b48ee9f3ad523329d1e1d.setContent%28html_a70bfcc1559d4131a39457716221482a%29%3B%0A%20%20%20%20%20%20%20%20%0A%0A%20%20%20%20%20%20%20%20marker_3b9b8ae400cb491b95d35c31fdfdfdd5.bindPopup%28popup_f0b32eee6d4b48ee9f3ad523329d1e1d%29%0A%20%20%20%20%20%20%20%20%3B%0A%0A%20%20%20%20%20%20%20%20%0A%20%20%20%20%0A%20%20%20%20%0A%20%20%20%20%20%20%20%20%20%20%20%20var%20marker_b2e460ad7391430c8332b9a00f739507%20%3D%20L.marker%28%0A%20%20%20%20%20%20%20%20%20%20%20%20%20%20%20%20%5B45.7366479%2C%204.865864%5D%2C%0A%20%20%20%20%20%20%20%20%20%20%20%20%20%20%20%20%7B%7D%0A%20%20%20%20%20%20%20%20%20%20%20%20%29.addTo%28map_2fafacce87ab4c5fbbbc1a27c8873015%29%3B%0A%20%20%20%20%20%20%20%20%0A%20%20%20%20%0A%20%20%20%20%20%20%20%20%20%20%20%20var%20icon_1f4e0623cf5a46a2a844257a97c5c299%20%3D%20L.AwesomeMarkers.icon%28%0A%20%20%20%20%20%20%20%20%20%20%20%20%20%20%20%20%7B%22extraClasses%22%3A%20%22fa-rotate-0%22%2C%20%22icon%22%3A%20%22info-sign%22%2C%20%22iconColor%22%3A%20%22white%22%2C%20%22markerColor%22%3A%20%22blue%22%2C%20%22prefix%22%3A%20%22glyphicon%22%7D%0A%20%20%20%20%20%20%20%20%20%20%20%20%29%3B%0A%20%20%20%20%20%20%20%20%20%20%20%20marker_b2e460ad7391430c8332b9a00f739507.setIcon%28icon_1f4e0623cf5a46a2a844257a97c5c299%29%3B%0A%20%20%20%20%20%20%20%20%0A%20%20%20%20%0A%20%20%20%20%20%20%20%20var%20popup_139dc5655c4640b5992281b754f086db%20%3D%20L.popup%28%7B%22maxWidth%22%3A%20%22100%25%22%7D%29%3B%0A%0A%20%20%20%20%20%20%20%20%0A%20%20%20%20%20%20%20%20%20%20%20%20var%20html_3008c7d147f348aaa782f2dc49930e41%20%3D%20%24%28%60%3Cdiv%20id%3D%22html_3008c7d147f348aaa782f2dc49930e41%22%20style%3D%22width%3A%20100.0%25%3B%20height%3A%20100.0%25%3B%22%3E6%2C%20Rue%20Xavier%20Privas%2C%20Le%20Bachut%2C%20Lyon%208e%20Arrondissement%2C%20Lyon%2C%20M%C3%A9tropole%20de%20Lyon%2C%20Circonscription%20d%C3%A9partementale%20du%20Rh%C3%B4ne%2C%20Auvergne-Rh%C3%B4ne-Alpes%2C%20France%20m%C3%A9tropolitaine%2C%2069008%2C%20France%3C/div%3E%60%29%5B0%5D%3B%0A%20%20%20%20%20%20%20%20%20%20%20%20popup_139dc5655c4640b5992281b754f086db.setContent%28html_3008c7d147f348aaa782f2dc49930e41%29%3B%0A%20%20%20%20%20%20%20%20%0A%0A%20%20%20%20%20%20%20%20marker_b2e460ad7391430c8332b9a00f739507.bindPopup%28popup_139dc5655c4640b5992281b754f086db%29%0A%20%20%20%20%20%20%20%20%3B%0A%0A%20%20%20%20%20%20%20%20%0A%20%20%20%20%0A%20%20%20%20%0A%20%20%20%20%20%20%20%20%20%20%20%20var%20marker_d0a5e7cce6e7486d989a8ae61de9aa43%20%3D%20L.marker%28%0A%20%20%20%20%20%20%20%20%20%20%20%20%20%20%20%20%5B45.7373998%2C%204.8654258%5D%2C%0A%20%20%20%20%20%20%20%20%20%20%20%20%20%20%20%20%7B%7D%0A%20%20%20%20%20%20%20%20%20%20%20%20%29.addTo%28map_2fafacce87ab4c5fbbbc1a27c8873015%29%3B%0A%20%20%20%20%20%20%20%20%0A%20%20%20%20%0A%20%20%20%20%20%20%20%20%20%20%20%20var%20icon_ce6f59d249f74861aa5d52177e2ed188%20%3D%20L.AwesomeMarkers.icon%28%0A%20%20%20%20%20%20%20%20%20%20%20%20%20%20%20%20%7B%22extraClasses%22%3A%20%22fa-rotate-0%22%2C%20%22icon%22%3A%20%22info-sign%22%2C%20%22iconColor%22%3A%20%22white%22%2C%20%22markerColor%22%3A%20%22blue%22%2C%20%22prefix%22%3A%20%22glyphicon%22%7D%0A%20%20%20%20%20%20%20%20%20%20%20%20%29%3B%0A%20%20%20%20%20%20%20%20%20%20%20%20marker_d0a5e7cce6e7486d989a8ae61de9aa43.setIcon%28icon_ce6f59d249f74861aa5d52177e2ed188%29%3B%0A%20%20%20%20%20%20%20%20%0A%20%20%20%20%0A%20%20%20%20%20%20%20%20var%20popup_7326dd0fe60e4f4991a0c799e287ce35%20%3D%20L.popup%28%7B%22maxWidth%22%3A%20%22100%25%22%7D%29%3B%0A%0A%20%20%20%20%20%20%20%20%0A%20%20%20%20%20%20%20%20%20%20%20%20var%20html_de31f7636cc048c3bf917846ca785180%20%3D%20%24%28%60%3Cdiv%20id%3D%22html_de31f7636cc048c3bf917846ca785180%22%20style%3D%22width%3A%20100.0%25%3B%20height%3A%20100.0%25%3B%22%3E8102%2C%20Rue%20Paul%20Cazeneuve%2C%20Le%20Bachut%2C%20Lyon%208e%20Arrondissement%2C%20Lyon%2C%20M%C3%A9tropole%20de%20Lyon%2C%20Circonscription%20d%C3%A9partementale%20du%20Rh%C3%B4ne%2C%20Auvergne-Rh%C3%B4ne-Alpes%2C%20France%20m%C3%A9tropolitaine%2C%2069008%2C%20France%3C/div%3E%60%29%5B0%5D%3B%0A%20%20%20%20%20%20%20%20%20%20%20%20popup_7326dd0fe60e4f4991a0c799e287ce35.setContent%28html_de31f7636cc048c3bf917846ca785180%29%3B%0A%20%20%20%20%20%20%20%20%0A%0A%20%20%20%20%20%20%20%20marker_d0a5e7cce6e7486d989a8ae61de9aa43.bindPopup%28popup_7326dd0fe60e4f4991a0c799e287ce35%29%0A%20%20%20%20%20%20%20%20%3B%0A%0A%20%20%20%20%20%20%20%20%0A%20%20%20%20%0A%20%20%20%20%0A%20%20%20%20%20%20%20%20%20%20%20%20var%20marker_23452966771747bea8779d8fd53e88d9%20%3D%20L.marker%28%0A%20%20%20%20%20%20%20%20%20%20%20%20%20%20%20%20%5B45.7523996%2C%204.8578017%5D%2C%0A%20%20%20%20%20%20%20%20%20%20%20%20%20%20%20%20%7B%7D%0A%20%20%20%20%20%20%20%20%20%20%20%20%29.addTo%28map_2fafacce87ab4c5fbbbc1a27c8873015%29%3B%0A%20%20%20%20%20%20%20%20%0A%20%20%20%20%0A%20%20%20%20%20%20%20%20%20%20%20%20var%20icon_2477e0e089194258beb19626c2766757%20%3D%20L.AwesomeMarkers.icon%28%0A%20%20%20%20%20%20%20%20%20%20%20%20%20%20%20%20%7B%22extraClasses%22%3A%20%22fa-rotate-0%22%2C%20%22icon%22%3A%20%22info-sign%22%2C%20%22iconColor%22%3A%20%22white%22%2C%20%22markerColor%22%3A%20%22blue%22%2C%20%22prefix%22%3A%20%22glyphicon%22%7D%0A%20%20%20%20%20%20%20%20%20%20%20%20%29%3B%0A%20%20%20%20%20%20%20%20%20%20%20%20marker_23452966771747bea8779d8fd53e88d9.setIcon%28icon_2477e0e089194258beb19626c2766757%29%3B%0A%20%20%20%20%20%20%20%20%0A%20%20%20%20%0A%20%20%20%20%20%20%20%20var%20popup_a1b3726d18e0401ab793d0f9a3b5efc2%20%3D%20L.popup%28%7B%22maxWidth%22%3A%20%22100%25%22%7D%29%3B%0A%0A%20%20%20%20%20%20%20%20%0A%20%20%20%20%20%20%20%20%20%20%20%20var%20html_3aeaa33701cc4827ba1981750258958e%20%3D%20%24%28%60%3Cdiv%20id%3D%22html_3aeaa33701cc4827ba1981750258958e%22%20style%3D%22width%3A%20100.0%25%3B%20height%3A%20100.0%25%3B%22%3E%C3%89cole%20maternelle%20et%20primaire%20publique%20Aim%C3%A9%20C%C3%A9saire%2C%20Rue%20Professeur%20Ren%C3%A9%20Guillet%2C%20Part-Dieu%2C%20Lyon%203e%20Arrondissement%2C%20Lyon%2C%20M%C3%A9tropole%20de%20Lyon%2C%20Circonscription%20d%C3%A9partementale%20du%20Rh%C3%B4ne%2C%20Auvergne-Rh%C3%B4ne-Alpes%2C%20France%20m%C3%A9tropolitaine%2C%2069003%2C%20France%3C/div%3E%60%29%5B0%5D%3B%0A%20%20%20%20%20%20%20%20%20%20%20%20popup_a1b3726d18e0401ab793d0f9a3b5efc2.setContent%28html_3aeaa33701cc4827ba1981750258958e%29%3B%0A%20%20%20%20%20%20%20%20%0A%0A%20%20%20%20%20%20%20%20marker_23452966771747bea8779d8fd53e88d9.bindPopup%28popup_a1b3726d18e0401ab793d0f9a3b5efc2%29%0A%20%20%20%20%20%20%20%20%3B%0A%0A%20%20%20%20%20%20%20%20%0A%20%20%20%20%0A%20%20%20%20%0A%20%20%20%20%20%20%20%20%20%20%20%20var%20marker_a370f7f2b2734a0ba6f33d253f466265%20%3D%20L.marker%28%0A%20%20%20%20%20%20%20%20%20%20%20%20%20%20%20%20%5B45.7367276%2C%204.8650719%5D%2C%0A%20%20%20%20%20%20%20%20%20%20%20%20%20%20%20%20%7B%7D%0A%20%20%20%20%20%20%20%20%20%20%20%20%29.addTo%28map_2fafacce87ab4c5fbbbc1a27c8873015%29%3B%0A%20%20%20%20%20%20%20%20%0A%20%20%20%20%0A%20%20%20%20%20%20%20%20%20%20%20%20var%20icon_d043b38e6ede49d19e694f220bed012a%20%3D%20L.AwesomeMarkers.icon%28%0A%20%20%20%20%20%20%20%20%20%20%20%20%20%20%20%20%7B%22extraClasses%22%3A%20%22fa-rotate-0%22%2C%20%22icon%22%3A%20%22info-sign%22%2C%20%22iconColor%22%3A%20%22white%22%2C%20%22markerColor%22%3A%20%22blue%22%2C%20%22prefix%22%3A%20%22glyphicon%22%7D%0A%20%20%20%20%20%20%20%20%20%20%20%20%29%3B%0A%20%20%20%20%20%20%20%20%20%20%20%20marker_a370f7f2b2734a0ba6f33d253f466265.setIcon%28icon_d043b38e6ede49d19e694f220bed012a%29%3B%0A%20%20%20%20%20%20%20%20%0A%20%20%20%20%0A%20%20%20%20%20%20%20%20var%20popup_1c4044873f054f0db0c295b9e8264d37%20%3D%20L.popup%28%7B%22maxWidth%22%3A%20%22100%25%22%7D%29%3B%0A%0A%20%20%20%20%20%20%20%20%0A%20%20%20%20%20%20%20%20%20%20%20%20var%20html_6bff3807dddb4c4ab359d6258d1d3352%20%3D%20%24%28%60%3Cdiv%20id%3D%22html_6bff3807dddb4c4ab359d6258d1d3352%22%20style%3D%22width%3A%20100.0%25%3B%20height%3A%20100.0%25%3B%22%3EColl%C3%A8ge%20Alice%20Guy%2C%20Rue%20Xavier%20Privas%2C%20Le%20Bachut%2C%20Lyon%208e%20Arrondissement%2C%20Lyon%2C%20M%C3%A9tropole%20de%20Lyon%2C%20Circonscription%20d%C3%A9partementale%20du%20Rh%C3%B4ne%2C%20Auvergne-Rh%C3%B4ne-Alpes%2C%20France%20m%C3%A9tropolitaine%2C%2069008%2C%20France%3C/div%3E%60%29%5B0%5D%3B%0A%20%20%20%20%20%20%20%20%20%20%20%20popup_1c4044873f054f0db0c295b9e8264d37.setContent%28html_6bff3807dddb4c4ab359d6258d1d3352%29%3B%0A%20%20%20%20%20%20%20%20%0A%0A%20%20%20%20%20%20%20%20marker_a370f7f2b2734a0ba6f33d253f466265.bindPopup%28popup_1c4044873f054f0db0c295b9e8264d37%29%0A%20%20%20%20%20%20%20%20%3B%0A%0A%20%20%20%20%20%20%20%20%0A%20%20%20%20%0A%20%20%20%20%0A%20%20%20%20%20%20%20%20%20%20%20%20var%20marker_0deaadea73b14a43ab610738bf958bd9%20%3D%20L.marker%28%0A%20%20%20%20%20%20%20%20%20%20%20%20%20%20%20%20%5B45.7513838%2C%204.8762719%5D%2C%0A%20%20%20%20%20%20%20%20%20%20%20%20%20%20%20%20%7B%7D%0A%20%20%20%20%20%20%20%20%20%20%20%20%29.addTo%28map_2fafacce87ab4c5fbbbc1a27c8873015%29%3B%0A%20%20%20%20%20%20%20%20%0A%20%20%20%20%0A%20%20%20%20%20%20%20%20%20%20%20%20var%20icon_88632368a6294d0d9733ef21205ce53e%20%3D%20L.AwesomeMarkers.icon%28%0A%20%20%20%20%20%20%20%20%20%20%20%20%20%20%20%20%7B%22extraClasses%22%3A%20%22fa-rotate-0%22%2C%20%22icon%22%3A%20%22info-sign%22%2C%20%22iconColor%22%3A%20%22white%22%2C%20%22markerColor%22%3A%20%22blue%22%2C%20%22prefix%22%3A%20%22glyphicon%22%7D%0A%20%20%20%20%20%20%20%20%20%20%20%20%29%3B%0A%20%20%20%20%20%20%20%20%20%20%20%20marker_0deaadea73b14a43ab610738bf958bd9.setIcon%28icon_88632368a6294d0d9733ef21205ce53e%29%3B%0A%20%20%20%20%20%20%20%20%0A%20%20%20%20%0A%20%20%20%20%20%20%20%20var%20popup_7d00eb2ee8114d5f86f3eefc9a48954d%20%3D%20L.popup%28%7B%22maxWidth%22%3A%20%22100%25%22%7D%29%3B%0A%0A%20%20%20%20%20%20%20%20%0A%20%20%20%20%20%20%20%20%20%20%20%20var%20html_e78cf7bef0ac41e59dbc3dc5c0c90f07%20%3D%20%24%28%60%3Cdiv%20id%3D%22html_e78cf7bef0ac41e59dbc3dc5c0c90f07%22%20style%3D%22width%3A%20100.0%25%3B%20height%3A%20100.0%25%3B%22%3E3337%2C%20Rue%20Feuillat%2C%20Sans%20Souci%2C%20Lyon%203e%20Arrondissement%2C%20Lyon%2C%20M%C3%A9tropole%20de%20Lyon%2C%20Circonscription%20d%C3%A9partementale%20du%20Rh%C3%B4ne%2C%20Auvergne-Rh%C3%B4ne-Alpes%2C%20France%20m%C3%A9tropolitaine%2C%2069003%2C%20France%3C/div%3E%60%29%5B0%5D%3B%0A%20%20%20%20%20%20%20%20%20%20%20%20popup_7d00eb2ee8114d5f86f3eefc9a48954d.setContent%28html_e78cf7bef0ac41e59dbc3dc5c0c90f07%29%3B%0A%20%20%20%20%20%20%20%20%0A%0A%20%20%20%20%20%20%20%20marker_0deaadea73b14a43ab610738bf958bd9.bindPopup%28popup_7d00eb2ee8114d5f86f3eefc9a48954d%29%0A%20%20%20%20%20%20%20%20%3B%0A%0A%20%20%20%20%20%20%20%20%0A%20%20%20%20%0A%20%20%20%20%0A%20%20%20%20%20%20%20%20%20%20%20%20var%20marker_4c11333596aa4497a74dfb705635c27d%20%3D%20L.marker%28%0A%20%20%20%20%20%20%20%20%20%20%20%20%20%20%20%20%5B45.7502167%2C%204.8758565%5D%2C%0A%20%20%20%20%20%20%20%20%20%20%20%20%20%20%20%20%7B%7D%0A%20%20%20%20%20%20%20%20%20%20%20%20%29.addTo%28map_2fafacce87ab4c5fbbbc1a27c8873015%29%3B%0A%20%20%20%20%20%20%20%20%0A%20%20%20%20%0A%20%20%20%20%20%20%20%20%20%20%20%20var%20icon_1198c9b219e84863a5e4d46b11fcacb8%20%3D%20L.AwesomeMarkers.icon%28%0A%20%20%20%20%20%20%20%20%20%20%20%20%20%20%20%20%7B%22extraClasses%22%3A%20%22fa-rotate-0%22%2C%20%22icon%22%3A%20%22info-sign%22%2C%20%22iconColor%22%3A%20%22white%22%2C%20%22markerColor%22%3A%20%22blue%22%2C%20%22prefix%22%3A%20%22glyphicon%22%7D%0A%20%20%20%20%20%20%20%20%20%20%20%20%29%3B%0A%20%20%20%20%20%20%20%20%20%20%20%20marker_4c11333596aa4497a74dfb705635c27d.setIcon%28icon_1198c9b219e84863a5e4d46b11fcacb8%29%3B%0A%20%20%20%20%20%20%20%20%0A%20%20%20%20%0A%20%20%20%20%20%20%20%20var%20popup_4d75913b157b4a50a52f6313b28554cd%20%3D%20L.popup%28%7B%22maxWidth%22%3A%20%22100%25%22%7D%29%3B%0A%0A%20%20%20%20%20%20%20%20%0A%20%20%20%20%20%20%20%20%20%20%20%20var%20html_4e7aacec2fa046e4b4586767f8ae3cb2%20%3D%20%24%28%60%3Cdiv%20id%3D%22html_4e7aacec2fa046e4b4586767f8ae3cb2%22%20style%3D%22width%3A%20100.0%25%3B%20height%3A%20100.0%25%3B%22%3ERue%20Feuillat%2C%20Sans%20Souci%2C%20Lyon%203e%20Arrondissement%2C%20Lyon%2C%20M%C3%A9tropole%20de%20Lyon%2C%20Circonscription%20d%C3%A9partementale%20du%20Rh%C3%B4ne%2C%20Auvergne-Rh%C3%B4ne-Alpes%2C%20France%20m%C3%A9tropolitaine%2C%2069003%2C%20France%3C/div%3E%60%29%5B0%5D%3B%0A%20%20%20%20%20%20%20%20%20%20%20%20popup_4d75913b157b4a50a52f6313b28554cd.setContent%28html_4e7aacec2fa046e4b4586767f8ae3cb2%29%3B%0A%20%20%20%20%20%20%20%20%0A%0A%20%20%20%20%20%20%20%20marker_4c11333596aa4497a74dfb705635c27d.bindPopup%28popup_4d75913b157b4a50a52f6313b28554cd%29%0A%20%20%20%20%20%20%20%20%3B%0A%0A%20%20%20%20%20%20%20%20%0A%20%20%20%20%0A%20%20%20%20%0A%20%20%20%20%20%20%20%20%20%20%20%20var%20marker_adfbe8ee075c482dac82684d01aa2c48%20%3D%20L.marker%28%0A%20%20%20%20%20%20%20%20%20%20%20%20%20%20%20%20%5B45.7286859%2C%204.8638233%5D%2C%0A%20%20%20%20%20%20%20%20%20%20%20%20%20%20%20%20%7B%7D%0A%20%20%20%20%20%20%20%20%20%20%20%20%29.addTo%28map_2fafacce87ab4c5fbbbc1a27c8873015%29%3B%0A%20%20%20%20%20%20%20%20%0A%20%20%20%20%0A%20%20%20%20%20%20%20%20%20%20%20%20var%20icon_d8ef0d3c75184466911dd0dcbab2ea37%20%3D%20L.AwesomeMarkers.icon%28%0A%20%20%20%20%20%20%20%20%20%20%20%20%20%20%20%20%7B%22extraClasses%22%3A%20%22fa-rotate-0%22%2C%20%22icon%22%3A%20%22info-sign%22%2C%20%22iconColor%22%3A%20%22white%22%2C%20%22markerColor%22%3A%20%22blue%22%2C%20%22prefix%22%3A%20%22glyphicon%22%7D%0A%20%20%20%20%20%20%20%20%20%20%20%20%29%3B%0A%20%20%20%20%20%20%20%20%20%20%20%20marker_adfbe8ee075c482dac82684d01aa2c48.setIcon%28icon_d8ef0d3c75184466911dd0dcbab2ea37%29%3B%0A%20%20%20%20%20%20%20%20%0A%20%20%20%20%0A%20%20%20%20%20%20%20%20var%20popup_3208b01ad57e4796b78221c1614bf245%20%3D%20L.popup%28%7B%22maxWidth%22%3A%20%22100%25%22%7D%29%3B%0A%0A%20%20%20%20%20%20%20%20%0A%20%20%20%20%20%20%20%20%20%20%20%20var%20html_e876062ea45a459aa12be125917ac9b7%20%3D%20%24%28%60%3Cdiv%20id%3D%22html_e876062ea45a459aa12be125917ac9b7%22%20style%3D%22width%3A%20100.0%25%3B%20height%3A%20100.0%25%3B%22%3E160%2C%20Rue%20du%20Professeur%20Beauvisage%2C%20Les%20%C3%89tats-Unis%2C%20Lyon%208e%20Arrondissement%2C%20Lyon%2C%20M%C3%A9tropole%20de%20Lyon%2C%20Circonscription%20d%C3%A9partementale%20du%20Rh%C3%B4ne%2C%20Auvergne-Rh%C3%B4ne-Alpes%2C%20France%20m%C3%A9tropolitaine%2C%2069008%2C%20France%3C/div%3E%60%29%5B0%5D%3B%0A%20%20%20%20%20%20%20%20%20%20%20%20popup_3208b01ad57e4796b78221c1614bf245.setContent%28html_e876062ea45a459aa12be125917ac9b7%29%3B%0A%20%20%20%20%20%20%20%20%0A%0A%20%20%20%20%20%20%20%20marker_adfbe8ee075c482dac82684d01aa2c48.bindPopup%28popup_3208b01ad57e4796b78221c1614bf245%29%0A%20%20%20%20%20%20%20%20%3B%0A%0A%20%20%20%20%20%20%20%20%0A%20%20%20%20%0A%20%20%20%20%0A%20%20%20%20%20%20%20%20%20%20%20%20var%20marker_17b4a00636be4bfd8d4827119e8afa80%20%3D%20L.marker%28%0A%20%20%20%20%20%20%20%20%20%20%20%20%20%20%20%20%5B45.7532175%2C%204.8618649%5D%2C%0A%20%20%20%20%20%20%20%20%20%20%20%20%20%20%20%20%7B%7D%0A%20%20%20%20%20%20%20%20%20%20%20%20%29.addTo%28map_2fafacce87ab4c5fbbbc1a27c8873015%29%3B%0A%20%20%20%20%20%20%20%20%0A%20%20%20%20%0A%20%20%20%20%20%20%20%20%20%20%20%20var%20icon_a647f79109f4471aaaf920e8da40ed32%20%3D%20L.AwesomeMarkers.icon%28%0A%20%20%20%20%20%20%20%20%20%20%20%20%20%20%20%20%7B%22extraClasses%22%3A%20%22fa-rotate-0%22%2C%20%22icon%22%3A%20%22info-sign%22%2C%20%22iconColor%22%3A%20%22white%22%2C%20%22markerColor%22%3A%20%22blue%22%2C%20%22prefix%22%3A%20%22glyphicon%22%7D%0A%20%20%20%20%20%20%20%20%20%20%20%20%29%3B%0A%20%20%20%20%20%20%20%20%20%20%20%20marker_17b4a00636be4bfd8d4827119e8afa80.setIcon%28icon_a647f79109f4471aaaf920e8da40ed32%29%3B%0A%20%20%20%20%20%20%20%20%0A%20%20%20%20%0A%20%20%20%20%20%20%20%20var%20popup_138da63421b843f99dd18fb24f492184%20%3D%20L.popup%28%7B%22maxWidth%22%3A%20%22100%25%22%7D%29%3B%0A%0A%20%20%20%20%20%20%20%20%0A%20%20%20%20%20%20%20%20%20%20%20%20var%20html_a090f0d1b6264e9b9f5b6256a93d64cb%20%3D%20%24%28%60%3Cdiv%20id%3D%22html_a090f0d1b6264e9b9f5b6256a93d64cb%22%20style%3D%22width%3A%20100.0%25%3B%20height%3A%20100.0%25%3B%22%3ERue%20du%20G%C3%A9n%C3%A9ral%20Mouton-Duvernet%2C%20Part-Dieu%2C%20Lyon%203e%20Arrondissement%2C%20Lyon%2C%20M%C3%A9tropole%20de%20Lyon%2C%20Circonscription%20d%C3%A9partementale%20du%20Rh%C3%B4ne%2C%20Auvergne-Rh%C3%B4ne-Alpes%2C%20France%20m%C3%A9tropolitaine%2C%2069003%2C%20France%3C/div%3E%60%29%5B0%5D%3B%0A%20%20%20%20%20%20%20%20%20%20%20%20popup_138da63421b843f99dd18fb24f492184.setContent%28html_a090f0d1b6264e9b9f5b6256a93d64cb%29%3B%0A%20%20%20%20%20%20%20%20%0A%0A%20%20%20%20%20%20%20%20marker_17b4a00636be4bfd8d4827119e8afa80.bindPopup%28popup_138da63421b843f99dd18fb24f492184%29%0A%20%20%20%20%20%20%20%20%3B%0A%0A%20%20%20%20%20%20%20%20%0A%20%20%20%20%0A%20%20%20%20%0A%20%20%20%20%20%20%20%20%20%20%20%20var%20marker_06aeb7ae402c4a1380b73f426b36d0c8%20%3D%20L.marker%28%0A%20%20%20%20%20%20%20%20%20%20%20%20%20%20%20%20%5B45.7367062%2C%204.8421532%5D%2C%0A%20%20%20%20%20%20%20%20%20%20%20%20%20%20%20%20%7B%7D%0A%20%20%20%20%20%20%20%20%20%20%20%20%29.addTo%28map_2fafacce87ab4c5fbbbc1a27c8873015%29%3B%0A%20%20%20%20%20%20%20%20%0A%20%20%20%20%0A%20%20%20%20%20%20%20%20%20%20%20%20var%20icon_5b37438dbf074b6ba67cc2c4c0122440%20%3D%20L.AwesomeMarkers.icon%28%0A%20%20%20%20%20%20%20%20%20%20%20%20%20%20%20%20%7B%22extraClasses%22%3A%20%22fa-rotate-0%22%2C%20%22icon%22%3A%20%22info-sign%22%2C%20%22iconColor%22%3A%20%22white%22%2C%20%22markerColor%22%3A%20%22blue%22%2C%20%22prefix%22%3A%20%22glyphicon%22%7D%0A%20%20%20%20%20%20%20%20%20%20%20%20%29%3B%0A%20%20%20%20%20%20%20%20%20%20%20%20marker_06aeb7ae402c4a1380b73f426b36d0c8.setIcon%28icon_5b37438dbf074b6ba67cc2c4c0122440%29%3B%0A%20%20%20%20%20%20%20%20%0A%20%20%20%20%0A%20%20%20%20%20%20%20%20var%20popup_859668d7328c4ac382f9508957ef97d5%20%3D%20L.popup%28%7B%22maxWidth%22%3A%20%22100%25%22%7D%29%3B%0A%0A%20%20%20%20%20%20%20%20%0A%20%20%20%20%20%20%20%20%20%20%20%20var%20html_43879ce4850c4533a0e461cf32618fe1%20%3D%20%24%28%60%3Cdiv%20id%3D%22html_43879ce4850c4533a0e461cf32618fe1%22%20style%3D%22width%3A%20100.0%25%3B%20height%3A%20100.0%25%3B%22%3E24%2C%20Rue%20Croix%20Barret%2C%20Gerland%2C%20Lyon%207e%20Arrondissement%2C%20Lyon%2C%20M%C3%A9tropole%20de%20Lyon%2C%20Circonscription%20d%C3%A9partementale%20du%20Rh%C3%B4ne%2C%20Auvergne-Rh%C3%B4ne-Alpes%2C%20France%20m%C3%A9tropolitaine%2C%2069007%2C%20France%3C/div%3E%60%29%5B0%5D%3B%0A%20%20%20%20%20%20%20%20%20%20%20%20popup_859668d7328c4ac382f9508957ef97d5.setContent%28html_43879ce4850c4533a0e461cf32618fe1%29%3B%0A%20%20%20%20%20%20%20%20%0A%0A%20%20%20%20%20%20%20%20marker_06aeb7ae402c4a1380b73f426b36d0c8.bindPopup%28popup_859668d7328c4ac382f9508957ef97d5%29%0A%20%20%20%20%20%20%20%20%3B%0A%0A%20%20%20%20%20%20%20%20%0A%20%20%20%20%0A%20%20%20%20%0A%20%20%20%20%20%20%20%20%20%20%20%20var%20marker_d6f208285f6f4c319786aeed116bd48d%20%3D%20L.marker%28%0A%20%20%20%20%20%20%20%20%20%20%20%20%20%20%20%20%5B45.752667%2C%204.8882344%5D%2C%0A%20%20%20%20%20%20%20%20%20%20%20%20%20%20%20%20%7B%7D%0A%20%20%20%20%20%20%20%20%20%20%20%20%29.addTo%28map_2fafacce87ab4c5fbbbc1a27c8873015%29%3B%0A%20%20%20%20%20%20%20%20%0A%20%20%20%20%0A%20%20%20%20%20%20%20%20%20%20%20%20var%20icon_887c782a85144737b5040a29e008ed71%20%3D%20L.AwesomeMarkers.icon%28%0A%20%20%20%20%20%20%20%20%20%20%20%20%20%20%20%20%7B%22extraClasses%22%3A%20%22fa-rotate-0%22%2C%20%22icon%22%3A%20%22info-sign%22%2C%20%22iconColor%22%3A%20%22white%22%2C%20%22markerColor%22%3A%20%22blue%22%2C%20%22prefix%22%3A%20%22glyphicon%22%7D%0A%20%20%20%20%20%20%20%20%20%20%20%20%29%3B%0A%20%20%20%20%20%20%20%20%20%20%20%20marker_d6f208285f6f4c319786aeed116bd48d.setIcon%28icon_887c782a85144737b5040a29e008ed71%29%3B%0A%20%20%20%20%20%20%20%20%0A%20%20%20%20%0A%20%20%20%20%20%20%20%20var%20popup_baa4f00eba674833b6478289fdba16b9%20%3D%20L.popup%28%7B%22maxWidth%22%3A%20%22100%25%22%7D%29%3B%0A%0A%20%20%20%20%20%20%20%20%0A%20%20%20%20%20%20%20%20%20%20%20%20var%20html_a8a539f5d4d149b189a3d718de5e2777%20%3D%20%24%28%60%3Cdiv%20id%3D%22html_a8a539f5d4d149b189a3d718de5e2777%22%20style%3D%22width%3A%20100.0%25%3B%20height%3A%20100.0%25%3B%22%3E15%2C%20Rue%20Louis%2C%20Montchat%2C%20Lyon%203e%20Arrondissement%2C%20Lyon%2C%20M%C3%A9tropole%20de%20Lyon%2C%20Circonscription%20d%C3%A9partementale%20du%20Rh%C3%B4ne%2C%20Auvergne-Rh%C3%B4ne-Alpes%2C%20France%20m%C3%A9tropolitaine%2C%2069003%2C%20France%3C/div%3E%60%29%5B0%5D%3B%0A%20%20%20%20%20%20%20%20%20%20%20%20popup_baa4f00eba674833b6478289fdba16b9.setContent%28html_a8a539f5d4d149b189a3d718de5e2777%29%3B%0A%20%20%20%20%20%20%20%20%0A%0A%20%20%20%20%20%20%20%20marker_d6f208285f6f4c319786aeed116bd48d.bindPopup%28popup_baa4f00eba674833b6478289fdba16b9%29%0A%20%20%20%20%20%20%20%20%3B%0A%0A%20%20%20%20%20%20%20%20%0A%20%20%20%20%0A%20%20%20%20%0A%20%20%20%20%20%20%20%20%20%20%20%20var%20marker_258d10c21bf24736bb3e6452b5a3a08a%20%3D%20L.marker%28%0A%20%20%20%20%20%20%20%20%20%20%20%20%20%20%20%20%5B45.7524946%2C%204.8688204%5D%2C%0A%20%20%20%20%20%20%20%20%20%20%20%20%20%20%20%20%7B%7D%0A%20%20%20%20%20%20%20%20%20%20%20%20%29.addTo%28map_2fafacce87ab4c5fbbbc1a27c8873015%29%3B%0A%20%20%20%20%20%20%20%20%0A%20%20%20%20%0A%20%20%20%20%20%20%20%20%20%20%20%20var%20icon_c514b987307f4b18984bee161adb69f9%20%3D%20L.AwesomeMarkers.icon%28%0A%20%20%20%20%20%20%20%20%20%20%20%20%20%20%20%20%7B%22extraClasses%22%3A%20%22fa-rotate-0%22%2C%20%22icon%22%3A%20%22info-sign%22%2C%20%22iconColor%22%3A%20%22white%22%2C%20%22markerColor%22%3A%20%22blue%22%2C%20%22prefix%22%3A%20%22glyphicon%22%7D%0A%20%20%20%20%20%20%20%20%20%20%20%20%29%3B%0A%20%20%20%20%20%20%20%20%20%20%20%20marker_258d10c21bf24736bb3e6452b5a3a08a.setIcon%28icon_c514b987307f4b18984bee161adb69f9%29%3B%0A%20%20%20%20%20%20%20%20%0A%20%20%20%20%0A%20%20%20%20%20%20%20%20var%20popup_a4a9ed0593424a2fa1e8624f6f26a5a3%20%3D%20L.popup%28%7B%22maxWidth%22%3A%20%22100%25%22%7D%29%3B%0A%0A%20%20%20%20%20%20%20%20%0A%20%20%20%20%20%20%20%20%20%20%20%20var%20html_f01e92dc83c74335acfc2cd0e342d56f%20%3D%20%24%28%60%3Cdiv%20id%3D%22html_f01e92dc83c74335acfc2cd0e342d56f%22%20style%3D%22width%3A%20100.0%25%3B%20height%3A%20100.0%25%3B%22%3EA1N4J9%2C%20Dauphin%C3%A9%20-%20Lacassagne%2C%20Sans%20Souci%2C%20Lyon%203e%20Arrondissement%2C%20Lyon%2C%20M%C3%A9tropole%20de%20Lyon%2C%20Circonscription%20d%C3%A9partementale%20du%20Rh%C3%B4ne%2C%20Auvergne-Rh%C3%B4ne-Alpes%2C%20France%20m%C3%A9tropolitaine%2C%2069003%2C%20France%3C/div%3E%60%29%5B0%5D%3B%0A%20%20%20%20%20%20%20%20%20%20%20%20popup_a4a9ed0593424a2fa1e8624f6f26a5a3.setContent%28html_f01e92dc83c74335acfc2cd0e342d56f%29%3B%0A%20%20%20%20%20%20%20%20%0A%0A%20%20%20%20%20%20%20%20marker_258d10c21bf24736bb3e6452b5a3a08a.bindPopup%28popup_a4a9ed0593424a2fa1e8624f6f26a5a3%29%0A%20%20%20%20%20%20%20%20%3B%0A%0A%20%20%20%20%20%20%20%20%0A%20%20%20%20%0A%20%20%20%20%0A%20%20%20%20%20%20%20%20%20%20%20%20var%20marker_e1db64ed446040039e81d239306eca2c%20%3D%20L.marker%28%0A%20%20%20%20%20%20%20%20%20%20%20%20%20%20%20%20%5B45.7500127%2C%204.8757462%5D%2C%0A%20%20%20%20%20%20%20%20%20%20%20%20%20%20%20%20%7B%7D%0A%20%20%20%20%20%20%20%20%20%20%20%20%29.addTo%28map_2fafacce87ab4c5fbbbc1a27c8873015%29%3B%0A%20%20%20%20%20%20%20%20%0A%20%20%20%20%0A%20%20%20%20%20%20%20%20%20%20%20%20var%20icon_10d1f32fdf3040f7b556e52fca5296b6%20%3D%20L.AwesomeMarkers.icon%28%0A%20%20%20%20%20%20%20%20%20%20%20%20%20%20%20%20%7B%22extraClasses%22%3A%20%22fa-rotate-0%22%2C%20%22icon%22%3A%20%22info-sign%22%2C%20%22iconColor%22%3A%20%22white%22%2C%20%22markerColor%22%3A%20%22blue%22%2C%20%22prefix%22%3A%20%22glyphicon%22%7D%0A%20%20%20%20%20%20%20%20%20%20%20%20%29%3B%0A%20%20%20%20%20%20%20%20%20%20%20%20marker_e1db64ed446040039e81d239306eca2c.setIcon%28icon_10d1f32fdf3040f7b556e52fca5296b6%29%3B%0A%20%20%20%20%20%20%20%20%0A%20%20%20%20%0A%20%20%20%20%20%20%20%20var%20popup_981c66614fff487ea3e242de27545449%20%3D%20L.popup%28%7B%22maxWidth%22%3A%20%22100%25%22%7D%29%3B%0A%0A%20%20%20%20%20%20%20%20%0A%20%20%20%20%20%20%20%20%20%20%20%20var%20html_0a86ad39ad704992999cdf91ac95e4d8%20%3D%20%24%28%60%3Cdiv%20id%3D%22html_0a86ad39ad704992999cdf91ac95e4d8%22%20style%3D%22width%3A%20100.0%25%3B%20height%3A%20100.0%25%3B%22%3ERue%20Feuillat%2C%20Sans%20Souci%2C%20Lyon%203e%20Arrondissement%2C%20Lyon%2C%20M%C3%A9tropole%20de%20Lyon%2C%20Circonscription%20d%C3%A9partementale%20du%20Rh%C3%B4ne%2C%20Auvergne-Rh%C3%B4ne-Alpes%2C%20France%20m%C3%A9tropolitaine%2C%2069003%2C%20France%3C/div%3E%60%29%5B0%5D%3B%0A%20%20%20%20%20%20%20%20%20%20%20%20popup_981c66614fff487ea3e242de27545449.setContent%28html_0a86ad39ad704992999cdf91ac95e4d8%29%3B%0A%20%20%20%20%20%20%20%20%0A%0A%20%20%20%20%20%20%20%20marker_e1db64ed446040039e81d239306eca2c.bindPopup%28popup_981c66614fff487ea3e242de27545449%29%0A%20%20%20%20%20%20%20%20%3B%0A%0A%20%20%20%20%20%20%20%20%0A%20%20%20%20%0A%20%20%20%20%0A%20%20%20%20%20%20%20%20%20%20%20%20var%20marker_5491348939514d18b127b7631c1c554b%20%3D%20L.marker%28%0A%20%20%20%20%20%20%20%20%20%20%20%20%20%20%20%20%5B45.765418%2C%204.9005795%5D%2C%0A%20%20%20%20%20%20%20%20%20%20%20%20%20%20%20%20%7B%7D%0A%20%20%20%20%20%20%20%20%20%20%20%20%29.addTo%28map_2fafacce87ab4c5fbbbc1a27c8873015%29%3B%0A%20%20%20%20%20%20%20%20%0A%20%20%20%20%0A%20%20%20%20%20%20%20%20%20%20%20%20var%20icon_5005792507bc483a85d3e369e0bfa5c1%20%3D%20L.AwesomeMarkers.icon%28%0A%20%20%20%20%20%20%20%20%20%20%20%20%20%20%20%20%7B%22extraClasses%22%3A%20%22fa-rotate-0%22%2C%20%22icon%22%3A%20%22info-sign%22%2C%20%22iconColor%22%3A%20%22white%22%2C%20%22markerColor%22%3A%20%22blue%22%2C%20%22prefix%22%3A%20%22glyphicon%22%7D%0A%20%20%20%20%20%20%20%20%20%20%20%20%29%3B%0A%20%20%20%20%20%20%20%20%20%20%20%20marker_5491348939514d18b127b7631c1c554b.setIcon%28icon_5005792507bc483a85d3e369e0bfa5c1%29%3B%0A%20%20%20%20%20%20%20%20%0A%20%20%20%20%0A%20%20%20%20%20%20%20%20var%20popup_fad3d33ee2fc4a8ba51047e003763be4%20%3D%20L.popup%28%7B%22maxWidth%22%3A%20%22100%25%22%7D%29%3B%0A%0A%20%20%20%20%20%20%20%20%0A%20%20%20%20%20%20%20%20%20%20%20%20var%20html_43894de93d344b38b004dc1d7ebb4371%20%3D%20%24%28%60%3Cdiv%20id%3D%22html_43894de93d344b38b004dc1d7ebb4371%22%20style%3D%22width%3A%20100.0%25%3B%20height%3A%20100.0%25%3B%22%3E360%2C%20Cours%20%C3%89mile%20Zola%2C%20Charpennes%2C%20Villeurbanne%2C%20Lyon%2C%20M%C3%A9tropole%20de%20Lyon%2C%20Circonscription%20d%C3%A9partementale%20du%20Rh%C3%B4ne%2C%20Auvergne-Rh%C3%B4ne-Alpes%2C%20France%20m%C3%A9tropolitaine%2C%2069100%2C%20France%3C/div%3E%60%29%5B0%5D%3B%0A%20%20%20%20%20%20%20%20%20%20%20%20popup_fad3d33ee2fc4a8ba51047e003763be4.setContent%28html_43894de93d344b38b004dc1d7ebb4371%29%3B%0A%20%20%20%20%20%20%20%20%0A%0A%20%20%20%20%20%20%20%20marker_5491348939514d18b127b7631c1c554b.bindPopup%28popup_fad3d33ee2fc4a8ba51047e003763be4%29%0A%20%20%20%20%20%20%20%20%3B%0A%0A%20%20%20%20%20%20%20%20%0A%20%20%20%20%0A%20%20%20%20%0A%20%20%20%20%20%20%20%20%20%20%20%20var%20marker_24268d1120864e3791c97a9f9ca84971%20%3D%20L.marker%28%0A%20%20%20%20%20%20%20%20%20%20%20%20%20%20%20%20%5B45.7584857%2C%204.8556406%5D%2C%0A%20%20%20%20%20%20%20%20%20%20%20%20%20%20%20%20%7B%7D%0A%20%20%20%20%20%20%20%20%20%20%20%20%29.addTo%28map_2fafacce87ab4c5fbbbc1a27c8873015%29%3B%0A%20%20%20%20%20%20%20%20%0A%20%20%20%20%0A%20%20%20%20%20%20%20%20%20%20%20%20var%20icon_3777458a2a4b4a35a78eb552aa4c93d0%20%3D%20L.AwesomeMarkers.icon%28%0A%20%20%20%20%20%20%20%20%20%20%20%20%20%20%20%20%7B%22extraClasses%22%3A%20%22fa-rotate-0%22%2C%20%22icon%22%3A%20%22info-sign%22%2C%20%22iconColor%22%3A%20%22white%22%2C%20%22markerColor%22%3A%20%22blue%22%2C%20%22prefix%22%3A%20%22glyphicon%22%7D%0A%20%20%20%20%20%20%20%20%20%20%20%20%29%3B%0A%20%20%20%20%20%20%20%20%20%20%20%20marker_24268d1120864e3791c97a9f9ca84971.setIcon%28icon_3777458a2a4b4a35a78eb552aa4c93d0%29%3B%0A%20%20%20%20%20%20%20%20%0A%20%20%20%20%0A%20%20%20%20%20%20%20%20var%20popup_73f47dc920174d129f8f21cd4e3fbdc8%20%3D%20L.popup%28%7B%22maxWidth%22%3A%20%22100%25%22%7D%29%3B%0A%0A%20%20%20%20%20%20%20%20%0A%20%20%20%20%20%20%20%20%20%20%20%20var%20html_486a577cc557484f932d30367fda224d%20%3D%20%24%28%60%3Cdiv%20id%3D%22html_486a577cc557484f932d30367fda224d%22%20style%3D%22width%3A%20100.0%25%3B%20height%3A%20100.0%25%3B%22%3ETour%20Silex%202%2C%20Rue%20des%20Cuirassiers%2C%20Part-Dieu%2C%20Lyon%203e%20Arrondissement%2C%20Lyon%2C%20M%C3%A9tropole%20de%20Lyon%2C%20Circonscription%20d%C3%A9partementale%20du%20Rh%C3%B4ne%2C%20Auvergne-Rh%C3%B4ne-Alpes%2C%20France%20m%C3%A9tropolitaine%2C%2069003%2C%20France%3C/div%3E%60%29%5B0%5D%3B%0A%20%20%20%20%20%20%20%20%20%20%20%20popup_73f47dc920174d129f8f21cd4e3fbdc8.setContent%28html_486a577cc557484f932d30367fda224d%29%3B%0A%20%20%20%20%20%20%20%20%0A%0A%20%20%20%20%20%20%20%20marker_24268d1120864e3791c97a9f9ca84971.bindPopup%28popup_73f47dc920174d129f8f21cd4e3fbdc8%29%0A%20%20%20%20%20%20%20%20%3B%0A%0A%20%20%20%20%20%20%20%20%0A%20%20%20%20%0A%20%20%20%20%0A%20%20%20%20%20%20%20%20%20%20%20%20var%20marker_e7297c42449a4d48b616cdc22c06fa07%20%3D%20L.marker%28%0A%20%20%20%20%20%20%20%20%20%20%20%20%20%20%20%20%5B45.7539261%2C%204.8843537%5D%2C%0A%20%20%20%20%20%20%20%20%20%20%20%20%20%20%20%20%7B%7D%0A%20%20%20%20%20%20%20%20%20%20%20%20%29.addTo%28map_2fafacce87ab4c5fbbbc1a27c8873015%29%3B%0A%20%20%20%20%20%20%20%20%0A%20%20%20%20%0A%20%20%20%20%20%20%20%20%20%20%20%20var%20icon_c592ce61d8034545afa0f25dedc8a3a5%20%3D%20L.AwesomeMarkers.icon%28%0A%20%20%20%20%20%20%20%20%20%20%20%20%20%20%20%20%7B%22extraClasses%22%3A%20%22fa-rotate-0%22%2C%20%22icon%22%3A%20%22info-sign%22%2C%20%22iconColor%22%3A%20%22white%22%2C%20%22markerColor%22%3A%20%22blue%22%2C%20%22prefix%22%3A%20%22glyphicon%22%7D%0A%20%20%20%20%20%20%20%20%20%20%20%20%29%3B%0A%20%20%20%20%20%20%20%20%20%20%20%20marker_e7297c42449a4d48b616cdc22c06fa07.setIcon%28icon_c592ce61d8034545afa0f25dedc8a3a5%29%3B%0A%20%20%20%20%20%20%20%20%0A%20%20%20%20%0A%20%20%20%20%20%20%20%20var%20popup_4b7bb45a85494daaab4fdca175a991bb%20%3D%20L.popup%28%7B%22maxWidth%22%3A%20%22100%25%22%7D%29%3B%0A%0A%20%20%20%20%20%20%20%20%0A%20%20%20%20%20%20%20%20%20%20%20%20var%20html_7e2d8f9cecf6462f8224a7c5e75cecc2%20%3D%20%24%28%60%3Cdiv%20id%3D%22html_7e2d8f9cecf6462f8224a7c5e75cecc2%22%20style%3D%22width%3A%20100.0%25%3B%20height%3A%20100.0%25%3B%22%3E2%2C%20Cours%20Richard-Vitton%2C%20Montchat%2C%20Lyon%203e%20Arrondissement%2C%20Lyon%2C%20M%C3%A9tropole%20de%20Lyon%2C%20Circonscription%20d%C3%A9partementale%20du%20Rh%C3%B4ne%2C%20Auvergne-Rh%C3%B4ne-Alpes%2C%20France%20m%C3%A9tropolitaine%2C%2069003%2C%20France%3C/div%3E%60%29%5B0%5D%3B%0A%20%20%20%20%20%20%20%20%20%20%20%20popup_4b7bb45a85494daaab4fdca175a991bb.setContent%28html_7e2d8f9cecf6462f8224a7c5e75cecc2%29%3B%0A%20%20%20%20%20%20%20%20%0A%0A%20%20%20%20%20%20%20%20marker_e7297c42449a4d48b616cdc22c06fa07.bindPopup%28popup_4b7bb45a85494daaab4fdca175a991bb%29%0A%20%20%20%20%20%20%20%20%3B%0A%0A%20%20%20%20%20%20%20%20%0A%20%20%20%20%0A%20%20%20%20%0A%20%20%20%20%20%20%20%20%20%20%20%20var%20marker_77c7c455333343b9af155e47be63ee67%20%3D%20L.marker%28%0A%20%20%20%20%20%20%20%20%20%20%20%20%20%20%20%20%5B45.7316792%2C%204.8637093%5D%2C%0A%20%20%20%20%20%20%20%20%20%20%20%20%20%20%20%20%7B%7D%0A%20%20%20%20%20%20%20%20%20%20%20%20%29.addTo%28map_2fafacce87ab4c5fbbbc1a27c8873015%29%3B%0A%20%20%20%20%20%20%20%20%0A%20%20%20%20%0A%20%20%20%20%20%20%20%20%20%20%20%20var%20icon_854399deaae9403683f8731087724f4b%20%3D%20L.AwesomeMarkers.icon%28%0A%20%20%20%20%20%20%20%20%20%20%20%20%20%20%20%20%7B%22extraClasses%22%3A%20%22fa-rotate-0%22%2C%20%22icon%22%3A%20%22info-sign%22%2C%20%22iconColor%22%3A%20%22white%22%2C%20%22markerColor%22%3A%20%22blue%22%2C%20%22prefix%22%3A%20%22glyphicon%22%7D%0A%20%20%20%20%20%20%20%20%20%20%20%20%29%3B%0A%20%20%20%20%20%20%20%20%20%20%20%20marker_77c7c455333343b9af155e47be63ee67.setIcon%28icon_854399deaae9403683f8731087724f4b%29%3B%0A%20%20%20%20%20%20%20%20%0A%20%20%20%20%0A%20%20%20%20%20%20%20%20var%20popup_447483de398c47769b6c3cc06ffc47a6%20%3D%20L.popup%28%7B%22maxWidth%22%3A%20%22100%25%22%7D%29%3B%0A%0A%20%20%20%20%20%20%20%20%0A%20%20%20%20%20%20%20%20%20%20%20%20var%20html_ad045d1940324c838a771b47f250665e%20%3D%20%24%28%60%3Cdiv%20id%3D%22html_ad045d1940324c838a771b47f250665e%22%20style%3D%22width%3A%20100.0%25%3B%20height%3A%20100.0%25%3B%22%3E17%2C%20Rue%20Ludovic%20Arrachart%2C%20Les%20%C3%89tats-Unis%2C%20Lyon%208e%20Arrondissement%2C%20Lyon%2C%20M%C3%A9tropole%20de%20Lyon%2C%20Circonscription%20d%C3%A9partementale%20du%20Rh%C3%B4ne%2C%20Auvergne-Rh%C3%B4ne-Alpes%2C%20France%20m%C3%A9tropolitaine%2C%2069008%2C%20France%3C/div%3E%60%29%5B0%5D%3B%0A%20%20%20%20%20%20%20%20%20%20%20%20popup_447483de398c47769b6c3cc06ffc47a6.setContent%28html_ad045d1940324c838a771b47f250665e%29%3B%0A%20%20%20%20%20%20%20%20%0A%0A%20%20%20%20%20%20%20%20marker_77c7c455333343b9af155e47be63ee67.bindPopup%28popup_447483de398c47769b6c3cc06ffc47a6%29%0A%20%20%20%20%20%20%20%20%3B%0A%0A%20%20%20%20%20%20%20%20%0A%20%20%20%20%0A%20%20%20%20%0A%20%20%20%20%20%20%20%20%20%20%20%20var%20marker_05601d7645a5469aa327075b3ae256aa%20%3D%20L.marker%28%0A%20%20%20%20%20%20%20%20%20%20%20%20%20%20%20%20%5B45.7316622%2C%204.8591802%5D%2C%0A%20%20%20%20%20%20%20%20%20%20%20%20%20%20%20%20%7B%7D%0A%20%20%20%20%20%20%20%20%20%20%20%20%29.addTo%28map_2fafacce87ab4c5fbbbc1a27c8873015%29%3B%0A%20%20%20%20%20%20%20%20%0A%20%20%20%20%0A%20%20%20%20%20%20%20%20%20%20%20%20var%20icon_9feaf153215245c19639da0ee22d2eee%20%3D%20L.AwesomeMarkers.icon%28%0A%20%20%20%20%20%20%20%20%20%20%20%20%20%20%20%20%7B%22extraClasses%22%3A%20%22fa-rotate-0%22%2C%20%22icon%22%3A%20%22info-sign%22%2C%20%22iconColor%22%3A%20%22white%22%2C%20%22markerColor%22%3A%20%22blue%22%2C%20%22prefix%22%3A%20%22glyphicon%22%7D%0A%20%20%20%20%20%20%20%20%20%20%20%20%29%3B%0A%20%20%20%20%20%20%20%20%20%20%20%20marker_05601d7645a5469aa327075b3ae256aa.setIcon%28icon_9feaf153215245c19639da0ee22d2eee%29%3B%0A%20%20%20%20%20%20%20%20%0A%20%20%20%20%0A%20%20%20%20%20%20%20%20var%20popup_b662be469d9444cfb7c0acea9beeace4%20%3D%20L.popup%28%7B%22maxWidth%22%3A%20%22100%25%22%7D%29%3B%0A%0A%20%20%20%20%20%20%20%20%0A%20%20%20%20%20%20%20%20%20%20%20%20var%20html_32309a53782c4c009d783bc7c2063dfc%20%3D%20%24%28%60%3Cdiv%20id%3D%22html_32309a53782c4c009d783bc7c2063dfc%22%20style%3D%22width%3A%20100.0%25%3B%20height%3A%20100.0%25%3B%22%3E116%2C%20Rue%20Pierre%20Delore%2C%20Les%20%C3%89tats-Unis%2C%20Lyon%208e%20Arrondissement%2C%20Lyon%2C%20M%C3%A9tropole%20de%20Lyon%2C%20Circonscription%20d%C3%A9partementale%20du%20Rh%C3%B4ne%2C%20Auvergne-Rh%C3%B4ne-Alpes%2C%20France%20m%C3%A9tropolitaine%2C%2069008%2C%20France%3C/div%3E%60%29%5B0%5D%3B%0A%20%20%20%20%20%20%20%20%20%20%20%20popup_b662be469d9444cfb7c0acea9beeace4.setContent%28html_32309a53782c4c009d783bc7c2063dfc%29%3B%0A%20%20%20%20%20%20%20%20%0A%0A%20%20%20%20%20%20%20%20marker_05601d7645a5469aa327075b3ae256aa.bindPopup%28popup_b662be469d9444cfb7c0acea9beeace4%29%0A%20%20%20%20%20%20%20%20%3B%0A%0A%20%20%20%20%20%20%20%20%0A%20%20%20%20%0A%20%20%20%20%0A%20%20%20%20%20%20%20%20%20%20%20%20var%20marker_bcd2d1be8995408d8fcd8490bad42d38%20%3D%20L.marker%28%0A%20%20%20%20%20%20%20%20%20%20%20%20%20%20%20%20%5B45.7295327%2C%204.8514473%5D%2C%0A%20%20%20%20%20%20%20%20%20%20%20%20%20%20%20%20%7B%7D%0A%20%20%20%20%20%20%20%20%20%20%20%20%29.addTo%28map_2fafacce87ab4c5fbbbc1a27c8873015%29%3B%0A%20%20%20%20%20%20%20%20%0A%20%20%20%20%0A%20%20%20%20%20%20%20%20%20%20%20%20var%20icon_11af0977b6084907bd1099f97440c827%20%3D%20L.AwesomeMarkers.icon%28%0A%20%20%20%20%20%20%20%20%20%20%20%20%20%20%20%20%7B%22extraClasses%22%3A%20%22fa-rotate-0%22%2C%20%22icon%22%3A%20%22info-sign%22%2C%20%22iconColor%22%3A%20%22white%22%2C%20%22markerColor%22%3A%20%22blue%22%2C%20%22prefix%22%3A%20%22glyphicon%22%7D%0A%20%20%20%20%20%20%20%20%20%20%20%20%29%3B%0A%20%20%20%20%20%20%20%20%20%20%20%20marker_bcd2d1be8995408d8fcd8490bad42d38.setIcon%28icon_11af0977b6084907bd1099f97440c827%29%3B%0A%20%20%20%20%20%20%20%20%0A%20%20%20%20%0A%20%20%20%20%20%20%20%20var%20popup_e353ad646e4440a0b66fd0c7dd7242d7%20%3D%20L.popup%28%7B%22maxWidth%22%3A%20%22100%25%22%7D%29%3B%0A%0A%20%20%20%20%20%20%20%20%0A%20%20%20%20%20%20%20%20%20%20%20%20var%20html_dfaeece1eddb46d780a7ce6e932b340c%20%3D%20%24%28%60%3Cdiv%20id%3D%22html_dfaeece1eddb46d780a7ce6e932b340c%22%20style%3D%22width%3A%20100.0%25%3B%20height%3A%20100.0%25%3B%22%3E129%2C%20Rue%20Challemel-Lacour%2C%20Le%20Grand%20Trou%2C%20Lyon%208e%20Arrondissement%2C%20Lyon%2C%20M%C3%A9tropole%20de%20Lyon%2C%20Circonscription%20d%C3%A9partementale%20du%20Rh%C3%B4ne%2C%20Auvergne-Rh%C3%B4ne-Alpes%2C%20France%20m%C3%A9tropolitaine%2C%2069008%2C%20France%3C/div%3E%60%29%5B0%5D%3B%0A%20%20%20%20%20%20%20%20%20%20%20%20popup_e353ad646e4440a0b66fd0c7dd7242d7.setContent%28html_dfaeece1eddb46d780a7ce6e932b340c%29%3B%0A%20%20%20%20%20%20%20%20%0A%0A%20%20%20%20%20%20%20%20marker_bcd2d1be8995408d8fcd8490bad42d38.bindPopup%28popup_e353ad646e4440a0b66fd0c7dd7242d7%29%0A%20%20%20%20%20%20%20%20%3B%0A%0A%20%20%20%20%20%20%20%20%0A%20%20%20%20%0A%20%20%20%20%0A%20%20%20%20%20%20%20%20%20%20%20%20var%20marker_b5ff142b5c3c4f86a74bf49fb9716587%20%3D%20L.marker%28%0A%20%20%20%20%20%20%20%20%20%20%20%20%20%20%20%20%5B45.7375861%2C%204.8652313%5D%2C%0A%20%20%20%20%20%20%20%20%20%20%20%20%20%20%20%20%7B%7D%0A%20%20%20%20%20%20%20%20%20%20%20%20%29.addTo%28map_2fafacce87ab4c5fbbbc1a27c8873015%29%3B%0A%20%20%20%20%20%20%20%20%0A%20%20%20%20%0A%20%20%20%20%20%20%20%20%20%20%20%20var%20icon_a16d5e8682bf474bac4b51b97ee6b20e%20%3D%20L.AwesomeMarkers.icon%28%0A%20%20%20%20%20%20%20%20%20%20%20%20%20%20%20%20%7B%22extraClasses%22%3A%20%22fa-rotate-0%22%2C%20%22icon%22%3A%20%22info-sign%22%2C%20%22iconColor%22%3A%20%22white%22%2C%20%22markerColor%22%3A%20%22blue%22%2C%20%22prefix%22%3A%20%22glyphicon%22%7D%0A%20%20%20%20%20%20%20%20%20%20%20%20%29%3B%0A%20%20%20%20%20%20%20%20%20%20%20%20marker_b5ff142b5c3c4f86a74bf49fb9716587.setIcon%28icon_a16d5e8682bf474bac4b51b97ee6b20e%29%3B%0A%20%20%20%20%20%20%20%20%0A%20%20%20%20%0A%20%20%20%20%20%20%20%20var%20popup_da7a8c176ef544cebe3119d5703c1b79%20%3D%20L.popup%28%7B%22maxWidth%22%3A%20%22100%25%22%7D%29%3B%0A%0A%20%20%20%20%20%20%20%20%0A%20%20%20%20%20%20%20%20%20%20%20%20var%20html_8711c37f380f4e3c8be54abc2d19a97d%20%3D%20%24%28%60%3Cdiv%20id%3D%22html_8711c37f380f4e3c8be54abc2d19a97d%22%20style%3D%22width%3A%20100.0%25%3B%20height%3A%20100.0%25%3B%22%3E14%2C%20Rue%20Paul%20Cazeneuve%2C%20Les%20%C3%89tats-Unis%2C%20Lyon%208e%20Arrondissement%2C%20Lyon%2C%20M%C3%A9tropole%20de%20Lyon%2C%20Circonscription%20d%C3%A9partementale%20du%20Rh%C3%B4ne%2C%20Auvergne-Rh%C3%B4ne-Alpes%2C%20France%20m%C3%A9tropolitaine%2C%2069008%2C%20France%3C/div%3E%60%29%5B0%5D%3B%0A%20%20%20%20%20%20%20%20%20%20%20%20popup_da7a8c176ef544cebe3119d5703c1b79.setContent%28html_8711c37f380f4e3c8be54abc2d19a97d%29%3B%0A%20%20%20%20%20%20%20%20%0A%0A%20%20%20%20%20%20%20%20marker_b5ff142b5c3c4f86a74bf49fb9716587.bindPopup%28popup_da7a8c176ef544cebe3119d5703c1b79%29%0A%20%20%20%20%20%20%20%20%3B%0A%0A%20%20%20%20%20%20%20%20%0A%20%20%20%20%0A%20%20%20%20%0A%20%20%20%20%20%20%20%20%20%20%20%20var%20marker_82c120de8c2b49edacdca78ffcb939c4%20%3D%20L.marker%28%0A%20%20%20%20%20%20%20%20%20%20%20%20%20%20%20%20%5B45.7367146%2C%204.8673675%5D%2C%0A%20%20%20%20%20%20%20%20%20%20%20%20%20%20%20%20%7B%7D%0A%20%20%20%20%20%20%20%20%20%20%20%20%29.addTo%28map_2fafacce87ab4c5fbbbc1a27c8873015%29%3B%0A%20%20%20%20%20%20%20%20%0A%20%20%20%20%0A%20%20%20%20%20%20%20%20%20%20%20%20var%20icon_9947b83ec57b428c83e3e58ea30d78ae%20%3D%20L.AwesomeMarkers.icon%28%0A%20%20%20%20%20%20%20%20%20%20%20%20%20%20%20%20%7B%22extraClasses%22%3A%20%22fa-rotate-0%22%2C%20%22icon%22%3A%20%22info-sign%22%2C%20%22iconColor%22%3A%20%22white%22%2C%20%22markerColor%22%3A%20%22blue%22%2C%20%22prefix%22%3A%20%22glyphicon%22%7D%0A%20%20%20%20%20%20%20%20%20%20%20%20%29%3B%0A%20%20%20%20%20%20%20%20%20%20%20%20marker_82c120de8c2b49edacdca78ffcb939c4.setIcon%28icon_9947b83ec57b428c83e3e58ea30d78ae%29%3B%0A%20%20%20%20%20%20%20%20%0A%20%20%20%20%0A%20%20%20%20%20%20%20%20var%20popup_c2a9693baf3f47fe83b31717ead37dc9%20%3D%20L.popup%28%7B%22maxWidth%22%3A%20%22100%25%22%7D%29%3B%0A%0A%20%20%20%20%20%20%20%20%0A%20%20%20%20%20%20%20%20%20%20%20%20var%20html_7b6147daca4b4910b973f41fe7f86bec%20%3D%20%24%28%60%3Cdiv%20id%3D%22html_7b6147daca4b4910b973f41fe7f86bec%22%20style%3D%22width%3A%20100.0%25%3B%20height%3A%20100.0%25%3B%22%3E334%2C%20Avenue%20Berthelot%2C%20Le%20Bachut%2C%20Lyon%208e%20Arrondissement%2C%20Lyon%2C%20M%C3%A9tropole%20de%20Lyon%2C%20Circonscription%20d%C3%A9partementale%20du%20Rh%C3%B4ne%2C%20Auvergne-Rh%C3%B4ne-Alpes%2C%20France%20m%C3%A9tropolitaine%2C%2069008%2C%20France%3C/div%3E%60%29%5B0%5D%3B%0A%20%20%20%20%20%20%20%20%20%20%20%20popup_c2a9693baf3f47fe83b31717ead37dc9.setContent%28html_7b6147daca4b4910b973f41fe7f86bec%29%3B%0A%20%20%20%20%20%20%20%20%0A%0A%20%20%20%20%20%20%20%20marker_82c120de8c2b49edacdca78ffcb939c4.bindPopup%28popup_c2a9693baf3f47fe83b31717ead37dc9%29%0A%20%20%20%20%20%20%20%20%3B%0A%0A%20%20%20%20%20%20%20%20%0A%20%20%20%20%0A%20%20%20%20%0A%20%20%20%20%20%20%20%20%20%20%20%20var%20marker_1892d6c3d61b43e39dcf493a9c0598d2%20%3D%20L.marker%28%0A%20%20%20%20%20%20%20%20%20%20%20%20%20%20%20%20%5B45.7373883%2C%204.8660965%5D%2C%0A%20%20%20%20%20%20%20%20%20%20%20%20%20%20%20%20%7B%7D%0A%20%20%20%20%20%20%20%20%20%20%20%20%29.addTo%28map_2fafacce87ab4c5fbbbc1a27c8873015%29%3B%0A%20%20%20%20%20%20%20%20%0A%20%20%20%20%0A%20%20%20%20%20%20%20%20%20%20%20%20var%20icon_cc1bf2b92a1f4fd68f7a00e0d48e3e16%20%3D%20L.AwesomeMarkers.icon%28%0A%20%20%20%20%20%20%20%20%20%20%20%20%20%20%20%20%7B%22extraClasses%22%3A%20%22fa-rotate-0%22%2C%20%22icon%22%3A%20%22info-sign%22%2C%20%22iconColor%22%3A%20%22white%22%2C%20%22markerColor%22%3A%20%22blue%22%2C%20%22prefix%22%3A%20%22glyphicon%22%7D%0A%20%20%20%20%20%20%20%20%20%20%20%20%29%3B%0A%20%20%20%20%20%20%20%20%20%20%20%20marker_1892d6c3d61b43e39dcf493a9c0598d2.setIcon%28icon_cc1bf2b92a1f4fd68f7a00e0d48e3e16%29%3B%0A%20%20%20%20%20%20%20%20%0A%20%20%20%20%0A%20%20%20%20%20%20%20%20var%20popup_0ecb7df747fd48f18bf687df832023e5%20%3D%20L.popup%28%7B%22maxWidth%22%3A%20%22100%25%22%7D%29%3B%0A%0A%20%20%20%20%20%20%20%20%0A%20%20%20%20%20%20%20%20%20%20%20%20var%20html_630a0eefb96f4af29b5eac42419c2886%20%3D%20%24%28%60%3Cdiv%20id%3D%22html_630a0eefb96f4af29b5eac42419c2886%22%20style%3D%22width%3A%20100.0%25%3B%20height%3A%20100.0%25%3B%22%3E320%2C%20Avenue%20Berthelot%2C%20Le%20Bachut%2C%20Lyon%208e%20Arrondissement%2C%20Lyon%2C%20M%C3%A9tropole%20de%20Lyon%2C%20Circonscription%20d%C3%A9partementale%20du%20Rh%C3%B4ne%2C%20Auvergne-Rh%C3%B4ne-Alpes%2C%20France%20m%C3%A9tropolitaine%2C%2069008%2C%20France%3C/div%3E%60%29%5B0%5D%3B%0A%20%20%20%20%20%20%20%20%20%20%20%20popup_0ecb7df747fd48f18bf687df832023e5.setContent%28html_630a0eefb96f4af29b5eac42419c2886%29%3B%0A%20%20%20%20%20%20%20%20%0A%0A%20%20%20%20%20%20%20%20marker_1892d6c3d61b43e39dcf493a9c0598d2.bindPopup%28popup_0ecb7df747fd48f18bf687df832023e5%29%0A%20%20%20%20%20%20%20%20%3B%0A%0A%20%20%20%20%20%20%20%20%0A%20%20%20%20%0A%20%20%20%20%0A%20%20%20%20%20%20%20%20%20%20%20%20var%20marker_207b3d4916754338b75aacec29cdd03a%20%3D%20L.marker%28%0A%20%20%20%20%20%20%20%20%20%20%20%20%20%20%20%20%5B45.7582134%2C%204.8352712%5D%2C%0A%20%20%20%20%20%20%20%20%20%20%20%20%20%20%20%20%7B%7D%0A%20%20%20%20%20%20%20%20%20%20%20%20%29.addTo%28map_2fafacce87ab4c5fbbbc1a27c8873015%29%3B%0A%20%20%20%20%20%20%20%20%0A%20%20%20%20%0A%20%20%20%20%20%20%20%20%20%20%20%20var%20icon_25cc91e5f74048f78b7be411886d4e97%20%3D%20L.AwesomeMarkers.icon%28%0A%20%20%20%20%20%20%20%20%20%20%20%20%20%20%20%20%7B%22extraClasses%22%3A%20%22fa-rotate-0%22%2C%20%22icon%22%3A%20%22info-sign%22%2C%20%22iconColor%22%3A%20%22white%22%2C%20%22markerColor%22%3A%20%22blue%22%2C%20%22prefix%22%3A%20%22glyphicon%22%7D%0A%20%20%20%20%20%20%20%20%20%20%20%20%29%3B%0A%20%20%20%20%20%20%20%20%20%20%20%20marker_207b3d4916754338b75aacec29cdd03a.setIcon%28icon_25cc91e5f74048f78b7be411886d4e97%29%3B%0A%20%20%20%20%20%20%20%20%0A%20%20%20%20%0A%20%20%20%20%20%20%20%20var%20popup_b9ebacf0face4bb1bab4d2d8e7edcdcc%20%3D%20L.popup%28%7B%22maxWidth%22%3A%20%22100%25%22%7D%29%3B%0A%0A%20%20%20%20%20%20%20%20%0A%20%20%20%20%20%20%20%20%20%20%20%20var%20html_22aa3b67a5d740d3a398a4891c75c2d9%20%3D%20%24%28%60%3Cdiv%20id%3D%22html_22aa3b67a5d740d3a398a4891c75c2d9%22%20style%3D%22width%3A%20100.0%25%3B%20height%3A%20100.0%25%3B%22%3ESAV%20Fnac%20Bellecour%2C%20Rue%20Bellecordi%C3%A8re%2C%20Bellecour%2C%20Lyon%202e%20Arrondissement%2C%20Lyon%2C%20M%C3%A9tropole%20de%20Lyon%2C%20Circonscription%20d%C3%A9partementale%20du%20Rh%C3%B4ne%2C%20Auvergne-Rh%C3%B4ne-Alpes%2C%20France%20m%C3%A9tropolitaine%2C%2069002%2C%20France%3C/div%3E%60%29%5B0%5D%3B%0A%20%20%20%20%20%20%20%20%20%20%20%20popup_b9ebacf0face4bb1bab4d2d8e7edcdcc.setContent%28html_22aa3b67a5d740d3a398a4891c75c2d9%29%3B%0A%20%20%20%20%20%20%20%20%0A%0A%20%20%20%20%20%20%20%20marker_207b3d4916754338b75aacec29cdd03a.bindPopup%28popup_b9ebacf0face4bb1bab4d2d8e7edcdcc%29%0A%20%20%20%20%20%20%20%20%3B%0A%0A%20%20%20%20%20%20%20%20%0A%20%20%20%20%0A%20%20%20%20%0A%20%20%20%20%20%20%20%20%20%20%20%20var%20marker_b9b282a80f1d4902835a3f6cf0e5a43d%20%3D%20L.marker%28%0A%20%20%20%20%20%20%20%20%20%20%20%20%20%20%20%20%5B45.7526761%2C%204.884184%5D%2C%0A%20%20%20%20%20%20%20%20%20%20%20%20%20%20%20%20%7B%7D%0A%20%20%20%20%20%20%20%20%20%20%20%20%29.addTo%28map_2fafacce87ab4c5fbbbc1a27c8873015%29%3B%0A%20%20%20%20%20%20%20%20%0A%20%20%20%20%0A%20%20%20%20%20%20%20%20%20%20%20%20var%20icon_ec8acd70f3f047168ede991692cd40a1%20%3D%20L.AwesomeMarkers.icon%28%0A%20%20%20%20%20%20%20%20%20%20%20%20%20%20%20%20%7B%22extraClasses%22%3A%20%22fa-rotate-0%22%2C%20%22icon%22%3A%20%22info-sign%22%2C%20%22iconColor%22%3A%20%22white%22%2C%20%22markerColor%22%3A%20%22blue%22%2C%20%22prefix%22%3A%20%22glyphicon%22%7D%0A%20%20%20%20%20%20%20%20%20%20%20%20%29%3B%0A%20%20%20%20%20%20%20%20%20%20%20%20marker_b9b282a80f1d4902835a3f6cf0e5a43d.setIcon%28icon_ec8acd70f3f047168ede991692cd40a1%29%3B%0A%20%20%20%20%20%20%20%20%0A%20%20%20%20%0A%20%20%20%20%20%20%20%20var%20popup_ca1d24aab2b54f3fa44ec62742e69606%20%3D%20L.popup%28%7B%22maxWidth%22%3A%20%22100%25%22%7D%29%3B%0A%0A%20%20%20%20%20%20%20%20%0A%20%20%20%20%20%20%20%20%20%20%20%20var%20html_a817607a00d04449a83da03b71804e8a%20%3D%20%24%28%60%3Cdiv%20id%3D%22html_a817607a00d04449a83da03b71804e8a%22%20style%3D%22width%3A%20100.0%25%3B%20height%3A%20100.0%25%3B%22%3E13b%2C%20Rue%20Saint-Isidore%2C%20Grange%20Blanche%2C%20Lyon%203e%20Arrondissement%2C%20Lyon%2C%20M%C3%A9tropole%20de%20Lyon%2C%20Circonscription%20d%C3%A9partementale%20du%20Rh%C3%B4ne%2C%20Auvergne-Rh%C3%B4ne-Alpes%2C%20France%20m%C3%A9tropolitaine%2C%2069003%2C%20France%3C/div%3E%60%29%5B0%5D%3B%0A%20%20%20%20%20%20%20%20%20%20%20%20popup_ca1d24aab2b54f3fa44ec62742e69606.setContent%28html_a817607a00d04449a83da03b71804e8a%29%3B%0A%20%20%20%20%20%20%20%20%0A%0A%20%20%20%20%20%20%20%20marker_b9b282a80f1d4902835a3f6cf0e5a43d.bindPopup%28popup_ca1d24aab2b54f3fa44ec62742e69606%29%0A%20%20%20%20%20%20%20%20%3B%0A%0A%20%20%20%20%20%20%20%20%0A%20%20%20%20%0A%20%20%20%20%0A%20%20%20%20%20%20%20%20%20%20%20%20var%20marker_418e09f5245a444ca4908e849d2d286f%20%3D%20L.marker%28%0A%20%20%20%20%20%20%20%20%20%20%20%20%20%20%20%20%5B45.7509148%2C%204.876169%5D%2C%0A%20%20%20%20%20%20%20%20%20%20%20%20%20%20%20%20%7B%7D%0A%20%20%20%20%20%20%20%20%20%20%20%20%29.addTo%28map_2fafacce87ab4c5fbbbc1a27c8873015%29%3B%0A%20%20%20%20%20%20%20%20%0A%20%20%20%20%0A%20%20%20%20%20%20%20%20%20%20%20%20var%20icon_dba0cc3b8f5e419a859b3251ec5eb8b8%20%3D%20L.AwesomeMarkers.icon%28%0A%20%20%20%20%20%20%20%20%20%20%20%20%20%20%20%20%7B%22extraClasses%22%3A%20%22fa-rotate-0%22%2C%20%22icon%22%3A%20%22info-sign%22%2C%20%22iconColor%22%3A%20%22white%22%2C%20%22markerColor%22%3A%20%22blue%22%2C%20%22prefix%22%3A%20%22glyphicon%22%7D%0A%20%20%20%20%20%20%20%20%20%20%20%20%29%3B%0A%20%20%20%20%20%20%20%20%20%20%20%20marker_418e09f5245a444ca4908e849d2d286f.setIcon%28icon_dba0cc3b8f5e419a859b3251ec5eb8b8%29%3B%0A%20%20%20%20%20%20%20%20%0A%20%20%20%20%0A%20%20%20%20%20%20%20%20var%20popup_ebc5152b4f5043d0985c4a4c839ca356%20%3D%20L.popup%28%7B%22maxWidth%22%3A%20%22100%25%22%7D%29%3B%0A%0A%20%20%20%20%20%20%20%20%0A%20%20%20%20%20%20%20%20%20%20%20%20var%20html_7ab3fa67850e4b838bf750e3826e4b52%20%3D%20%24%28%60%3Cdiv%20id%3D%22html_7ab3fa67850e4b838bf750e3826e4b52%22%20style%3D%22width%3A%20100.0%25%3B%20height%3A%20100.0%25%3B%22%3E3337%2C%20Rue%20Feuillat%2C%20Sans%20Souci%2C%20Lyon%203e%20Arrondissement%2C%20Lyon%2C%20M%C3%A9tropole%20de%20Lyon%2C%20Circonscription%20d%C3%A9partementale%20du%20Rh%C3%B4ne%2C%20Auvergne-Rh%C3%B4ne-Alpes%2C%20France%20m%C3%A9tropolitaine%2C%2069003%2C%20France%3C/div%3E%60%29%5B0%5D%3B%0A%20%20%20%20%20%20%20%20%20%20%20%20popup_ebc5152b4f5043d0985c4a4c839ca356.setContent%28html_7ab3fa67850e4b838bf750e3826e4b52%29%3B%0A%20%20%20%20%20%20%20%20%0A%0A%20%20%20%20%20%20%20%20marker_418e09f5245a444ca4908e849d2d286f.bindPopup%28popup_ebc5152b4f5043d0985c4a4c839ca356%29%0A%20%20%20%20%20%20%20%20%3B%0A%0A%20%20%20%20%20%20%20%20%0A%20%20%20%20%0A%20%20%20%20%0A%20%20%20%20%20%20%20%20%20%20%20%20var%20marker_25189e190e41430e85d1fb7c85a861bf%20%3D%20L.marker%28%0A%20%20%20%20%20%20%20%20%20%20%20%20%20%20%20%20%5B45.7373525%2C%204.8653696%5D%2C%0A%20%20%20%20%20%20%20%20%20%20%20%20%20%20%20%20%7B%7D%0A%20%20%20%20%20%20%20%20%20%20%20%20%29.addTo%28map_2fafacce87ab4c5fbbbc1a27c8873015%29%3B%0A%20%20%20%20%20%20%20%20%0A%20%20%20%20%0A%20%20%20%20%20%20%20%20%20%20%20%20var%20icon_8ef289e352e64b4686156f5d35bbd9dd%20%3D%20L.AwesomeMarkers.icon%28%0A%20%20%20%20%20%20%20%20%20%20%20%20%20%20%20%20%7B%22extraClasses%22%3A%20%22fa-rotate-0%22%2C%20%22icon%22%3A%20%22info-sign%22%2C%20%22iconColor%22%3A%20%22white%22%2C%20%22markerColor%22%3A%20%22blue%22%2C%20%22prefix%22%3A%20%22glyphicon%22%7D%0A%20%20%20%20%20%20%20%20%20%20%20%20%29%3B%0A%20%20%20%20%20%20%20%20%20%20%20%20marker_25189e190e41430e85d1fb7c85a861bf.setIcon%28icon_8ef289e352e64b4686156f5d35bbd9dd%29%3B%0A%20%20%20%20%20%20%20%20%0A%20%20%20%20%0A%20%20%20%20%20%20%20%20var%20popup_844f56f720d04ee885349dfef483501c%20%3D%20L.popup%28%7B%22maxWidth%22%3A%20%22100%25%22%7D%29%3B%0A%0A%20%20%20%20%20%20%20%20%0A%20%20%20%20%20%20%20%20%20%20%20%20var%20html_ea52db16739f4bfdb0a6576df783e173%20%3D%20%24%28%60%3Cdiv%20id%3D%22html_ea52db16739f4bfdb0a6576df783e173%22%20style%3D%22width%3A%20100.0%25%3B%20height%3A%20100.0%25%3B%22%3ECroix%20rouge%2C%20Rue%20Paul%20Cazeneuve%2C%20Le%20Bachut%2C%20Lyon%208e%20Arrondissement%2C%20Lyon%2C%20M%C3%A9tropole%20de%20Lyon%2C%20Circonscription%20d%C3%A9partementale%20du%20Rh%C3%B4ne%2C%20Auvergne-Rh%C3%B4ne-Alpes%2C%20France%20m%C3%A9tropolitaine%2C%2069008%2C%20France%3C/div%3E%60%29%5B0%5D%3B%0A%20%20%20%20%20%20%20%20%20%20%20%20popup_844f56f720d04ee885349dfef483501c.setContent%28html_ea52db16739f4bfdb0a6576df783e173%29%3B%0A%20%20%20%20%20%20%20%20%0A%0A%20%20%20%20%20%20%20%20marker_25189e190e41430e85d1fb7c85a861bf.bindPopup%28popup_844f56f720d04ee885349dfef483501c%29%0A%20%20%20%20%20%20%20%20%3B%0A%0A%20%20%20%20%20%20%20%20%0A%20%20%20%20%0A%20%20%20%20%0A%20%20%20%20%20%20%20%20%20%20%20%20var%20marker_011de92602e945dfb465863611f15abf%20%3D%20L.marker%28%0A%20%20%20%20%20%20%20%20%20%20%20%20%20%20%20%20%5B45.7375463%2C%204.865478%5D%2C%0A%20%20%20%20%20%20%20%20%20%20%20%20%20%20%20%20%7B%7D%0A%20%20%20%20%20%20%20%20%20%20%20%20%29.addTo%28map_2fafacce87ab4c5fbbbc1a27c8873015%29%3B%0A%20%20%20%20%20%20%20%20%0A%20%20%20%20%0A%20%20%20%20%20%20%20%20%20%20%20%20var%20icon_acb7766df2e0407e9f4ca43f61d70cf0%20%3D%20L.AwesomeMarkers.icon%28%0A%20%20%20%20%20%20%20%20%20%20%20%20%20%20%20%20%7B%22extraClasses%22%3A%20%22fa-rotate-0%22%2C%20%22icon%22%3A%20%22info-sign%22%2C%20%22iconColor%22%3A%20%22white%22%2C%20%22markerColor%22%3A%20%22blue%22%2C%20%22prefix%22%3A%20%22glyphicon%22%7D%0A%20%20%20%20%20%20%20%20%20%20%20%20%29%3B%0A%20%20%20%20%20%20%20%20%20%20%20%20marker_011de92602e945dfb465863611f15abf.setIcon%28icon_acb7766df2e0407e9f4ca43f61d70cf0%29%3B%0A%20%20%20%20%20%20%20%20%0A%20%20%20%20%0A%20%20%20%20%20%20%20%20var%20popup_548818e9845148579f472630aca65e5b%20%3D%20L.popup%28%7B%22maxWidth%22%3A%20%22100%25%22%7D%29%3B%0A%0A%20%20%20%20%20%20%20%20%0A%20%20%20%20%20%20%20%20%20%20%20%20var%20html_39ec17a863e74a278a3a8f953ca5c98e%20%3D%20%24%28%60%3Cdiv%20id%3D%22html_39ec17a863e74a278a3a8f953ca5c98e%22%20style%3D%22width%3A%20100.0%25%3B%20height%3A%20100.0%25%3B%22%3ECroix%20rouge%2C%20Rue%20Paul%20Cazeneuve%2C%20Le%20Bachut%2C%20Lyon%208e%20Arrondissement%2C%20Lyon%2C%20M%C3%A9tropole%20de%20Lyon%2C%20Circonscription%20d%C3%A9partementale%20du%20Rh%C3%B4ne%2C%20Auvergne-Rh%C3%B4ne-Alpes%2C%20France%20m%C3%A9tropolitaine%2C%2069008%2C%20France%3C/div%3E%60%29%5B0%5D%3B%0A%20%20%20%20%20%20%20%20%20%20%20%20popup_548818e9845148579f472630aca65e5b.setContent%28html_39ec17a863e74a278a3a8f953ca5c98e%29%3B%0A%20%20%20%20%20%20%20%20%0A%0A%20%20%20%20%20%20%20%20marker_011de92602e945dfb465863611f15abf.bindPopup%28popup_548818e9845148579f472630aca65e5b%29%0A%20%20%20%20%20%20%20%20%3B%0A%0A%20%20%20%20%20%20%20%20%0A%20%20%20%20%0A%20%20%20%20%0A%20%20%20%20%20%20%20%20%20%20%20%20var%20marker_7f3c43baf4444662b9c9a614f763b1b6%20%3D%20L.marker%28%0A%20%20%20%20%20%20%20%20%20%20%20%20%20%20%20%20%5B45.737605%2C%204.8654487%5D%2C%0A%20%20%20%20%20%20%20%20%20%20%20%20%20%20%20%20%7B%7D%0A%20%20%20%20%20%20%20%20%20%20%20%20%29.addTo%28map_2fafacce87ab4c5fbbbc1a27c8873015%29%3B%0A%20%20%20%20%20%20%20%20%0A%20%20%20%20%0A%20%20%20%20%20%20%20%20%20%20%20%20var%20icon_46384112b2e04c06869873dcb23610d1%20%3D%20L.AwesomeMarkers.icon%28%0A%20%20%20%20%20%20%20%20%20%20%20%20%20%20%20%20%7B%22extraClasses%22%3A%20%22fa-rotate-0%22%2C%20%22icon%22%3A%20%22info-sign%22%2C%20%22iconColor%22%3A%20%22white%22%2C%20%22markerColor%22%3A%20%22blue%22%2C%20%22prefix%22%3A%20%22glyphicon%22%7D%0A%20%20%20%20%20%20%20%20%20%20%20%20%29%3B%0A%20%20%20%20%20%20%20%20%20%20%20%20marker_7f3c43baf4444662b9c9a614f763b1b6.setIcon%28icon_46384112b2e04c06869873dcb23610d1%29%3B%0A%20%20%20%20%20%20%20%20%0A%20%20%20%20%0A%20%20%20%20%20%20%20%20var%20popup_8ab44257af2b47599e40ec8426d57590%20%3D%20L.popup%28%7B%22maxWidth%22%3A%20%22100%25%22%7D%29%3B%0A%0A%20%20%20%20%20%20%20%20%0A%20%20%20%20%20%20%20%20%20%20%20%20var%20html_d2b75a68743846e5ae888d66dd8bb6cb%20%3D%20%24%28%60%3Cdiv%20id%3D%22html_d2b75a68743846e5ae888d66dd8bb6cb%22%20style%3D%22width%3A%20100.0%25%3B%20height%3A%20100.0%25%3B%22%3E1212%2C%20Avenue%20Berthelot%2C%20Le%20Bachut%2C%20Lyon%208e%20Arrondissement%2C%20Lyon%2C%20M%C3%A9tropole%20de%20Lyon%2C%20Circonscription%20d%C3%A9partementale%20du%20Rh%C3%B4ne%2C%20Auvergne-Rh%C3%B4ne-Alpes%2C%20France%20m%C3%A9tropolitaine%2C%2069008%2C%20France%3C/div%3E%60%29%5B0%5D%3B%0A%20%20%20%20%20%20%20%20%20%20%20%20popup_8ab44257af2b47599e40ec8426d57590.setContent%28html_d2b75a68743846e5ae888d66dd8bb6cb%29%3B%0A%20%20%20%20%20%20%20%20%0A%0A%20%20%20%20%20%20%20%20marker_7f3c43baf4444662b9c9a614f763b1b6.bindPopup%28popup_8ab44257af2b47599e40ec8426d57590%29%0A%20%20%20%20%20%20%20%20%3B%0A%0A%20%20%20%20%20%20%20%20%0A%20%20%20%20%0A%20%20%20%20%0A%20%20%20%20%20%20%20%20%20%20%20%20var%20marker_09fd9017cb874aa7a15c139affbb5abf%20%3D%20L.marker%28%0A%20%20%20%20%20%20%20%20%20%20%20%20%20%20%20%20%5B45.7375977%2C%204.865311%5D%2C%0A%20%20%20%20%20%20%20%20%20%20%20%20%20%20%20%20%7B%7D%0A%20%20%20%20%20%20%20%20%20%20%20%20%29.addTo%28map_2fafacce87ab4c5fbbbc1a27c8873015%29%3B%0A%20%20%20%20%20%20%20%20%0A%20%20%20%20%0A%20%20%20%20%20%20%20%20%20%20%20%20var%20icon_cdb0cce4358349bc93d88b5037b03ec6%20%3D%20L.AwesomeMarkers.icon%28%0A%20%20%20%20%20%20%20%20%20%20%20%20%20%20%20%20%7B%22extraClasses%22%3A%20%22fa-rotate-0%22%2C%20%22icon%22%3A%20%22info-sign%22%2C%20%22iconColor%22%3A%20%22white%22%2C%20%22markerColor%22%3A%20%22blue%22%2C%20%22prefix%22%3A%20%22glyphicon%22%7D%0A%20%20%20%20%20%20%20%20%20%20%20%20%29%3B%0A%20%20%20%20%20%20%20%20%20%20%20%20marker_09fd9017cb874aa7a15c139affbb5abf.setIcon%28icon_cdb0cce4358349bc93d88b5037b03ec6%29%3B%0A%20%20%20%20%20%20%20%20%0A%20%20%20%20%0A%20%20%20%20%20%20%20%20var%20popup_0f71805c703c44299b878599f8814502%20%3D%20L.popup%28%7B%22maxWidth%22%3A%20%22100%25%22%7D%29%3B%0A%0A%20%20%20%20%20%20%20%20%0A%20%20%20%20%20%20%20%20%20%20%20%20var%20html_59f49b00ecbd4580acda2bd0b9d5b899%20%3D%20%24%28%60%3Cdiv%20id%3D%22html_59f49b00ecbd4580acda2bd0b9d5b899%22%20style%3D%22width%3A%20100.0%25%3B%20height%3A%20100.0%25%3B%22%3E14%2C%20Rue%20Paul%20Cazeneuve%2C%20Les%20%C3%89tats-Unis%2C%20Lyon%208e%20Arrondissement%2C%20Lyon%2C%20M%C3%A9tropole%20de%20Lyon%2C%20Circonscription%20d%C3%A9partementale%20du%20Rh%C3%B4ne%2C%20Auvergne-Rh%C3%B4ne-Alpes%2C%20France%20m%C3%A9tropolitaine%2C%2069008%2C%20France%3C/div%3E%60%29%5B0%5D%3B%0A%20%20%20%20%20%20%20%20%20%20%20%20popup_0f71805c703c44299b878599f8814502.setContent%28html_59f49b00ecbd4580acda2bd0b9d5b899%29%3B%0A%20%20%20%20%20%20%20%20%0A%0A%20%20%20%20%20%20%20%20marker_09fd9017cb874aa7a15c139affbb5abf.bindPopup%28popup_0f71805c703c44299b878599f8814502%29%0A%20%20%20%20%20%20%20%20%3B%0A%0A%20%20%20%20%20%20%20%20%0A%20%20%20%20%0A%20%20%20%20%0A%20%20%20%20%20%20%20%20%20%20%20%20var%20marker_ab2248d8841744c7adeb494311d9411c%20%3D%20L.marker%28%0A%20%20%20%20%20%20%20%20%20%20%20%20%20%20%20%20%5B45.7374143%2C%204.842554%5D%2C%0A%20%20%20%20%20%20%20%20%20%20%20%20%20%20%20%20%7B%7D%0A%20%20%20%20%20%20%20%20%20%20%20%20%29.addTo%28map_2fafacce87ab4c5fbbbc1a27c8873015%29%3B%0A%20%20%20%20%20%20%20%20%0A%20%20%20%20%0A%20%20%20%20%20%20%20%20%20%20%20%20var%20icon_206fb7b97a0c45bea977ef716f7ba589%20%3D%20L.AwesomeMarkers.icon%28%0A%20%20%20%20%20%20%20%20%20%20%20%20%20%20%20%20%7B%22extraClasses%22%3A%20%22fa-rotate-0%22%2C%20%22icon%22%3A%20%22info-sign%22%2C%20%22iconColor%22%3A%20%22white%22%2C%20%22markerColor%22%3A%20%22blue%22%2C%20%22prefix%22%3A%20%22glyphicon%22%7D%0A%20%20%20%20%20%20%20%20%20%20%20%20%29%3B%0A%20%20%20%20%20%20%20%20%20%20%20%20marker_ab2248d8841744c7adeb494311d9411c.setIcon%28icon_206fb7b97a0c45bea977ef716f7ba589%29%3B%0A%20%20%20%20%20%20%20%20%0A%20%20%20%20%0A%20%20%20%20%20%20%20%20var%20popup_95f88bbf7b534a7f97263763e2725b27%20%3D%20L.popup%28%7B%22maxWidth%22%3A%20%22100%25%22%7D%29%3B%0A%0A%20%20%20%20%20%20%20%20%0A%20%20%20%20%20%20%20%20%20%20%20%20var%20html_9583b63f82494149bd06448ba56fcdba%20%3D%20%24%28%60%3Cdiv%20id%3D%22html_9583b63f82494149bd06448ba56fcdba%22%20style%3D%22width%3A%20100.0%25%3B%20height%3A%20100.0%25%3B%22%3ELa%20grande%20Halle%2C%20Rue%20Paul%20Massimi%2C%20Gerland%2C%20Lyon%207e%20Arrondissement%2C%20Lyon%2C%20M%C3%A9tropole%20de%20Lyon%2C%20Circonscription%20d%C3%A9partementale%20du%20Rh%C3%B4ne%2C%20Auvergne-Rh%C3%B4ne-Alpes%2C%20France%20m%C3%A9tropolitaine%2C%2069007%2C%20France%3C/div%3E%60%29%5B0%5D%3B%0A%20%20%20%20%20%20%20%20%20%20%20%20popup_95f88bbf7b534a7f97263763e2725b27.setContent%28html_9583b63f82494149bd06448ba56fcdba%29%3B%0A%20%20%20%20%20%20%20%20%0A%0A%20%20%20%20%20%20%20%20marker_ab2248d8841744c7adeb494311d9411c.bindPopup%28popup_95f88bbf7b534a7f97263763e2725b27%29%0A%20%20%20%20%20%20%20%20%3B%0A%0A%20%20%20%20%20%20%20%20%0A%20%20%20%20%0A%20%20%20%20%0A%20%20%20%20%20%20%20%20%20%20%20%20var%20marker_9b1c83d96da7463899fd0281546f7a4b%20%3D%20L.marker%28%0A%20%20%20%20%20%20%20%20%20%20%20%20%20%20%20%20%5B45.7375544%2C%204.8654587%5D%2C%0A%20%20%20%20%20%20%20%20%20%20%20%20%20%20%20%20%7B%7D%0A%20%20%20%20%20%20%20%20%20%20%20%20%29.addTo%28map_2fafacce87ab4c5fbbbc1a27c8873015%29%3B%0A%20%20%20%20%20%20%20%20%0A%20%20%20%20%0A%20%20%20%20%20%20%20%20%20%20%20%20var%20icon_f110401af985403eab183d04d346e106%20%3D%20L.AwesomeMarkers.icon%28%0A%20%20%20%20%20%20%20%20%20%20%20%20%20%20%20%20%7B%22extraClasses%22%3A%20%22fa-rotate-0%22%2C%20%22icon%22%3A%20%22info-sign%22%2C%20%22iconColor%22%3A%20%22white%22%2C%20%22markerColor%22%3A%20%22blue%22%2C%20%22prefix%22%3A%20%22glyphicon%22%7D%0A%20%20%20%20%20%20%20%20%20%20%20%20%29%3B%0A%20%20%20%20%20%20%20%20%20%20%20%20marker_9b1c83d96da7463899fd0281546f7a4b.setIcon%28icon_f110401af985403eab183d04d346e106%29%3B%0A%20%20%20%20%20%20%20%20%0A%20%20%20%20%0A%20%20%20%20%20%20%20%20var%20popup_3ade00a945bc4060a0c097457b7332f5%20%3D%20L.popup%28%7B%22maxWidth%22%3A%20%22100%25%22%7D%29%3B%0A%0A%20%20%20%20%20%20%20%20%0A%20%20%20%20%20%20%20%20%20%20%20%20var%20html_a11ec8112a0248ecab821079c5cb0574%20%3D%20%24%28%60%3Cdiv%20id%3D%22html_a11ec8112a0248ecab821079c5cb0574%22%20style%3D%22width%3A%20100.0%25%3B%20height%3A%20100.0%25%3B%22%3ECroix%20rouge%2C%20Rue%20Paul%20Cazeneuve%2C%20Le%20Bachut%2C%20Lyon%208e%20Arrondissement%2C%20Lyon%2C%20M%C3%A9tropole%20de%20Lyon%2C%20Circonscription%20d%C3%A9partementale%20du%20Rh%C3%B4ne%2C%20Auvergne-Rh%C3%B4ne-Alpes%2C%20France%20m%C3%A9tropolitaine%2C%2069008%2C%20France%3C/div%3E%60%29%5B0%5D%3B%0A%20%20%20%20%20%20%20%20%20%20%20%20popup_3ade00a945bc4060a0c097457b7332f5.setContent%28html_a11ec8112a0248ecab821079c5cb0574%29%3B%0A%20%20%20%20%20%20%20%20%0A%0A%20%20%20%20%20%20%20%20marker_9b1c83d96da7463899fd0281546f7a4b.bindPopup%28popup_3ade00a945bc4060a0c097457b7332f5%29%0A%20%20%20%20%20%20%20%20%3B%0A%0A%20%20%20%20%20%20%20%20%0A%20%20%20%20%0A%20%20%20%20%0A%20%20%20%20%20%20%20%20%20%20%20%20var%20marker_fb908110be5d4220a2917c9b8f9d737a%20%3D%20L.marker%28%0A%20%20%20%20%20%20%20%20%20%20%20%20%20%20%20%20%5B45.7372951%2C%204.8651685%5D%2C%0A%20%20%20%20%20%20%20%20%20%20%20%20%20%20%20%20%7B%7D%0A%20%20%20%20%20%20%20%20%20%20%20%20%29.addTo%28map_2fafacce87ab4c5fbbbc1a27c8873015%29%3B%0A%20%20%20%20%20%20%20%20%0A%20%20%20%20%0A%20%20%20%20%20%20%20%20%20%20%20%20var%20icon_5a0559ff71cc4998835c9e1d5195f6ac%20%3D%20L.AwesomeMarkers.icon%28%0A%20%20%20%20%20%20%20%20%20%20%20%20%20%20%20%20%7B%22extraClasses%22%3A%20%22fa-rotate-0%22%2C%20%22icon%22%3A%20%22info-sign%22%2C%20%22iconColor%22%3A%20%22white%22%2C%20%22markerColor%22%3A%20%22blue%22%2C%20%22prefix%22%3A%20%22glyphicon%22%7D%0A%20%20%20%20%20%20%20%20%20%20%20%20%29%3B%0A%20%20%20%20%20%20%20%20%20%20%20%20marker_fb908110be5d4220a2917c9b8f9d737a.setIcon%28icon_5a0559ff71cc4998835c9e1d5195f6ac%29%3B%0A%20%20%20%20%20%20%20%20%0A%20%20%20%20%0A%20%20%20%20%20%20%20%20var%20popup_59c67a7a737046c784fe4184803f0d0b%20%3D%20L.popup%28%7B%22maxWidth%22%3A%20%22100%25%22%7D%29%3B%0A%0A%20%20%20%20%20%20%20%20%0A%20%20%20%20%20%20%20%20%20%20%20%20var%20html_f6c65bd4411b4984a0328ba27379daa2%20%3D%20%24%28%60%3Cdiv%20id%3D%22html_f6c65bd4411b4984a0328ba27379daa2%22%20style%3D%22width%3A%20100.0%25%3B%20height%3A%20100.0%25%3B%22%3E16%2C%20Rue%20Paul%20Cazeneuve%2C%20Les%20%C3%89tats-Unis%2C%20Lyon%208e%20Arrondissement%2C%20Lyon%2C%20M%C3%A9tropole%20de%20Lyon%2C%20Circonscription%20d%C3%A9partementale%20du%20Rh%C3%B4ne%2C%20Auvergne-Rh%C3%B4ne-Alpes%2C%20France%20m%C3%A9tropolitaine%2C%2069008%2C%20France%3C/div%3E%60%29%5B0%5D%3B%0A%20%20%20%20%20%20%20%20%20%20%20%20popup_59c67a7a737046c784fe4184803f0d0b.setContent%28html_f6c65bd4411b4984a0328ba27379daa2%29%3B%0A%20%20%20%20%20%20%20%20%0A%0A%20%20%20%20%20%20%20%20marker_fb908110be5d4220a2917c9b8f9d737a.bindPopup%28popup_59c67a7a737046c784fe4184803f0d0b%29%0A%20%20%20%20%20%20%20%20%3B%0A%0A%20%20%20%20%20%20%20%20%0A%20%20%20%20%0A%3C/script%3E onload=\"this.contentDocument.open();this.contentDocument.write(    decodeURIComponent(this.getAttribute('data-html')));this.contentDocument.close();\" allowfullscreen webkitallowfullscreen mozallowfullscreen></iframe></div></div>"
      ],
      "text/plain": [
       "<folium.folium.Map at 0x7f6dccbef4f0>"
      ]
     },
     "execution_count": 34,
     "metadata": {},
     "output_type": "execute_result"
    },
    {
     "name": "stdout",
     "output_type": "stream",
     "text": [
      "time: 164 ms (started: 2021-01-31 16:25:43 +01:00)\n"
     ]
    }
   ],
   "source": [
    "for i in listgps:    \n",
    "    folium.Marker(\n",
    "        location=[i[0], i[1]], # coordinates for the marker (Earth Lab at CU Boulder)\n",
    "        popup= i[2], # pop-up label for the marker\n",
    "        icon=folium.Icon()\n",
    "    ).add_to(m)\n",
    "\n",
    "\n",
    "m"
   ]
  },
  {
   "cell_type": "code",
   "execution_count": null,
   "metadata": {},
   "outputs": [],
   "source": []
  }
 ],
 "metadata": {
  "kernelspec": {
   "display_name": "Python 3",
   "language": "python",
   "name": "python3"
  },
  "language_info": {
   "codemirror_mode": {
    "name": "ipython",
    "version": 3
   },
   "file_extension": ".py",
   "mimetype": "text/x-python",
   "name": "python",
   "nbconvert_exporter": "python",
   "pygments_lexer": "ipython3",
   "version": "3.8.5"
  }
 },
 "nbformat": 4,
 "nbformat_minor": 4
}
