{
 "cells": [
  {
   "cell_type": "markdown",
   "metadata": {},
   "source": [
    "Voici le code qui permet de ressortir des informations des mails. La première partie est consacrée à une analyse qui permet de mettre en évidence la façon dont quelqu'un utilise sa boite mail. La deuxième partie est une analyse NLP qui permet de mettre en évidence comment gmail traite nos mails."
   ]
  },
  {
   "cell_type": "markdown",
   "metadata": {},
   "source": [
    "# I) Activité"
   ]
  },
  {
   "cell_type": "code",
   "execution_count": 1,
   "metadata": {},
   "outputs": [],
   "source": [
    "import mailbox\n",
    "mboxfile = './Tous les messages, y compris ceux du dossier Spam .mbox'\n",
    "mbox = mailbox.mbox(mboxfile)"
   ]
  },
  {
   "cell_type": "code",
   "execution_count": 2,
   "metadata": {
    "scrolled": false
   },
   "outputs": [
    {
     "name": "stdout",
     "output_type": "stream",
     "text": [
      "X-GM-THRID\n",
      "X-Gmail-Labels\n",
      "Delivered-To\n",
      "Received\n",
      "X-Google-Smtp-Source\n",
      "X-Received\n",
      "ARC-Seal\n",
      "ARC-Message-Signature\n",
      "ARC-Authentication-Results\n",
      "Return-Path\n",
      "Received\n",
      "Received-SPF\n",
      "Authentication-Results\n",
      "Received\n",
      "Received\n",
      "Date\n",
      "From\n",
      "To\n",
      "Message-ID\n",
      "Subject\n",
      "MIME-Version\n",
      "Content-Type\n"
     ]
    }
   ],
   "source": [
    "#ce qu'on trouve comment labels\n",
    "for key in mbox[0].keys():\n",
    "    print(key)"
   ]
  },
  {
   "cell_type": "code",
   "execution_count": 3,
   "metadata": {},
   "outputs": [],
   "source": [
    "#convertir en csv pour simplifier le format\n",
    "import pandas as pd\n",
    "import csv \n",
    "with open(\"mbox.csv\", \"w\") as outfile:\n",
    "    writer = csv.writer(outfile)\n",
    "    for message in mbox:\n",
    "        writer.writerow([message['subject'], message['from'], message['date'], message['to'],\n",
    "                         message['X-Gmail-Labels'], message['X-GM-THRID']])"
   ]
  },
  {
   "cell_type": "code",
   "execution_count": 81,
   "metadata": {},
   "outputs": [],
   "source": [
    "df = pd.read_csv('mbox.csv', names=['subject', 'from', 'date', 'to', 'label', 'thread'])\n",
    "df['date'] = df['date'].apply(lambda x: pd.to_datetime(x, errors='coerce', utc=True))\n",
    "df = df[df['date'].notna()]"
   ]
  },
  {
   "cell_type": "code",
   "execution_count": 82,
   "metadata": {},
   "outputs": [
    {
     "data": {
      "text/html": [
       "<div>\n",
       "<style scoped>\n",
       "    .dataframe tbody tr th:only-of-type {\n",
       "        vertical-align: middle;\n",
       "    }\n",
       "\n",
       "    .dataframe tbody tr th {\n",
       "        vertical-align: top;\n",
       "    }\n",
       "\n",
       "    .dataframe thead th {\n",
       "        text-align: right;\n",
       "    }\n",
       "</style>\n",
       "<table border=\"1\" class=\"dataframe\">\n",
       "  <thead>\n",
       "    <tr style=\"text-align: right;\">\n",
       "      <th></th>\n",
       "      <th>subject</th>\n",
       "      <th>from</th>\n",
       "      <th>date</th>\n",
       "      <th>to</th>\n",
       "      <th>label</th>\n",
       "      <th>thread</th>\n",
       "    </tr>\n",
       "  </thead>\n",
       "  <tbody>\n",
       "    <tr>\n",
       "      <th>0</th>\n",
       "      <td>�������������������� �������������������� ����...</td>\n",
       "      <td>������������������������ �������� ������������...</td>\n",
       "      <td>2020-11-17 14:42:33+00:00</td>\n",
       "      <td>mendes.drv.em@gmail.com</td>\n",
       "      <td>=?UTF-8?Q?Spam,Cat=C3=A9gorie=C2=A0:_Mises_=C3...</td>\n",
       "      <td>1683618953472754384</td>\n",
       "    </tr>\n",
       "    <tr>\n",
       "      <th>1</th>\n",
       "      <td>=?windows-1252?Q?Dentelle._Perles._R=E9sille_:...</td>\n",
       "      <td>\"Promod\" &lt;promod@news.promod.fr&gt;</td>\n",
       "      <td>2020-11-13 11:16:04+00:00</td>\n",
       "      <td>&lt;mendes.drv.em@gmail.com&gt;</td>\n",
       "      <td>=?UTF-8?Q?Corbeille,Cat=C3=A9gorie=C2=A0:_Prom...</td>\n",
       "      <td>1683243576065313185</td>\n",
       "    </tr>\n",
       "    <tr>\n",
       "      <th>2</th>\n",
       "      <td>=?utf-8?B?UmFwcGVsIDogQk5QIFBhcmliYXMgZXQgbGVz...</td>\n",
       "      <td>\"BNP Paribas\" &lt;ne_pas_repondre@client.emailing...</td>\n",
       "      <td>2020-11-17 08:00:51+00:00</td>\n",
       "      <td>mendes.drv.em@gmail.com</td>\n",
       "      <td>=?UTF-8?Q?Bo=C3=AEte_de_r=C3=A9ception,Cat=C3=...</td>\n",
       "      <td>1683594880773699513</td>\n",
       "    </tr>\n",
       "    <tr>\n",
       "      <th>3</th>\n",
       "      <td>=?utf-8?q?=E2=8F=B3_Elsa,_n'oubliez_pas_vos_8=...</td>\n",
       "      <td>\"Uber Eats\" &lt;uber@uber.com&gt;</td>\n",
       "      <td>2020-11-13 17:09:13+00:00</td>\n",
       "      <td>&lt;mendes.drv.em@gmail.com&gt;</td>\n",
       "      <td>=?UTF-8?Q?Corbeille,Cat=C3=A9gorie=C2=A0:_Mise...</td>\n",
       "      <td>1683265792525925536</td>\n",
       "    </tr>\n",
       "    <tr>\n",
       "      <th>4</th>\n",
       "      <td>Inside: Newness =?UTF-8?Q?=F0=9F=91=80?=</td>\n",
       "      <td>\"Revolution Beauty\" &lt;support@email.revolutionb...</td>\n",
       "      <td>2020-11-13 10:03:01+00:00</td>\n",
       "      <td>mendes.drv.em@gmail.com</td>\n",
       "      <td>=?UTF-8?Q?Corbeille,Cat=C3=A9gorie=C2=A0:_Prom...</td>\n",
       "      <td>1683239106938206980</td>\n",
       "    </tr>\n",
       "  </tbody>\n",
       "</table>\n",
       "</div>"
      ],
      "text/plain": [
       "                                             subject  \\\n",
       "0  �������������������� �������������������� ����...   \n",
       "1  =?windows-1252?Q?Dentelle._Perles._R=E9sille_:...   \n",
       "2  =?utf-8?B?UmFwcGVsIDogQk5QIFBhcmliYXMgZXQgbGVz...   \n",
       "3  =?utf-8?q?=E2=8F=B3_Elsa,_n'oubliez_pas_vos_8=...   \n",
       "4           Inside: Newness =?UTF-8?Q?=F0=9F=91=80?=   \n",
       "\n",
       "                                                from  \\\n",
       "0  ������������������������ �������� ������������...   \n",
       "1                   \"Promod\" <promod@news.promod.fr>   \n",
       "2  \"BNP Paribas\" <ne_pas_repondre@client.emailing...   \n",
       "3                        \"Uber Eats\" <uber@uber.com>   \n",
       "4  \"Revolution Beauty\" <support@email.revolutionb...   \n",
       "\n",
       "                       date                         to  \\\n",
       "0 2020-11-17 14:42:33+00:00    mendes.drv.em@gmail.com   \n",
       "1 2020-11-13 11:16:04+00:00  <mendes.drv.em@gmail.com>   \n",
       "2 2020-11-17 08:00:51+00:00   mendes.drv.em@gmail.com    \n",
       "3 2020-11-13 17:09:13+00:00  <mendes.drv.em@gmail.com>   \n",
       "4 2020-11-13 10:03:01+00:00    mendes.drv.em@gmail.com   \n",
       "\n",
       "                                               label               thread  \n",
       "0  =?UTF-8?Q?Spam,Cat=C3=A9gorie=C2=A0:_Mises_=C3...  1683618953472754384  \n",
       "1  =?UTF-8?Q?Corbeille,Cat=C3=A9gorie=C2=A0:_Prom...  1683243576065313185  \n",
       "2  =?UTF-8?Q?Bo=C3=AEte_de_r=C3=A9ception,Cat=C3=...  1683594880773699513  \n",
       "3  =?UTF-8?Q?Corbeille,Cat=C3=A9gorie=C2=A0:_Mise...  1683265792525925536  \n",
       "4  =?UTF-8?Q?Corbeille,Cat=C3=A9gorie=C2=A0:_Prom...  1683239106938206980  "
      ]
     },
     "execution_count": 82,
     "metadata": {},
     "output_type": "execute_result"
    }
   ],
   "source": [
    "df.head(5)"
   ]
  },
  {
   "cell_type": "code",
   "execution_count": 83,
   "metadata": {},
   "outputs": [],
   "source": [
    "import re\n",
    "def get_email_address(string):\n",
    "\n",
    "    email = re.findall(r'<(.+?)>', string)\n",
    "    if not email:\n",
    "        email = list(filter(lambda y: '@' in y, string.split()))\n",
    "    return email[0] if email else np.NAN"
   ]
  },
  {
   "cell_type": "code",
   "execution_count": 84,
   "metadata": {},
   "outputs": [],
   "source": [
    "# apply to from column\n",
    "df['from'] = df['from'].apply(lambda x: get_email_address(x))\n",
    "\n",
    "# if email is from me, then it is sent, otherwiese it is in Inbox\n",
    "me = 'mendes.drv.em@gmail.com'\n",
    "#reçu ou envoyé => inbox ou sent pour les labels c'est plus parlant \n",
    "df['label'] = df['from'].apply(lambda x: 'sent' if x==me else 'inbox')\n",
    "\n",
    "# drop \"to\" column\n",
    "df.drop(columns='to', inplace=True)"
   ]
  },
  {
   "cell_type": "code",
   "execution_count": 85,
   "metadata": {
    "scrolled": true
   },
   "outputs": [
    {
     "data": {
      "text/html": [
       "<div>\n",
       "<style scoped>\n",
       "    .dataframe tbody tr th:only-of-type {\n",
       "        vertical-align: middle;\n",
       "    }\n",
       "\n",
       "    .dataframe tbody tr th {\n",
       "        vertical-align: top;\n",
       "    }\n",
       "\n",
       "    .dataframe thead th {\n",
       "        text-align: right;\n",
       "    }\n",
       "</style>\n",
       "<table border=\"1\" class=\"dataframe\">\n",
       "  <thead>\n",
       "    <tr style=\"text-align: right;\">\n",
       "      <th></th>\n",
       "      <th>subject</th>\n",
       "      <th>from</th>\n",
       "      <th>date</th>\n",
       "      <th>label</th>\n",
       "      <th>thread</th>\n",
       "    </tr>\n",
       "  </thead>\n",
       "  <tbody>\n",
       "    <tr>\n",
       "      <th>0</th>\n",
       "      <td>�������������������� �������������������� ����...</td>\n",
       "      <td>nooreply@UG3.onehabiftchanges.com</td>\n",
       "      <td>2020-11-17 14:42:33+00:00</td>\n",
       "      <td>inbox</td>\n",
       "      <td>1683618953472754384</td>\n",
       "    </tr>\n",
       "    <tr>\n",
       "      <th>1</th>\n",
       "      <td>=?windows-1252?Q?Dentelle._Perles._R=E9sille_:...</td>\n",
       "      <td>promod@news.promod.fr</td>\n",
       "      <td>2020-11-13 11:16:04+00:00</td>\n",
       "      <td>inbox</td>\n",
       "      <td>1683243576065313185</td>\n",
       "    </tr>\n",
       "    <tr>\n",
       "      <th>2</th>\n",
       "      <td>=?utf-8?B?UmFwcGVsIDogQk5QIFBhcmliYXMgZXQgbGVz...</td>\n",
       "      <td>ne_pas_repondre@client.emailing.bnpparibas</td>\n",
       "      <td>2020-11-17 08:00:51+00:00</td>\n",
       "      <td>inbox</td>\n",
       "      <td>1683594880773699513</td>\n",
       "    </tr>\n",
       "    <tr>\n",
       "      <th>3</th>\n",
       "      <td>=?utf-8?q?=E2=8F=B3_Elsa,_n'oubliez_pas_vos_8=...</td>\n",
       "      <td>uber@uber.com</td>\n",
       "      <td>2020-11-13 17:09:13+00:00</td>\n",
       "      <td>inbox</td>\n",
       "      <td>1683265792525925536</td>\n",
       "    </tr>\n",
       "    <tr>\n",
       "      <th>4</th>\n",
       "      <td>Inside: Newness =?UTF-8?Q?=F0=9F=91=80?=</td>\n",
       "      <td>support@email.revolutionbeauty.com</td>\n",
       "      <td>2020-11-13 10:03:01+00:00</td>\n",
       "      <td>inbox</td>\n",
       "      <td>1683239106938206980</td>\n",
       "    </tr>\n",
       "  </tbody>\n",
       "</table>\n",
       "</div>"
      ],
      "text/plain": [
       "                                             subject  \\\n",
       "0  �������������������� �������������������� ����...   \n",
       "1  =?windows-1252?Q?Dentelle._Perles._R=E9sille_:...   \n",
       "2  =?utf-8?B?UmFwcGVsIDogQk5QIFBhcmliYXMgZXQgbGVz...   \n",
       "3  =?utf-8?q?=E2=8F=B3_Elsa,_n'oubliez_pas_vos_8=...   \n",
       "4           Inside: Newness =?UTF-8?Q?=F0=9F=91=80?=   \n",
       "\n",
       "                                         from                      date  \\\n",
       "0           nooreply@UG3.onehabiftchanges.com 2020-11-17 14:42:33+00:00   \n",
       "1                       promod@news.promod.fr 2020-11-13 11:16:04+00:00   \n",
       "2  ne_pas_repondre@client.emailing.bnpparibas 2020-11-17 08:00:51+00:00   \n",
       "3                               uber@uber.com 2020-11-13 17:09:13+00:00   \n",
       "4          support@email.revolutionbeauty.com 2020-11-13 10:03:01+00:00   \n",
       "\n",
       "   label               thread  \n",
       "0  inbox  1683618953472754384  \n",
       "1  inbox  1683243576065313185  \n",
       "2  inbox  1683594880773699513  \n",
       "3  inbox  1683265792525925536  \n",
       "4  inbox  1683239106938206980  "
      ]
     },
     "execution_count": 85,
     "metadata": {},
     "output_type": "execute_result"
    }
   ],
   "source": [
    "df.head(5)"
   ]
  },
  {
   "cell_type": "code",
   "execution_count": 86,
   "metadata": {},
   "outputs": [],
   "source": [
    "# weekday name\n",
    "df['dayofweek'] = df['date'].dt.day_name()\n",
    "df['dayofweek'] = pd.Categorical(df['dayofweek'], categories=[\n",
    "    'Monday', 'Tuesday', 'Wednesday', 'Thursday', 'Friday',\n",
    "    'Saturday', 'Sunday'], ordered=True)\n",
    "\n",
    "# time of day\n",
    "df['timeofday'] = df['date'].apply(lambda x: x.hour + x.minute/60 + x.second/3600)\n",
    "\n",
    "# hour\n",
    "df['hour'] = df['date'].apply(lambda x: x.hour)\n",
    "\n",
    "# year integer\n",
    "df['year_int'] = df['date'].apply(lambda x: x.year)\n",
    "\n",
    "# year fraction\n",
    "df['year'] = df['date'].apply(lambda x: x.year + x.dayofyear/365.25)\n",
    "\n",
    "# set date to index\n",
    "df.index = df['date']\n",
    "del df['date']"
   ]
  },
  {
   "cell_type": "code",
   "execution_count": 87,
   "metadata": {},
   "outputs": [
    {
     "data": {
      "text/html": [
       "<div>\n",
       "<style scoped>\n",
       "    .dataframe tbody tr th:only-of-type {\n",
       "        vertical-align: middle;\n",
       "    }\n",
       "\n",
       "    .dataframe tbody tr th {\n",
       "        vertical-align: top;\n",
       "    }\n",
       "\n",
       "    .dataframe thead th {\n",
       "        text-align: right;\n",
       "    }\n",
       "</style>\n",
       "<table border=\"1\" class=\"dataframe\">\n",
       "  <thead>\n",
       "    <tr style=\"text-align: right;\">\n",
       "      <th></th>\n",
       "      <th>subject</th>\n",
       "      <th>from</th>\n",
       "      <th>label</th>\n",
       "      <th>thread</th>\n",
       "      <th>dayofweek</th>\n",
       "      <th>timeofday</th>\n",
       "      <th>hour</th>\n",
       "      <th>year_int</th>\n",
       "      <th>year</th>\n",
       "    </tr>\n",
       "    <tr>\n",
       "      <th>date</th>\n",
       "      <th></th>\n",
       "      <th></th>\n",
       "      <th></th>\n",
       "      <th></th>\n",
       "      <th></th>\n",
       "      <th></th>\n",
       "      <th></th>\n",
       "      <th></th>\n",
       "      <th></th>\n",
       "    </tr>\n",
       "  </thead>\n",
       "  <tbody>\n",
       "    <tr>\n",
       "      <th>2020-11-17 14:42:33+00:00</th>\n",
       "      <td>�������������������� �������������������� ����...</td>\n",
       "      <td>nooreply@UG3.onehabiftchanges.com</td>\n",
       "      <td>inbox</td>\n",
       "      <td>1683618953472754384</td>\n",
       "      <td>Tuesday</td>\n",
       "      <td>14.709167</td>\n",
       "      <td>14</td>\n",
       "      <td>2020</td>\n",
       "      <td>2020.881588</td>\n",
       "    </tr>\n",
       "    <tr>\n",
       "      <th>2020-11-13 11:16:04+00:00</th>\n",
       "      <td>=?windows-1252?Q?Dentelle._Perles._R=E9sille_:...</td>\n",
       "      <td>promod@news.promod.fr</td>\n",
       "      <td>inbox</td>\n",
       "      <td>1683243576065313185</td>\n",
       "      <td>Friday</td>\n",
       "      <td>11.267778</td>\n",
       "      <td>11</td>\n",
       "      <td>2020</td>\n",
       "      <td>2020.870637</td>\n",
       "    </tr>\n",
       "    <tr>\n",
       "      <th>2020-11-17 08:00:51+00:00</th>\n",
       "      <td>=?utf-8?B?UmFwcGVsIDogQk5QIFBhcmliYXMgZXQgbGVz...</td>\n",
       "      <td>ne_pas_repondre@client.emailing.bnpparibas</td>\n",
       "      <td>inbox</td>\n",
       "      <td>1683594880773699513</td>\n",
       "      <td>Tuesday</td>\n",
       "      <td>8.014167</td>\n",
       "      <td>8</td>\n",
       "      <td>2020</td>\n",
       "      <td>2020.881588</td>\n",
       "    </tr>\n",
       "    <tr>\n",
       "      <th>2020-11-13 17:09:13+00:00</th>\n",
       "      <td>=?utf-8?q?=E2=8F=B3_Elsa,_n'oubliez_pas_vos_8=...</td>\n",
       "      <td>uber@uber.com</td>\n",
       "      <td>inbox</td>\n",
       "      <td>1683265792525925536</td>\n",
       "      <td>Friday</td>\n",
       "      <td>17.153611</td>\n",
       "      <td>17</td>\n",
       "      <td>2020</td>\n",
       "      <td>2020.870637</td>\n",
       "    </tr>\n",
       "    <tr>\n",
       "      <th>2020-11-13 10:03:01+00:00</th>\n",
       "      <td>Inside: Newness =?UTF-8?Q?=F0=9F=91=80?=</td>\n",
       "      <td>support@email.revolutionbeauty.com</td>\n",
       "      <td>inbox</td>\n",
       "      <td>1683239106938206980</td>\n",
       "      <td>Friday</td>\n",
       "      <td>10.050278</td>\n",
       "      <td>10</td>\n",
       "      <td>2020</td>\n",
       "      <td>2020.870637</td>\n",
       "    </tr>\n",
       "  </tbody>\n",
       "</table>\n",
       "</div>"
      ],
      "text/plain": [
       "                                                                     subject  \\\n",
       "date                                                                           \n",
       "2020-11-17 14:42:33+00:00  �������������������� �������������������� ����...   \n",
       "2020-11-13 11:16:04+00:00  =?windows-1252?Q?Dentelle._Perles._R=E9sille_:...   \n",
       "2020-11-17 08:00:51+00:00  =?utf-8?B?UmFwcGVsIDogQk5QIFBhcmliYXMgZXQgbGVz...   \n",
       "2020-11-13 17:09:13+00:00  =?utf-8?q?=E2=8F=B3_Elsa,_n'oubliez_pas_vos_8=...   \n",
       "2020-11-13 10:03:01+00:00           Inside: Newness =?UTF-8?Q?=F0=9F=91=80?=   \n",
       "\n",
       "                                                                 from  label  \\\n",
       "date                                                                           \n",
       "2020-11-17 14:42:33+00:00           nooreply@UG3.onehabiftchanges.com  inbox   \n",
       "2020-11-13 11:16:04+00:00                       promod@news.promod.fr  inbox   \n",
       "2020-11-17 08:00:51+00:00  ne_pas_repondre@client.emailing.bnpparibas  inbox   \n",
       "2020-11-13 17:09:13+00:00                               uber@uber.com  inbox   \n",
       "2020-11-13 10:03:01+00:00          support@email.revolutionbeauty.com  inbox   \n",
       "\n",
       "                                        thread dayofweek  timeofday  hour  \\\n",
       "date                                                                        \n",
       "2020-11-17 14:42:33+00:00  1683618953472754384   Tuesday  14.709167    14   \n",
       "2020-11-13 11:16:04+00:00  1683243576065313185    Friday  11.267778    11   \n",
       "2020-11-17 08:00:51+00:00  1683594880773699513   Tuesday   8.014167     8   \n",
       "2020-11-13 17:09:13+00:00  1683265792525925536    Friday  17.153611    17   \n",
       "2020-11-13 10:03:01+00:00  1683239106938206980    Friday  10.050278    10   \n",
       "\n",
       "                           year_int         year  \n",
       "date                                              \n",
       "2020-11-17 14:42:33+00:00      2020  2020.881588  \n",
       "2020-11-13 11:16:04+00:00      2020  2020.870637  \n",
       "2020-11-17 08:00:51+00:00      2020  2020.881588  \n",
       "2020-11-13 17:09:13+00:00      2020  2020.870637  \n",
       "2020-11-13 10:03:01+00:00      2020  2020.870637  "
      ]
     },
     "execution_count": 87,
     "metadata": {},
     "output_type": "execute_result"
    }
   ],
   "source": [
    "df.head(5)"
   ]
  },
  {
   "cell_type": "code",
   "execution_count": 88,
   "metadata": {},
   "outputs": [
    {
     "name": "stdout",
     "output_type": "stream",
     "text": [
      "Tue, 13 Nov 2012 11:43 AM\n",
      "Tue, 17 Nov 2020 03:56 PM\n",
      "\n",
      "\n",
      "inbox    1935\n",
      "sent      343\n",
      "Name: label, dtype: int64\n"
     ]
    }
   ],
   "source": [
    "print(df.index.min().strftime('%a, %d %b %Y %I:%M %p'))\n",
    "print(df.index.max().strftime('%a, %d %b %Y %I:%M %p'))\n",
    "print('\\n')\n",
    "print(df['label'].value_counts())"
   ]
  },
  {
   "cell_type": "code",
   "execution_count": 89,
   "metadata": {},
   "outputs": [],
   "source": [
    "import numpy as np\n",
    "from matplotlib import ticker\n",
    "import matplotlib.pyplot as plt\n",
    "import datetime\n",
    "\n",
    "def plot_tod_vs_year(df, ax, color='C0', s=0.5, title=''):\n",
    "\n",
    "    ind = np.zeros(len(df), dtype='bool')\n",
    "\n",
    "    df[~ind].plot.scatter('year', 'timeofday', s=s, alpha=0.6, ax=ax, color=color)\n",
    "    ax.set_ylim(0, 24)\n",
    "    ax.yaxis.set_major_locator(ticker.MaxNLocator(8))\n",
    "    ax.set_yticklabels([datetime.datetime.strptime(str(int(np.mod(ts, 24))), \"%H\").strftime(\"%I %p\")\n",
    "                        for ts in ax.get_yticks()]);\n",
    "\n",
    "    ax.set_xlabel('')\n",
    "    ax.set_ylabel('')\n",
    "    ax.set_title(title)\n",
    "    ax.grid(ls=':', color='k')\n",
    "\n",
    "    return ax"
   ]
  },
  {
   "cell_type": "code",
   "execution_count": 90,
   "metadata": {},
   "outputs": [
    {
     "name": "stderr",
     "output_type": "stream",
     "text": [
      "<ipython-input-89-71f221687746>:13: UserWarning: FixedFormatter should only be used together with FixedLocator\n",
      "  ax.set_yticklabels([datetime.datetime.strptime(str(int(np.mod(ts, 24))), \"%H\").strftime(\"%I %p\")\n"
     ]
    },
    {
     "data": {
      "text/plain": [
       "<AxesSubplot:title={'center':'Received'}>"
      ]
     },
     "execution_count": 90,
     "metadata": {},
     "output_type": "execute_result"
    },
    {
     "data": {
      "image/png": "[encoded data removed]",
      "text/plain": [
       "<Figure size 1080x288 with 2 Axes>"
      ]
     },
     "metadata": {
      "needs_background": "light"
     },
     "output_type": "display_data"
    }
   ],
   "source": [
    "#heures d'envoie et de réception par année\n",
    "sent = df[df['label']=='sent']\n",
    "recvd = df[df['label']=='inbox']\n",
    "\n",
    "fig, ax = plt.subplots(nrows=1, ncols=2, figsize=(15, 4))\n",
    "\n",
    "plot_tod_vs_year(sent, ax[0], title='Sent')\n",
    "plot_tod_vs_year(recvd, ax[1], title='Received')"
   ]
  },
  {
   "cell_type": "code",
   "execution_count": 91,
   "metadata": {},
   "outputs": [
    {
     "data": {
      "image/png": "[encoded data removed]",
      "text/plain": [
       "<Figure size 576x360 with 1 Axes>"
      ]
     },
     "metadata": {
      "needs_background": "light"
     },
     "output_type": "display_data"
    }
   ],
   "source": [
    "#les jours les plus actifs ?\n",
    "sdw = sent.groupby('dayofweek').size() / len(sent)\n",
    "rdw = recvd.groupby('dayofweek').size() / len(recvd)\n",
    "\n",
    "df_tmp = pd.DataFrame(data={'Outgoing': sdw, 'Incoming':rdw})\n",
    "df_tmp.plot(kind='bar', rot=45, figsize=(8,5), alpha=0.5)\n",
    "plt.xlabel('');\n",
    "plt.ylabel('Fraction of weekly emails');\n",
    "plt.grid(ls=':', color='k', alpha=0.5)"
   ]
  },
  {
   "cell_type": "markdown",
   "metadata": {},
   "source": [
    "# II) NLP "
   ]
  },
  {
   "cell_type": "markdown",
   "metadata": {},
   "source": [
    "Nous avons décidé de nous baser sur une base de données approuvée et vérifiée ( qui peut se trouver par exemple ici : https://www.kaggle.com/uciml/sms-spam-collection-dataset/ ) pourfaire de l'apprentissage. Ainsi nous avons une base avec des milliers de messages avec 1 label ham ou spam.  "
   ]
  },
  {
   "cell_type": "code",
   "execution_count": 52,
   "metadata": {},
   "outputs": [
    {
     "data": {
      "text/html": [
       "<div>\n",
       "<style scoped>\n",
       "    .dataframe tbody tr th:only-of-type {\n",
       "        vertical-align: middle;\n",
       "    }\n",
       "\n",
       "    .dataframe tbody tr th {\n",
       "        vertical-align: top;\n",
       "    }\n",
       "\n",
       "    .dataframe thead th {\n",
       "        text-align: right;\n",
       "    }\n",
       "</style>\n",
       "<table border=\"1\" class=\"dataframe\">\n",
       "  <thead>\n",
       "    <tr style=\"text-align: right;\">\n",
       "      <th></th>\n",
       "      <th>label</th>\n",
       "      <th>content</th>\n",
       "    </tr>\n",
       "  </thead>\n",
       "  <tbody>\n",
       "    <tr>\n",
       "      <th>0</th>\n",
       "      <td>ham</td>\n",
       "      <td>Go until jurong point, crazy.. Available only ...</td>\n",
       "    </tr>\n",
       "    <tr>\n",
       "      <th>1</th>\n",
       "      <td>ham</td>\n",
       "      <td>Ok lar... Joking wif u oni...</td>\n",
       "    </tr>\n",
       "    <tr>\n",
       "      <th>2</th>\n",
       "      <td>spam</td>\n",
       "      <td>Free entry in 2 a wkly comp to win FA Cup fina...</td>\n",
       "    </tr>\n",
       "    <tr>\n",
       "      <th>3</th>\n",
       "      <td>ham</td>\n",
       "      <td>U dun say so early hor... U c already then say...</td>\n",
       "    </tr>\n",
       "    <tr>\n",
       "      <th>4</th>\n",
       "      <td>ham</td>\n",
       "      <td>Nah I don't think he goes to usf, he lives aro...</td>\n",
       "    </tr>\n",
       "  </tbody>\n",
       "</table>\n",
       "</div>"
      ],
      "text/plain": [
       "  label                                            content\n",
       "0   ham  Go until jurong point, crazy.. Available only ...\n",
       "1   ham                      Ok lar... Joking wif u oni...\n",
       "2  spam  Free entry in 2 a wkly comp to win FA Cup fina...\n",
       "3   ham  U dun say so early hor... U c already then say...\n",
       "4   ham  Nah I don't think he goes to usf, he lives aro..."
      ]
     },
     "execution_count": 52,
     "metadata": {},
     "output_type": "execute_result"
    }
   ],
   "source": [
    "import numpy as np \n",
    "import pandas as pd \n",
    "\n",
    "filepath= './spam.csv'\n",
    "def readData_rawSMS(filepath):\n",
    "    data_rawSMS = pd.read_csv(filepath, header=0, usecols=[0,1], encoding='latin-1')\n",
    "    data_rawSMS.columns = ['label', 'content']\n",
    "    return data_rawSMS\n",
    "\n",
    "data_rawSMS = readData_rawSMS(filepath)\n",
    "data_rawSMS.head()"
   ]
  },
  {
   "cell_type": "markdown",
   "metadata": {},
   "source": [
    "# **Text Pre-processing**"
   ]
  },
  {
   "cell_type": "code",
   "execution_count": 53,
   "metadata": {},
   "outputs": [
    {
     "name": "stdout",
     "output_type": "stream",
     "text": [
      "['i', 'me', 'my', 'myself', 'we', 'our', 'ours', 'ourselves', 'you', \"you're\", \"you've\", \"you'll\", \"you'd\", 'your', 'yours', 'yourself', 'yourselves', 'he', 'him', 'his', 'himself', 'she', \"she's\", 'her', 'hers', 'herself', 'it', \"it's\", 'its', 'itself', 'they', 'them', 'their', 'theirs', 'themselves', 'what', 'which', 'who', 'whom', 'this', 'that', \"that'll\", 'these', 'those', 'am', 'is', 'are', 'was', 'were', 'be', 'been', 'being', 'have', 'has', 'had', 'having', 'do', 'does', 'did', 'doing', 'a', 'an', 'the', 'and', 'but', 'if', 'or', 'because', 'as', 'until', 'while', 'of', 'at', 'by', 'for', 'with', 'about', 'against', 'between', 'into', 'through', 'during', 'before', 'after', 'above', 'below', 'to', 'from', 'up', 'down', 'in', 'out', 'on', 'off', 'over', 'under', 'again', 'further', 'then', 'once', 'here', 'there', 'when', 'where', 'why', 'how', 'all', 'any', 'both', 'each', 'few', 'more', 'most', 'other', 'some', 'such', 'no', 'nor', 'not', 'only', 'own', 'same', 'so', 'than', 'too', 'very', 's', 't', 'can', 'will', 'just', 'don', \"don't\", 'should', \"should've\", 'now', 'd', 'll', 'm', 'o', 're', 've', 'y', 'ain', 'aren', \"aren't\", 'couldn', \"couldn't\", 'didn', \"didn't\", 'doesn', \"doesn't\", 'hadn', \"hadn't\", 'hasn', \"hasn't\", 'haven', \"haven't\", 'isn', \"isn't\", 'ma', 'mightn', \"mightn't\", 'mustn', \"mustn't\", 'needn', \"needn't\", 'shan', \"shan't\", 'shouldn', \"shouldn't\", 'wasn', \"wasn't\", 'weren', \"weren't\", 'won', \"won't\", 'wouldn', \"wouldn't\"]\n",
      "!\"#$%&'()*+,-./:;<=>?@[\\]^_`{|}~\n"
     ]
    }
   ],
   "source": [
    "#import nltk\n",
    "#nltk.download()\n",
    "from nltk.corpus import stopwords\n",
    "#enlever les mots qui peuvent polluer la recherche et qui sont trouvés dans presques toutes les phrases \n",
    "print(stopwords.words('english'))\n",
    "\n",
    "import string\n",
    "print(string.punctuation)"
   ]
  },
  {
   "cell_type": "code",
   "execution_count": 54,
   "metadata": {},
   "outputs": [
    {
     "data": {
      "text/html": [
       "<div>\n",
       "<style scoped>\n",
       "    .dataframe tbody tr th:only-of-type {\n",
       "        vertical-align: middle;\n",
       "    }\n",
       "\n",
       "    .dataframe tbody tr th {\n",
       "        vertical-align: top;\n",
       "    }\n",
       "\n",
       "    .dataframe thead th {\n",
       "        text-align: right;\n",
       "    }\n",
       "</style>\n",
       "<table border=\"1\" class=\"dataframe\">\n",
       "  <thead>\n",
       "    <tr style=\"text-align: right;\">\n",
       "      <th></th>\n",
       "      <th>label</th>\n",
       "      <th>content</th>\n",
       "      <th>clean_msg</th>\n",
       "    </tr>\n",
       "  </thead>\n",
       "  <tbody>\n",
       "    <tr>\n",
       "      <th>0</th>\n",
       "      <td>ham</td>\n",
       "      <td>Go until jurong point, crazy.. Available only ...</td>\n",
       "      <td>go jurong point crazy available bugis n great ...</td>\n",
       "    </tr>\n",
       "    <tr>\n",
       "      <th>1</th>\n",
       "      <td>ham</td>\n",
       "      <td>Ok lar... Joking wif u oni...</td>\n",
       "      <td>ok lar joking wif oni</td>\n",
       "    </tr>\n",
       "    <tr>\n",
       "      <th>2</th>\n",
       "      <td>spam</td>\n",
       "      <td>Free entry in 2 a wkly comp to win FA Cup fina...</td>\n",
       "      <td>free entry wkly comp win fa cup final tkts 21s...</td>\n",
       "    </tr>\n",
       "    <tr>\n",
       "      <th>3</th>\n",
       "      <td>ham</td>\n",
       "      <td>U dun say so early hor... U c already then say...</td>\n",
       "      <td>dun say early hor c already say</td>\n",
       "    </tr>\n",
       "    <tr>\n",
       "      <th>4</th>\n",
       "      <td>ham</td>\n",
       "      <td>Nah I don't think he goes to usf, he lives aro...</td>\n",
       "      <td>nah think goes usf lives around though</td>\n",
       "    </tr>\n",
       "  </tbody>\n",
       "</table>\n",
       "</div>"
      ],
      "text/plain": [
       "  label                                            content  \\\n",
       "0   ham  Go until jurong point, crazy.. Available only ...   \n",
       "1   ham                      Ok lar... Joking wif u oni...   \n",
       "2  spam  Free entry in 2 a wkly comp to win FA Cup fina...   \n",
       "3   ham  U dun say so early hor... U c already then say...   \n",
       "4   ham  Nah I don't think he goes to usf, he lives aro...   \n",
       "\n",
       "                                           clean_msg  \n",
       "0  go jurong point crazy available bugis n great ...  \n",
       "1                              ok lar joking wif oni  \n",
       "2  free entry wkly comp win fa cup final tkts 21s...  \n",
       "3                    dun say early hor c already say  \n",
       "4             nah think goes usf lives around though  "
      ]
     },
     "execution_count": 54,
     "metadata": {},
     "output_type": "execute_result"
    }
   ],
   "source": [
    "def text_process(mess):\n",
    "    #Enlever la ponctuation , stopwords + retourner une liste avec un texte nettoyé \n",
    "    STOPWORDS = stopwords.words('english') + ['u', 'ü', 'ur', '4', '2', 'im', 'dont', 'doin', 'ure']\n",
    "    nopunc = [char for char in mess if char not in string.punctuation] \n",
    "    nopunc = ''.join(nopunc)\n",
    "    return ' '.join([word.lower() for word in nopunc.split() if word.lower() not in STOPWORDS])\n",
    "\n",
    "data_rawSMS['clean_msg'] = data_rawSMS.content.apply(text_process)\n",
    "data_rawSMS.head()"
   ]
  },
  {
   "cell_type": "code",
   "execution_count": 55,
   "metadata": {},
   "outputs": [
    {
     "name": "stdout",
     "output_type": "stream",
     "text": [
      "{'call': 576, 'get': 386, 'go': 278, 'ok': 277, 'ltgt': 276, 'free': 275, 'know': 257, 'like': 242, 'got': 238, 'ill': 237, 'good': 234, 'come': 226, 'time': 208, 'day': 202, 'love': 195, 'want': 192, 'send': 190, 'text': 188, 'going': 171, 'one': 170}\n"
     ]
    }
   ],
   "source": [
    "#les mots souvent retrouvés \n",
    "\n",
    "from collections import Counter\n",
    "\n",
    "def get_words(content):\n",
    "    words = []\n",
    "    for row in content:\n",
    "        for j in row.split():\n",
    "            words.append(j.strip())\n",
    "    return words\n",
    "\n",
    "counter = Counter(get_words(data_rawSMS['clean_msg']))\n",
    "most_common = dict(counter.most_common(20))\n",
    "print(most_common)"
   ]
  },
  {
   "cell_type": "markdown",
   "metadata": {},
   "source": [
    "# **Machine Learning workflow avec la Vectorization**\n",
    "\n",
    "\n",
    "\n",
    "**1) Diviser le training set et testing set**"
   ]
  },
  {
   "cell_type": "code",
   "execution_count": 56,
   "metadata": {},
   "outputs": [
    {
     "data": {
      "text/html": [
       "<div>\n",
       "<style scoped>\n",
       "    .dataframe tbody tr th:only-of-type {\n",
       "        vertical-align: middle;\n",
       "    }\n",
       "\n",
       "    .dataframe tbody tr th {\n",
       "        vertical-align: top;\n",
       "    }\n",
       "\n",
       "    .dataframe thead th {\n",
       "        text-align: right;\n",
       "    }\n",
       "</style>\n",
       "<table border=\"1\" class=\"dataframe\">\n",
       "  <thead>\n",
       "    <tr style=\"text-align: right;\">\n",
       "      <th></th>\n",
       "      <th>label</th>\n",
       "      <th>content</th>\n",
       "      <th>clean_msg</th>\n",
       "      <th>label_num</th>\n",
       "    </tr>\n",
       "  </thead>\n",
       "  <tbody>\n",
       "    <tr>\n",
       "      <th>0</th>\n",
       "      <td>ham</td>\n",
       "      <td>Go until jurong point, crazy.. Available only ...</td>\n",
       "      <td>go jurong point crazy available bugis n great ...</td>\n",
       "      <td>0</td>\n",
       "    </tr>\n",
       "    <tr>\n",
       "      <th>1</th>\n",
       "      <td>ham</td>\n",
       "      <td>Ok lar... Joking wif u oni...</td>\n",
       "      <td>ok lar joking wif oni</td>\n",
       "      <td>0</td>\n",
       "    </tr>\n",
       "    <tr>\n",
       "      <th>2</th>\n",
       "      <td>spam</td>\n",
       "      <td>Free entry in 2 a wkly comp to win FA Cup fina...</td>\n",
       "      <td>free entry wkly comp win fa cup final tkts 21s...</td>\n",
       "      <td>1</td>\n",
       "    </tr>\n",
       "    <tr>\n",
       "      <th>3</th>\n",
       "      <td>ham</td>\n",
       "      <td>U dun say so early hor... U c already then say...</td>\n",
       "      <td>dun say early hor c already say</td>\n",
       "      <td>0</td>\n",
       "    </tr>\n",
       "    <tr>\n",
       "      <th>4</th>\n",
       "      <td>ham</td>\n",
       "      <td>Nah I don't think he goes to usf, he lives aro...</td>\n",
       "      <td>nah think goes usf lives around though</td>\n",
       "      <td>0</td>\n",
       "    </tr>\n",
       "  </tbody>\n",
       "</table>\n",
       "</div>"
      ],
      "text/plain": [
       "  label                                            content  \\\n",
       "0   ham  Go until jurong point, crazy.. Available only ...   \n",
       "1   ham                      Ok lar... Joking wif u oni...   \n",
       "2  spam  Free entry in 2 a wkly comp to win FA Cup fina...   \n",
       "3   ham  U dun say so early hor... U c already then say...   \n",
       "4   ham  Nah I don't think he goes to usf, he lives aro...   \n",
       "\n",
       "                                           clean_msg  label_num  \n",
       "0  go jurong point crazy available bugis n great ...          0  \n",
       "1                              ok lar joking wif oni          0  \n",
       "2  free entry wkly comp win fa cup final tkts 21s...          1  \n",
       "3                    dun say early hor c already say          0  \n",
       "4             nah think goes usf lives around though          0  "
      ]
     },
     "execution_count": 56,
     "metadata": {},
     "output_type": "execute_result"
    }
   ],
   "source": [
    "data_rawSMS['label_num'] = data_rawSMS.label.map({'ham':0, 'spam':1})\n",
    "data_rawSMS.head()"
   ]
  },
  {
   "cell_type": "code",
   "execution_count": 57,
   "metadata": {},
   "outputs": [],
   "source": [
    "from sklearn.model_selection import train_test_split\n",
    "from sklearn.pipeline import Pipeline\n",
    "from sklearn.feature_extraction.text import CountVectorizer\n",
    "from sklearn.feature_extraction.text import TfidfTransformer\n",
    "from sklearn import metrics\n",
    "\n",
    "X = data_rawSMS.clean_msg\n",
    "y = data_rawSMS.label_num\n",
    "X_train, X_test, y_train, y_test = train_test_split(X, y, random_state=1, stratify=y)"
   ]
  },
  {
   "cell_type": "markdown",
   "metadata": {},
   "source": [
    "**2) Vectorisation**"
   ]
  },
  {
   "cell_type": "code",
   "execution_count": 58,
   "metadata": {},
   "outputs": [
    {
     "data": {
      "text/html": [
       "<div>\n",
       "<style scoped>\n",
       "    .dataframe tbody tr th:only-of-type {\n",
       "        vertical-align: middle;\n",
       "    }\n",
       "\n",
       "    .dataframe tbody tr th {\n",
       "        vertical-align: top;\n",
       "    }\n",
       "\n",
       "    .dataframe thead th {\n",
       "        text-align: right;\n",
       "    }\n",
       "</style>\n",
       "<table border=\"1\" class=\"dataframe\">\n",
       "  <thead>\n",
       "    <tr style=\"text-align: right;\">\n",
       "      <th></th>\n",
       "      <th>008704050406</th>\n",
       "      <th>0089my</th>\n",
       "      <th>01223585236</th>\n",
       "      <th>01223585334</th>\n",
       "      <th>0125698789</th>\n",
       "      <th>02</th>\n",
       "      <th>020603</th>\n",
       "      <th>0207</th>\n",
       "      <th>02070836089</th>\n",
       "      <th>02073162414</th>\n",
       "      <th>...</th>\n",
       "      <th>zyada</th>\n",
       "      <th>åð</th>\n",
       "      <th>åòits</th>\n",
       "      <th>åômorrow</th>\n",
       "      <th>ìll</th>\n",
       "      <th>ìï</th>\n",
       "      <th>ûªve</th>\n",
       "      <th>ûïharry</th>\n",
       "      <th>ûò</th>\n",
       "      <th>ûówell</th>\n",
       "    </tr>\n",
       "  </thead>\n",
       "  <tbody>\n",
       "    <tr>\n",
       "      <th>0</th>\n",
       "      <td>0</td>\n",
       "      <td>0</td>\n",
       "      <td>0</td>\n",
       "      <td>0</td>\n",
       "      <td>0</td>\n",
       "      <td>0</td>\n",
       "      <td>0</td>\n",
       "      <td>0</td>\n",
       "      <td>0</td>\n",
       "      <td>0</td>\n",
       "      <td>...</td>\n",
       "      <td>0</td>\n",
       "      <td>0</td>\n",
       "      <td>0</td>\n",
       "      <td>0</td>\n",
       "      <td>0</td>\n",
       "      <td>0</td>\n",
       "      <td>0</td>\n",
       "      <td>0</td>\n",
       "      <td>0</td>\n",
       "      <td>0</td>\n",
       "    </tr>\n",
       "    <tr>\n",
       "      <th>1</th>\n",
       "      <td>0</td>\n",
       "      <td>0</td>\n",
       "      <td>0</td>\n",
       "      <td>0</td>\n",
       "      <td>0</td>\n",
       "      <td>0</td>\n",
       "      <td>0</td>\n",
       "      <td>0</td>\n",
       "      <td>0</td>\n",
       "      <td>0</td>\n",
       "      <td>...</td>\n",
       "      <td>0</td>\n",
       "      <td>0</td>\n",
       "      <td>0</td>\n",
       "      <td>0</td>\n",
       "      <td>0</td>\n",
       "      <td>0</td>\n",
       "      <td>0</td>\n",
       "      <td>0</td>\n",
       "      <td>0</td>\n",
       "      <td>0</td>\n",
       "    </tr>\n",
       "    <tr>\n",
       "      <th>2</th>\n",
       "      <td>0</td>\n",
       "      <td>0</td>\n",
       "      <td>0</td>\n",
       "      <td>0</td>\n",
       "      <td>0</td>\n",
       "      <td>0</td>\n",
       "      <td>0</td>\n",
       "      <td>0</td>\n",
       "      <td>0</td>\n",
       "      <td>0</td>\n",
       "      <td>...</td>\n",
       "      <td>0</td>\n",
       "      <td>0</td>\n",
       "      <td>0</td>\n",
       "      <td>0</td>\n",
       "      <td>0</td>\n",
       "      <td>0</td>\n",
       "      <td>0</td>\n",
       "      <td>0</td>\n",
       "      <td>0</td>\n",
       "      <td>0</td>\n",
       "    </tr>\n",
       "    <tr>\n",
       "      <th>3</th>\n",
       "      <td>0</td>\n",
       "      <td>0</td>\n",
       "      <td>0</td>\n",
       "      <td>0</td>\n",
       "      <td>0</td>\n",
       "      <td>0</td>\n",
       "      <td>0</td>\n",
       "      <td>0</td>\n",
       "      <td>0</td>\n",
       "      <td>0</td>\n",
       "      <td>...</td>\n",
       "      <td>0</td>\n",
       "      <td>0</td>\n",
       "      <td>0</td>\n",
       "      <td>0</td>\n",
       "      <td>0</td>\n",
       "      <td>0</td>\n",
       "      <td>0</td>\n",
       "      <td>0</td>\n",
       "      <td>0</td>\n",
       "      <td>0</td>\n",
       "    </tr>\n",
       "    <tr>\n",
       "      <th>4</th>\n",
       "      <td>0</td>\n",
       "      <td>0</td>\n",
       "      <td>0</td>\n",
       "      <td>0</td>\n",
       "      <td>0</td>\n",
       "      <td>0</td>\n",
       "      <td>0</td>\n",
       "      <td>0</td>\n",
       "      <td>0</td>\n",
       "      <td>0</td>\n",
       "      <td>...</td>\n",
       "      <td>0</td>\n",
       "      <td>0</td>\n",
       "      <td>0</td>\n",
       "      <td>0</td>\n",
       "      <td>0</td>\n",
       "      <td>0</td>\n",
       "      <td>0</td>\n",
       "      <td>0</td>\n",
       "      <td>0</td>\n",
       "      <td>0</td>\n",
       "    </tr>\n",
       "    <tr>\n",
       "      <th>...</th>\n",
       "      <td>...</td>\n",
       "      <td>...</td>\n",
       "      <td>...</td>\n",
       "      <td>...</td>\n",
       "      <td>...</td>\n",
       "      <td>...</td>\n",
       "      <td>...</td>\n",
       "      <td>...</td>\n",
       "      <td>...</td>\n",
       "      <td>...</td>\n",
       "      <td>...</td>\n",
       "      <td>...</td>\n",
       "      <td>...</td>\n",
       "      <td>...</td>\n",
       "      <td>...</td>\n",
       "      <td>...</td>\n",
       "      <td>...</td>\n",
       "      <td>...</td>\n",
       "      <td>...</td>\n",
       "      <td>...</td>\n",
       "      <td>...</td>\n",
       "    </tr>\n",
       "    <tr>\n",
       "      <th>4174</th>\n",
       "      <td>0</td>\n",
       "      <td>0</td>\n",
       "      <td>0</td>\n",
       "      <td>0</td>\n",
       "      <td>0</td>\n",
       "      <td>0</td>\n",
       "      <td>0</td>\n",
       "      <td>0</td>\n",
       "      <td>0</td>\n",
       "      <td>0</td>\n",
       "      <td>...</td>\n",
       "      <td>0</td>\n",
       "      <td>0</td>\n",
       "      <td>0</td>\n",
       "      <td>0</td>\n",
       "      <td>0</td>\n",
       "      <td>0</td>\n",
       "      <td>0</td>\n",
       "      <td>0</td>\n",
       "      <td>0</td>\n",
       "      <td>0</td>\n",
       "    </tr>\n",
       "    <tr>\n",
       "      <th>4175</th>\n",
       "      <td>0</td>\n",
       "      <td>0</td>\n",
       "      <td>0</td>\n",
       "      <td>0</td>\n",
       "      <td>0</td>\n",
       "      <td>0</td>\n",
       "      <td>0</td>\n",
       "      <td>0</td>\n",
       "      <td>0</td>\n",
       "      <td>0</td>\n",
       "      <td>...</td>\n",
       "      <td>0</td>\n",
       "      <td>0</td>\n",
       "      <td>0</td>\n",
       "      <td>0</td>\n",
       "      <td>0</td>\n",
       "      <td>0</td>\n",
       "      <td>0</td>\n",
       "      <td>0</td>\n",
       "      <td>0</td>\n",
       "      <td>0</td>\n",
       "    </tr>\n",
       "    <tr>\n",
       "      <th>4176</th>\n",
       "      <td>0</td>\n",
       "      <td>0</td>\n",
       "      <td>0</td>\n",
       "      <td>0</td>\n",
       "      <td>0</td>\n",
       "      <td>0</td>\n",
       "      <td>0</td>\n",
       "      <td>0</td>\n",
       "      <td>0</td>\n",
       "      <td>0</td>\n",
       "      <td>...</td>\n",
       "      <td>0</td>\n",
       "      <td>0</td>\n",
       "      <td>0</td>\n",
       "      <td>0</td>\n",
       "      <td>0</td>\n",
       "      <td>0</td>\n",
       "      <td>0</td>\n",
       "      <td>0</td>\n",
       "      <td>0</td>\n",
       "      <td>0</td>\n",
       "    </tr>\n",
       "    <tr>\n",
       "      <th>4177</th>\n",
       "      <td>0</td>\n",
       "      <td>0</td>\n",
       "      <td>0</td>\n",
       "      <td>0</td>\n",
       "      <td>0</td>\n",
       "      <td>0</td>\n",
       "      <td>0</td>\n",
       "      <td>0</td>\n",
       "      <td>0</td>\n",
       "      <td>0</td>\n",
       "      <td>...</td>\n",
       "      <td>0</td>\n",
       "      <td>0</td>\n",
       "      <td>0</td>\n",
       "      <td>0</td>\n",
       "      <td>0</td>\n",
       "      <td>0</td>\n",
       "      <td>0</td>\n",
       "      <td>0</td>\n",
       "      <td>0</td>\n",
       "      <td>0</td>\n",
       "    </tr>\n",
       "    <tr>\n",
       "      <th>4178</th>\n",
       "      <td>0</td>\n",
       "      <td>0</td>\n",
       "      <td>0</td>\n",
       "      <td>0</td>\n",
       "      <td>0</td>\n",
       "      <td>0</td>\n",
       "      <td>0</td>\n",
       "      <td>0</td>\n",
       "      <td>0</td>\n",
       "      <td>0</td>\n",
       "      <td>...</td>\n",
       "      <td>0</td>\n",
       "      <td>0</td>\n",
       "      <td>0</td>\n",
       "      <td>0</td>\n",
       "      <td>0</td>\n",
       "      <td>0</td>\n",
       "      <td>0</td>\n",
       "      <td>0</td>\n",
       "      <td>0</td>\n",
       "      <td>0</td>\n",
       "    </tr>\n",
       "  </tbody>\n",
       "</table>\n",
       "<p>4179 rows × 7983 columns</p>\n",
       "</div>"
      ],
      "text/plain": [
       "      008704050406  0089my  01223585236  01223585334  0125698789  02  020603  \\\n",
       "0                0       0            0            0           0   0       0   \n",
       "1                0       0            0            0           0   0       0   \n",
       "2                0       0            0            0           0   0       0   \n",
       "3                0       0            0            0           0   0       0   \n",
       "4                0       0            0            0           0   0       0   \n",
       "...            ...     ...          ...          ...         ...  ..     ...   \n",
       "4174             0       0            0            0           0   0       0   \n",
       "4175             0       0            0            0           0   0       0   \n",
       "4176             0       0            0            0           0   0       0   \n",
       "4177             0       0            0            0           0   0       0   \n",
       "4178             0       0            0            0           0   0       0   \n",
       "\n",
       "      0207  02070836089  02073162414  ...  zyada  åð  åòits  åômorrow  ìll  \\\n",
       "0        0            0            0  ...      0   0      0         0    0   \n",
       "1        0            0            0  ...      0   0      0         0    0   \n",
       "2        0            0            0  ...      0   0      0         0    0   \n",
       "3        0            0            0  ...      0   0      0         0    0   \n",
       "4        0            0            0  ...      0   0      0         0    0   \n",
       "...    ...          ...          ...  ...    ...  ..    ...       ...  ...   \n",
       "4174     0            0            0  ...      0   0      0         0    0   \n",
       "4175     0            0            0  ...      0   0      0         0    0   \n",
       "4176     0            0            0  ...      0   0      0         0    0   \n",
       "4177     0            0            0  ...      0   0      0         0    0   \n",
       "4178     0            0            0  ...      0   0      0         0    0   \n",
       "\n",
       "      ìï  ûªve  ûïharry  ûò  ûówell  \n",
       "0      0     0        0   0       0  \n",
       "1      0     0        0   0       0  \n",
       "2      0     0        0   0       0  \n",
       "3      0     0        0   0       0  \n",
       "4      0     0        0   0       0  \n",
       "...   ..   ...      ...  ..     ...  \n",
       "4174   0     0        0   0       0  \n",
       "4175   0     0        0   0       0  \n",
       "4176   0     0        0   0       0  \n",
       "4177   0     0        0   0       0  \n",
       "4178   0     0        0   0       0  \n",
       "\n",
       "[4179 rows x 7983 columns]"
      ]
     },
     "execution_count": 58,
     "metadata": {},
     "output_type": "execute_result"
    }
   ],
   "source": [
    "from sklearn.feature_extraction.text import CountVectorizer\n",
    "\n",
    "vect = CountVectorizer()\n",
    "# equivalently: combine fit and transform into a single step\n",
    "X_train_dtm = vect.fit_transform(X_train)\n",
    "pd.DataFrame(X_train_dtm.toarray(), columns=vect.get_feature_names())"
   ]
  },
  {
   "cell_type": "code",
   "execution_count": 59,
   "metadata": {},
   "outputs": [
    {
     "data": {
      "text/plain": [
       "<4179x7983 sparse matrix of type '<class 'numpy.float64'>'\n",
       "\twith 34778 stored elements in Compressed Sparse Row format>"
      ]
     },
     "execution_count": 59,
     "metadata": {},
     "output_type": "execute_result"
    }
   ],
   "source": [
    "# TfidfTransformer transform testing data (using fitted vocabulary) \n",
    "# into a document-term matrixvect = CountVectorizer()\n",
    "\n",
    "tfidf_transformer = TfidfTransformer()\n",
    "tfidf_transformer.fit(X_train_dtm)\n",
    "tfidf_transformer.transform(X_train_dtm)"
   ]
  },
  {
   "cell_type": "code",
   "execution_count": 60,
   "metadata": {},
   "outputs": [
    {
     "name": "stdout",
     "output_type": "stream",
     "text": [
      "[[0 0 0 ... 0 0 0]\n",
      " [0 0 0 ... 0 0 0]\n",
      " [0 0 0 ... 0 0 0]\n",
      " ...\n",
      " [0 0 0 ... 0 0 0]\n",
      " [0 0 0 ... 0 0 0]\n",
      " [0 0 0 ... 0 0 0]]\n"
     ]
    }
   ],
   "source": [
    "X_test_dtm = vect.transform(X_test)\n",
    "print(X_test_dtm.toarray())"
   ]
  },
  {
   "cell_type": "markdown",
   "metadata": {},
   "source": [
    "**3) Construction et evaluation du model**"
   ]
  },
  {
   "cell_type": "code",
   "execution_count": 61,
   "metadata": {},
   "outputs": [
    {
     "name": "stdout",
     "output_type": "stream",
     "text": [
      "CPU times: user 126 ms, sys: 109 µs, total: 126 ms\n",
      "Wall time: 124 ms\n"
     ]
    }
   ],
   "source": [
    "from sklearn.ensemble import RandomForestClassifier\n",
    "rf = RandomForestClassifier(n_estimators=20, random_state=0)\n",
    "\n",
    "# train the model using X_train_dtm (timing it with an IPython \"magic command\")\n",
    "%time clf = rf.fit(X_train_dtm, y_train)"
   ]
  },
  {
   "cell_type": "code",
   "execution_count": 62,
   "metadata": {},
   "outputs": [
    {
     "name": "stdout",
     "output_type": "stream",
     "text": [
      "DecisionTreeClassifier(max_features='auto', random_state=1537364731) 543\n"
     ]
    }
   ],
   "source": [
    "# Extract single tree\n",
    "estimator = rf.estimators_[5]\n",
    "\n",
    "n_nodes = rf.estimators_[4].tree_.node_count\n",
    "print(estimator, n_nodes)"
   ]
  },
  {
   "cell_type": "code",
   "execution_count": 63,
   "metadata": {},
   "outputs": [
    {
     "name": "stdout",
     "output_type": "stream",
     "text": [
      "【 Testing 】\n",
      "Accuracy score: 0.968413496051687\n",
      "Precision score: 1.0\n",
      "Recall score: 0.7647058823529411\n",
      "F1 score: 0.8666666666666666\n",
      "              precision    recall  f1-score   support\n",
      "\n",
      "           0       0.96      1.00      0.98      1206\n",
      "           1       1.00      0.76      0.87       187\n",
      "\n",
      "    accuracy                           0.97      1393\n",
      "   macro avg       0.98      0.88      0.92      1393\n",
      "weighted avg       0.97      0.97      0.97      1393\n",
      "\n"
     ]
    }
   ],
   "source": [
    "from sklearn.metrics import classification_report, confusion_matrix\n",
    "\n",
    "y_predTest_class = rf.predict(X_test_dtm)\n",
    "\n",
    "print(\"【 Testing 】\")\n",
    "print('Accuracy score: {}'.format(metrics.accuracy_score(y_test, y_predTest_class)))\n",
    "print('Precision score: {}'.format(metrics.precision_score(y_test, y_predTest_class)))\n",
    "print('Recall score: {}'.format(metrics.recall_score(y_test,y_predTest_class)))\n",
    "print('F1 score: {}'.format(metrics.f1_score(y_test, y_predTest_class)))\n",
    "\n",
    "print(classification_report(y_test,y_predTest_class))\n"
   ]
  },
  {
   "cell_type": "code",
   "execution_count": 64,
   "metadata": {},
   "outputs": [
    {
     "data": {
      "text/plain": [
       "0.9836978210551519"
      ]
     },
     "execution_count": 64,
     "metadata": {},
     "output_type": "execute_result"
    }
   ],
   "source": [
    "from sklearn.metrics import roc_auc_score\n",
    "roc_auc_score(y_test, clf.predict_proba(X_test_dtm)[:,1])"
   ]
  },
  {
   "cell_type": "markdown",
   "metadata": {},
   "source": [
    "De bons scores !"
   ]
  },
  {
   "cell_type": "markdown",
   "metadata": {},
   "source": [
    "# **Nous pouvons maintenant tester nos mails et prédire si c'est un SPAM ou pas.**"
   ]
  },
  {
   "cell_type": "code",
   "execution_count": 66,
   "metadata": {
    "scrolled": false
   },
   "outputs": [],
   "source": [
    "# pip install deep-translator\n",
    "from deep_translator import GoogleTranslator\n",
    "\n",
    "#erreur quand sujet du mail très mal formaté\n",
    "with open(\"mail_nlp.csv\", \"w\") as outfile:\n",
    "    writer = csv.writer(outfile)\n",
    "    for message in mbox:\n",
    "        try:\n",
    "            translated = GoogleTranslator(source='auto', target='en').translate(message['subject']) \n",
    "            writer.writerow([translated])\n",
    "        except Exception:\n",
    "            pass\n",
    "        "
   ]
  },
  {
   "cell_type": "code",
   "execution_count": 78,
   "metadata": {},
   "outputs": [
    {
     "name": "stdout",
     "output_type": "stream",
     "text": [
      "['[GitHub] @lsdch has invited you to join the @GOTIT-DEV organization', 'COVID-19: How to reach Matmut?', 'jph69160@gmail.com sent you files via WeTransfer', 'Mme LOURO PIEDADE, your consumption in euros every day!']\n"
     ]
    }
   ],
   "source": [
    "import pandas as pd\n",
    "\n",
    "#pour filtrer les mails ayant des caractères difficiles à comprendre\n",
    "mot=\"=?\"\n",
    "\n",
    "df = pd.read_csv('mail_nlp.csv', names=['subject'])\n",
    "\n",
    "Liste_mail= []\n",
    "for i in df['subject']:\n",
    "    if mot not in i  : \n",
    "        Liste_mail.append(i)\n",
    "\n",
    "#choisir un intervalle de mail à regarder pour plus de rapidité\n",
    "print(Liste_mail[18:22])\n"
   ]
  },
  {
   "cell_type": "code",
   "execution_count": 80,
   "metadata": {
    "scrolled": false
   },
   "outputs": [
    {
     "name": "stdout",
     "output_type": "stream",
     "text": [
      "github lsdch invited join gotitdev organization\n",
      "ham: [GitHub] @lsdch has invited you to join the @GOTIT-DEV organization\n",
      "*************************\n",
      "covid19 reach matmut\n",
      "ham: COVID-19: How to reach Matmut?\n",
      "*************************\n",
      "jph69160gmailcom sent files via wetransfer\n",
      "ham: jph69160@gmail.com sent you files via WeTransfer\n",
      "*************************\n",
      "mme louro piedade consumption euros every day\n",
      "ham: Mme LOURO PIEDADE, your consumption in euros every day!\n",
      "*************************\n"
     ]
    }
   ],
   "source": [
    "for mail in Liste_mail[18:22]:\n",
    "    clean_text = text_process(mail)\n",
    "    print(clean_text)\n",
    "    simple_test_dtm = vect.transform([clean_text])\n",
    "    #print(simple_test_dtm.toarray(), simple_test_dtm.reshape(1,-1).shape)\n",
    "\n",
    "    y_predSimpleTest_class = rf.predict(simple_test_dtm.reshape(1,-1))\n",
    "    if int(y_predSimpleTest_class) == 1:\n",
    "        print ('SPAM: {}'.format(mail))\n",
    "    else:\n",
    "        print ('ham: {}'.format(mail)) \n",
    "    print(\"*************************\")"
   ]
  },
  {
   "cell_type": "markdown",
   "metadata": {},
   "source": [
    "Ces mails sont effectivement des mails qui ne sont pas des spams ! Il semble que notre modèle marche bien ! "
   ]
  },
  {
   "cell_type": "code",
   "execution_count": null,
   "metadata": {},
   "outputs": [],
   "source": []
  }
 ],
 "metadata": {
  "kernelspec": {
   "display_name": "Python 3",
   "language": "python",
   "name": "python3"
  },
  "language_info": {
   "codemirror_mode": {
    "name": "ipython",
    "version": 3
   },
   "file_extension": ".py",
   "mimetype": "text/x-python",
   "name": "python",
   "nbconvert_exporter": "python",
   "pygments_lexer": "ipython3",
   "version": "3.8.3"
  }
 },
 "nbformat": 4,
 "nbformat_minor": 4
}
